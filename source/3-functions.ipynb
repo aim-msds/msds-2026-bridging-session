{
 "cells": [
  {
   "cell_type": "markdown",
   "id": "5ccde3c8",
   "metadata": {},
   "source": [
    "# Functions"
   ]
  },
  {
   "cell_type": "markdown",
   "id": "71879011",
   "metadata": {},
   "source": [
    "References:\n",
    "\n",
    "[1] B Downey, A. (2012). *Think Python: How to Think Like a Computer Scientist-2e.*\n",
    "\n",
    "[2] Gries, P., Campbell, J., & Montojo, J. (2017). *Practical programming: an introduction to computer science using Python 3.6.* Pragmatic Bookshelf.\n",
    "\n",
    "[3] Matthes, E. (2023). *Python crash course: A hands-on, project-based introduction to programming.*"
   ]
  },
  {
   "cell_type": "markdown",
   "id": "81ed3770",
   "metadata": {},
   "source": [
    "## 1 Functions in Python"
   ]
  },
  {
   "cell_type": "markdown",
   "id": "cc2c838c",
   "metadata": {},
   "source": [
    "One way to improve the modularity of your code is to adhere to the **DRY** principle, which means *Don't repeat yourself*. In other words, whenever you found yourself doing the same thing over and over again, do consider replacing it with abstraction or modules to avoid redundancy in your code."
   ]
  },
  {
   "cell_type": "markdown",
   "id": "6776e523",
   "metadata": {},
   "source": [
    "### Defining functions in Python"
   ]
  },
  {
   "cell_type": "markdown",
   "id": "e9831fca",
   "metadata": {},
   "source": [
    "Say for example we have a friend that lives in the other side of the world (United States), and you're always talking about the weather and how hot it is in your respective place. The US typically uses `Fahrenheit` as their unit of temperature measurement, thus, we typically need to convert fahrenheit to celcius and back a lot. It would be nice to be able to do convert these units easily given any number."
   ]
  },
  {
   "cell_type": "code",
   "execution_count": null,
   "id": "0f8fb1e2",
   "metadata": {
    "ExecuteTime": {
     "end_time": "2024-01-26T19:04:38.677371Z",
     "start_time": "2024-01-26T19:04:38.668758Z"
    }
   },
   "outputs": [],
   "source": [
    "def convert_to_fahrenheit(celsius):\n",
    "    \"\"\"Convert a given temperature in celsius to fahrenheit\"\"\"\n",
    "    fahrenheit = 9/5*celsius + 32\n",
    "\n",
    "    return fahrenheit\n",
    "\n",
    "def convert_to_celsius(fahrenheit):\n",
    "    \"\"\"Convert a given temperature in fahrenheit to celsius\"\"\"\n",
    "    celsius = (fahrenheit - 32) * 5/9\n",
    "\n",
    "    return celsius"
   ]
  },
  {
   "cell_type": "markdown",
   "id": "188eef5d",
   "metadata": {},
   "source": [
    "The above code block are examples of *function definitions* in Python. Here the *function body* which contains the code that will be executed upon function *call* is indented.\n",
    "\n",
    "The first line of the function definition is called the *function header*. which contains the *function name* and its corresponding *arguments*. Arguments are expressions that appears between the parenthesis of a function that the function needs to execute the code block defined inside it. We input it upon *calling* the function.\n",
    "\n",
    "The general form of a function definitoin is as follows:\n",
    "\n",
    "```python\n",
    "def <<function_name>>(<<arguments>>):\n",
    "    <<function_body>>\n",
    "```"
   ]
  },
  {
   "cell_type": "markdown",
   "id": "dfd2a520",
   "metadata": {},
   "source": [
    "Defining a function creates a function object, which has the type `function`"
   ]
  },
  {
   "cell_type": "code",
   "execution_count": null,
   "id": "0bd5142d",
   "metadata": {
    "ExecuteTime": {
     "end_time": "2024-01-26T19:04:38.687916Z",
     "start_time": "2024-01-26T19:04:38.678959Z"
    }
   },
   "outputs": [],
   "source": [
    "type(convert_to_celsius)"
   ]
  },
  {
   "cell_type": "markdown",
   "id": "9c5dbcb2",
   "metadata": {},
   "source": [
    "You then call the function by using its name together with the required parameters enclosed in a parenthesis"
   ]
  },
  {
   "cell_type": "code",
   "execution_count": null,
   "id": "a383fd76",
   "metadata": {
    "ExecuteTime": {
     "end_time": "2024-01-26T19:04:38.691424Z",
     "start_time": "2024-01-26T19:04:38.689007Z"
    }
   },
   "outputs": [],
   "source": [
    "convert_to_celsius(98.6)"
   ]
  },
  {
   "cell_type": "code",
   "execution_count": null,
   "id": "46115d07",
   "metadata": {
    "ExecuteTime": {
     "end_time": "2024-01-26T19:04:38.695075Z",
     "start_time": "2024-01-26T19:04:38.693002Z"
    }
   },
   "outputs": [],
   "source": [
    "convert_to_fahrenheit(29.0)"
   ]
  },
  {
   "cell_type": "markdown",
   "id": "d1f210b7",
   "metadata": {},
   "source": [
    "Most function definitions have a `return` statement, that when executed, ends the function and produces a *value*.\n",
    "\n",
    "```python\n",
    "return <<expression>>\n",
    "```\n",
    "\n",
    "When Python executes a `return` statement, it evaluates the expression then produces the result of that expression as the result of the function call."
   ]
  },
  {
   "cell_type": "markdown",
   "id": "c15946db",
   "metadata": {},
   "source": [
    "### Passing arguments"
   ]
  },
  {
   "cell_type": "markdown",
   "id": "18efe965",
   "metadata": {},
   "source": [
    "When you pass arguments to a function, Python matches those arguments to the function's parameters depending on the way you specify them. You can pass arguments in a number of ways. You can use *positional arguments*, which need to be in the same order in which the parameters were written; *keyword arguments*, where each argument constists of a variable name and value."
   ]
  },
  {
   "cell_type": "code",
   "execution_count": null,
   "id": "6a7499dd",
   "metadata": {
    "ExecuteTime": {
     "end_time": "2024-01-26T19:04:38.699946Z",
     "start_time": "2024-01-26T19:04:38.697080Z"
    }
   },
   "outputs": [],
   "source": [
    "def describe_pet(animal_type, pet_name):\n",
    "    \"\"\"Display information about a pet.\"\"\"\n",
    "    print(f\"I have a {animal_type}.\")\n",
    "    print(f\"My {animal_type}'s name is {pet_name.title()}.\")"
   ]
  },
  {
   "cell_type": "code",
   "execution_count": null,
   "id": "73d2698d",
   "metadata": {
    "ExecuteTime": {
     "end_time": "2024-01-26T19:04:38.703841Z",
     "start_time": "2024-01-26T19:04:38.700933Z"
    }
   },
   "outputs": [],
   "source": [
    "describe_pet('dog', 'Maki')"
   ]
  },
  {
   "cell_type": "code",
   "execution_count": null,
   "id": "14433499",
   "metadata": {
    "ExecuteTime": {
     "end_time": "2024-01-26T19:04:38.706494Z",
     "start_time": "2024-01-26T19:04:38.704644Z"
    }
   },
   "outputs": [],
   "source": [
    "describe_pet(animal_type='cat', pet_name='Midnight')"
   ]
  },
  {
   "cell_type": "code",
   "execution_count": null,
   "id": "935e3254",
   "metadata": {
    "ExecuteTime": {
     "end_time": "2024-01-26T19:04:38.708922Z",
     "start_time": "2024-01-26T19:04:38.707280Z"
    }
   },
   "outputs": [],
   "source": [
    "describe_pet('Maki', 'dog')"
   ]
  },
  {
   "cell_type": "code",
   "execution_count": null,
   "id": "64fbf9c8",
   "metadata": {
    "ExecuteTime": {
     "end_time": "2024-01-26T19:04:38.711929Z",
     "start_time": "2024-01-26T19:04:38.709834Z"
    }
   },
   "outputs": [],
   "source": [
    "describe_pet(pet_name='Midnight', animal_type='cat')"
   ]
  },
  {
   "cell_type": "markdown",
   "id": "726e3b9a",
   "metadata": {},
   "source": [
    "Sometimes it makes sense to give an argument a default value, for example, in a scenario where you want to make the argument optional."
   ]
  },
  {
   "cell_type": "code",
   "execution_count": null,
   "id": "fdd9bd7b",
   "metadata": {
    "ExecuteTime": {
     "end_time": "2024-01-26T19:04:38.720616Z",
     "start_time": "2024-01-26T19:04:38.718160Z"
    }
   },
   "outputs": [],
   "source": [
    "def get_formatted_name(first_name, last_name, middle_name=''):\n",
    "    \"\"\"Return full name, neatly formatted written last name first.\"\"\"\n",
    "    if middle_name:\n",
    "        full_name = f\"{last_name}, {first_name} {middle_name}\"\n",
    "    else:\n",
    "        full_name = f\"{last_name}, {first_name}\"\n",
    "\n",
    "    return full_name.title()"
   ]
  },
  {
   "cell_type": "code",
   "execution_count": null,
   "id": "0ed660b5",
   "metadata": {
    "ExecuteTime": {
     "end_time": "2024-01-26T19:04:38.725853Z",
     "start_time": "2024-01-26T19:04:38.722020Z"
    }
   },
   "outputs": [],
   "source": [
    "get_formatted_name(\"Leodegario\", \"Lorenzo\")"
   ]
  },
  {
   "cell_type": "code",
   "execution_count": null,
   "id": "16f8388e",
   "metadata": {
    "ExecuteTime": {
     "end_time": "2024-01-26T19:04:38.728846Z",
     "start_time": "2024-01-26T19:04:38.726755Z"
    }
   },
   "outputs": [],
   "source": [
    "get_formatted_name(\"Leodegario\", \"Lorenzo\", \"Urgel\")"
   ]
  },
  {
   "cell_type": "markdown",
   "id": "b1d1e4a6",
   "metadata": {},
   "source": [
    "### Recursive Functions"
   ]
  },
  {
   "cell_type": "markdown",
   "id": "5ba2b551",
   "metadata": {},
   "source": [
    "Recursive functions are functions that calls itself in the body. Knowing how to write recursive functions has a benefit of creating repetitions without the use of loops. However, be cautious when implementing recursive functions as you can easily make a recursive function that doesn't terminate itself, or one that uses an excessive amount of memory or processing power. Nonetheless, when used correctly, it allows for an elegant approach to programming."
   ]
  },
  {
   "cell_type": "markdown",
   "id": "89361e7e",
   "metadata": {},
   "source": [
    "An example of a recursive function is the factorial definition, which mathematically can be written as:\n",
    "\n",
    "$$n! = n \\times (n-1)!$$"
   ]
  },
  {
   "cell_type": "code",
   "execution_count": null,
   "id": "13c3f2e5",
   "metadata": {
    "ExecuteTime": {
     "end_time": "2024-01-26T19:04:38.746968Z",
     "start_time": "2024-01-26T19:04:38.744900Z"
    }
   },
   "outputs": [],
   "source": [
    "def factorial(n):\n",
    "    \"\"\"Return the factorial of integer value n\"\"\"\n",
    "    if n == 0:\n",
    "        return 1\n",
    "    else:\n",
    "        return n * factorial(n-1)"
   ]
  },
  {
   "cell_type": "code",
   "execution_count": null,
   "id": "0e0835fe",
   "metadata": {
    "ExecuteTime": {
     "end_time": "2024-01-26T19:04:38.751251Z",
     "start_time": "2024-01-26T19:04:38.748273Z"
    }
   },
   "outputs": [],
   "source": [
    "factorial(4)"
   ]
  },
  {
   "cell_type": "markdown",
   "id": "4d2464a8",
   "metadata": {},
   "source": [
    "Another example is the definition of the Fibonacci numbers:"
   ]
  },
  {
   "cell_type": "markdown",
   "id": "d8f01c00",
   "metadata": {},
   "source": [
    "$$F_0 = 0, F_1 = 1$$\n",
    "$$F_n = F_{n-1} + F_{n-2}$$"
   ]
  },
  {
   "cell_type": "markdown",
   "id": "dd04c428",
   "metadata": {},
   "source": [
    "The first 6 Fibonacci numbers are:\n",
    "\n",
    "$$F_0 = 0$$\n",
    "$$F_1 = 1$$\n",
    "$$F_2 = 1$$\n",
    "$$F_3 = 2$$\n",
    "$$F_4 = 3$$\n",
    "$$F_5 = 5$$"
   ]
  },
  {
   "cell_type": "code",
   "execution_count": null,
   "id": "39b1ac92",
   "metadata": {
    "ExecuteTime": {
     "end_time": "2024-01-26T19:04:38.754761Z",
     "start_time": "2024-01-26T19:04:38.752070Z"
    }
   },
   "outputs": [],
   "source": [
    "def fibonacci(n):\n",
    "    \"\"\"Return the fibonacci number F_n\"\"\"\n",
    "    if n == 0:\n",
    "        return 0\n",
    "    elif n == 1:\n",
    "        return 1\n",
    "    else:\n",
    "        return fibonacci(n-1) + fibonacci(n-2)"
   ]
  },
  {
   "cell_type": "code",
   "execution_count": null,
   "id": "e56d7edb",
   "metadata": {
    "ExecuteTime": {
     "end_time": "2024-01-26T19:04:38.758997Z",
     "start_time": "2024-01-26T19:04:38.756310Z"
    }
   },
   "outputs": [],
   "source": [
    "fibonacci(5)"
   ]
  },
  {
   "cell_type": "markdown",
   "id": "a2a8de64",
   "metadata": {},
   "source": [
    "## 2 Designing New Functions: A Recipe"
   ]
  },
  {
   "cell_type": "markdown",
   "id": "5dd6cc45",
   "metadata": {},
   "source": [
    "Everytime you write a function, do figure out the answers to the following questions:\n",
    "\n",
    "1. What is an appropriate and informative name for the function?\n",
    "2. What are the parameters, and what types of information do they refer to?\n",
    "3. What calculations are you doing with that information?\n",
    "4. What information does the function return?\n",
    "5. Does it work like you expect it to?\n",
    "\n",
    "Part of the outcome upon completing this questions should be a working function. But equally important is the *documentation* for the function. Use three double quotes `\"\"\"` to start and end this documentation. This notation is called the *docstring* or the *documentation string*.\n",
    "\n",
    "Let's improve our temperature converter functions according to this framework.\n",
    "\n",
    "*Note: the docstring format we specifically use is the [numpy](https://numpydoc.readthedocs.io/en/latest/format.html) docstring format. Which is the common notation for many data science libraries that you'll eventually be using*"
   ]
  },
  {
   "cell_type": "code",
   "execution_count": null,
   "id": "0dbfdff5",
   "metadata": {
    "ExecuteTime": {
     "end_time": "2024-01-26T19:04:38.762192Z",
     "start_time": "2024-01-26T19:04:38.760034Z"
    }
   },
   "outputs": [],
   "source": [
    "def convert_to_fahrenheit(celsius: float) -> float:\n",
    "    \"\"\"Convert a given temperature in celsius to fahrenheit\n",
    "\n",
    "    Parameters\n",
    "    ----------\n",
    "    celsius : float\n",
    "        Input temperature in celsius\n",
    "\n",
    "    Returns\n",
    "    -------\n",
    "    fahrenheit : float\n",
    "        Temperature of the input in fahrenheit\n",
    "\n",
    "    Examples\n",
    "    --------\n",
    "    >>> convert_to_fahrenheit(37.0)\n",
    "    98.6\n",
    "    \"\"\"\n",
    "    fahrenheit = 9/5*celsius + 32\n",
    "\n",
    "    return fahrenheit\n",
    "\n",
    "def convert_to_celsius(fahrenheit: float) -> float:\n",
    "    \"\"\"Convert a given temperature in fahrenheit to celsius\n",
    "\n",
    "    Parameters\n",
    "    ----------\n",
    "    fahrenheit : float\n",
    "        Input temperature in fahrenheit\n",
    "\n",
    "    Returns\n",
    "    -------\n",
    "    celsius : float\n",
    "        Temperature of the input in celsius\n",
    "\n",
    "    Examples\n",
    "    --------\n",
    "    >>> convert_to_celsius(98.6)\n",
    "    37.0\n",
    "    \"\"\"\n",
    "    celsius = (fahrenheit - 32) * 5/9\n",
    "\n",
    "    return celsius"
   ]
  },
  {
   "cell_type": "markdown",
   "id": "e11ffb6d",
   "metadata": {},
   "source": [
    "### Functions That Python Provides"
   ]
  },
  {
   "cell_type": "markdown",
   "id": "1fb8da34",
   "metadata": {},
   "source": [
    "To improve also the readability and conciseness of your code, consider using built-in functions to perform common operations. We've already encountered some of these functions in the previous session which includes `print`, `float`, `int`, `help`, and `input`.\n",
    "\n",
    "Found [here](https://www.w3schools.com/python/python_ref_functions.asp) are other common built-in functions in Python: "
   ]
  },
  {
   "cell_type": "code",
   "execution_count": null,
   "id": "338b1487",
   "metadata": {
    "ExecuteTime": {
     "end_time": "2024-01-26T19:04:38.771842Z",
     "start_time": "2024-01-26T19:04:38.763724Z"
    }
   },
   "outputs": [],
   "source": [
    "abs(-9)"
   ]
  },
  {
   "cell_type": "code",
   "execution_count": null,
   "id": "9a73d407",
   "metadata": {
    "ExecuteTime": {
     "end_time": "2024-01-26T19:04:38.775513Z",
     "start_time": "2024-01-26T19:04:38.773061Z"
    }
   },
   "outputs": [],
   "source": [
    "round(1.337, 2)"
   ]
  },
  {
   "cell_type": "code",
   "execution_count": null,
   "id": "d3c3f1bf",
   "metadata": {
    "ExecuteTime": {
     "end_time": "2024-01-26T19:04:38.778900Z",
     "start_time": "2024-01-26T19:04:38.776405Z"
    }
   },
   "outputs": [],
   "source": [
    "help(round)"
   ]
  },
  {
   "cell_type": "code",
   "execution_count": null,
   "id": "37e1b66a",
   "metadata": {
    "ExecuteTime": {
     "end_time": "2024-01-26T19:04:38.788319Z",
     "start_time": "2024-01-26T19:04:38.779836Z"
    }
   },
   "outputs": [],
   "source": [
    "pow(25, 0.5)"
   ]
  },
  {
   "cell_type": "markdown",
   "id": "02af5d32",
   "metadata": {},
   "source": [
    "## 3 A Modular Approach to Program Organization"
   ]
  },
  {
   "cell_type": "markdown",
   "id": "f2bfaf68",
   "metadata": {},
   "source": [
    "> *Mathematicians don't prove every theorem from scratch. Instead, they build their proofs on truths their predecessors have already established. In the same way, it's rare for someone to write all of a program alone; it's much more common-and productive to make use of the millions of lines of code that other programmers have written before*"
   ]
  },
  {
   "cell_type": "markdown",
   "id": "4935b157",
   "metadata": {},
   "source": [
    "In Python, a *module* is a collection of variables and functions grouped together in a single file. These variables and functions usually help you accomplish a certain task. For example, the `math` module contains variables such as `pi` and mathematical functions such as `cos` (cosine) and `sqrt` (square root)."
   ]
  },
  {
   "cell_type": "markdown",
   "id": "352b01b1",
   "metadata": {},
   "source": [
    "### Importing Modules"
   ]
  },
  {
   "cell_type": "markdown",
   "id": "ff4b92eb",
   "metadata": {},
   "source": [
    "To gain access to the variables and functions defined in a module, we use the `import` statement."
   ]
  },
  {
   "cell_type": "markdown",
   "id": "00a396b5",
   "metadata": {},
   "source": [
    "#### `math` module"
   ]
  },
  {
   "cell_type": "code",
   "execution_count": null,
   "id": "088c440c",
   "metadata": {
    "ExecuteTime": {
     "end_time": "2024-01-26T19:04:38.792275Z",
     "start_time": "2024-01-26T19:04:38.790205Z"
    }
   },
   "outputs": [],
   "source": [
    "import math"
   ]
  },
  {
   "cell_type": "code",
   "execution_count": null,
   "id": "f5db7955",
   "metadata": {
    "ExecuteTime": {
     "end_time": "2024-01-26T19:04:38.795625Z",
     "start_time": "2024-01-26T19:04:38.793545Z"
    }
   },
   "outputs": [],
   "source": [
    "type(math)"
   ]
  },
  {
   "cell_type": "code",
   "execution_count": null,
   "id": "3bc60a3e",
   "metadata": {
    "ExecuteTime": {
     "end_time": "2024-01-26T19:04:38.804775Z",
     "start_time": "2024-01-26T19:04:38.796721Z"
    }
   },
   "outputs": [],
   "source": [
    "help(math)"
   ]
  },
  {
   "cell_type": "code",
   "execution_count": null,
   "id": "1b99137f",
   "metadata": {
    "ExecuteTime": {
     "end_time": "2024-01-26T19:04:38.812922Z",
     "start_time": "2024-01-26T19:04:38.810730Z"
    }
   },
   "outputs": [],
   "source": [
    "math.sqrt(9)"
   ]
  },
  {
   "cell_type": "markdown",
   "id": "87188576",
   "metadata": {
    "deletable": false,
    "editable": false,
    "nbgrader": {
     "cell_type": "markdown",
     "checksum": "8e5b12235cf97cb6a49aa3652a2cbaa1",
     "grade": false,
     "grade_id": "cell-475abeaafe09fdad",
     "locked": true,
     "schema_version": 3,
     "solution": false,
     "task": false
    },
    "tags": []
   },
   "source": [
    "## 4 Hands-on Exercises"
   ]
  },
  {
   "cell_type": "markdown",
   "id": "04a99745",
   "metadata": {
    "deletable": false,
    "editable": false,
    "nbgrader": {
     "cell_type": "markdown",
     "checksum": "e638b44b3dbf447664ddea8a102831e9",
     "grade": false,
     "grade_id": "cell-0a1ae32657112e6f",
     "locked": true,
     "schema_version": 3,
     "solution": false,
     "task": false
    },
    "tags": []
   },
   "source": [
    "### City names"
   ]
  },
  {
   "cell_type": "markdown",
   "id": "c77bb124",
   "metadata": {
    "deletable": false,
    "editable": false,
    "nbgrader": {
     "cell_type": "markdown",
     "checksum": "0d9d79b59ff25fd80db5c644d4e61cdc",
     "grade": false,
     "grade_id": "cell-0b93c8b53390bd67",
     "locked": true,
     "schema_version": 3,
     "solution": false,
     "task": false
    },
    "tags": []
   },
   "source": [
    "Write a function called `city_country()` that takes in a name of a `city` and its `country`. The function should return a string formatted like this:\n",
    "\n",
    "```\n",
    "\"Makati City, Philippines\"\n",
    "```"
   ]
  },
  {
   "cell_type": "code",
   "execution_count": null,
   "id": "93a682d6",
   "metadata": {
    "ExecuteTime": {
     "end_time": "2024-01-26T19:04:38.821839Z",
     "start_time": "2024-01-26T19:04:38.820168Z"
    },
    "deletable": false,
    "nbgrader": {
     "cell_type": "code",
     "checksum": "7f62ad0026ff716a23c8f7e74d5a6f9a",
     "grade": false,
     "grade_id": "cell-667d20c714a10725",
     "locked": false,
     "schema_version": 3,
     "solution": true,
     "task": false
    },
    "tags": []
   },
   "outputs": [],
   "source": [
    "def city_country(city, country):\n",
    "    # YOUR CODE HERE"
   ]
  },
  {
   "cell_type": "code",
   "execution_count": null,
   "id": "c813a524",
   "metadata": {
    "ExecuteTime": {
     "end_time": "2024-01-26T19:04:38.826244Z",
     "start_time": "2024-01-26T19:04:38.822623Z"
    },
    "deletable": false,
    "editable": false,
    "nbgrader": {
     "cell_type": "code",
     "checksum": "e1f4c1944036fd9b5adf763c7a90050b",
     "grade": true,
     "grade_id": "cell-4359f1074a7acadd",
     "locked": true,
     "points": 0,
     "schema_version": 3,
     "solution": false,
     "task": false
    },
    "tags": []
   },
   "outputs": [],
   "source": [
    "assert isinstance(city_country('Makati City', 'Philippines'), str)"
   ]
  },
  {
   "cell_type": "markdown",
   "id": "e786fca9",
   "metadata": {
    "deletable": false,
    "editable": false,
    "nbgrader": {
     "cell_type": "markdown",
     "checksum": "d00d21aa5cd0ddcff2098447470ff504",
     "grade": false,
     "grade_id": "cell-b6865884372adadf",
     "locked": true,
     "schema_version": 3,
     "solution": false,
     "task": false
    },
    "tags": []
   },
   "source": [
    "### Sum digits"
   ]
  },
  {
   "cell_type": "markdown",
   "id": "ad9daf37",
   "metadata": {
    "deletable": false,
    "editable": false,
    "nbgrader": {
     "cell_type": "markdown",
     "checksum": "cecebaad4eda50a4b01aa0a27ff2b40c",
     "grade": false,
     "grade_id": "cell-22ee1186821eafa8",
     "locked": true,
     "schema_version": 3,
     "solution": false,
     "task": false
    },
    "tags": []
   },
   "source": [
    "Given a number `n`, create a function that computes the sum of the digits of this number."
   ]
  },
  {
   "cell_type": "code",
   "execution_count": null,
   "id": "aa0c1469",
   "metadata": {
    "ExecuteTime": {
     "end_time": "2024-01-26T19:04:38.829276Z",
     "start_time": "2024-01-26T19:04:38.827197Z"
    },
    "deletable": false,
    "nbgrader": {
     "cell_type": "code",
     "checksum": "ebe049fd33e653728725f25ba494c850",
     "grade": false,
     "grade_id": "cell-69f87e694fdcb34e",
     "locked": false,
     "schema_version": 3,
     "solution": true,
     "task": false
    },
    "tags": []
   },
   "outputs": [],
   "source": [
    "def sum_digits(n):\n",
    "    # YOUR CODE HERE"
   ]
  },
  {
   "cell_type": "code",
   "execution_count": null,
   "id": "40034569",
   "metadata": {
    "ExecuteTime": {
     "end_time": "2024-01-26T19:04:38.832409Z",
     "start_time": "2024-01-26T19:04:38.830453Z"
    },
    "deletable": false,
    "editable": false,
    "nbgrader": {
     "cell_type": "code",
     "checksum": "a8005e598fae13e6f3ad43bad102c8ef",
     "grade": true,
     "grade_id": "cell-0f92ff5b7357b1a9",
     "locked": true,
     "points": 0,
     "schema_version": 3,
     "solution": false,
     "task": false
    },
    "tags": []
   },
   "outputs": [],
   "source": [
    "assert isinstance(sum_digits(1345), int)"
   ]
  },
  {
   "cell_type": "markdown",
   "id": "5d050a5d",
   "metadata": {
    "deletable": false,
    "editable": false,
    "nbgrader": {
     "cell_type": "markdown",
     "checksum": "74d4463c6d87149b496f1418d4cf7bda",
     "grade": false,
     "grade_id": "cell-4cc29e499cdc5a06",
     "locked": true,
     "schema_version": 3,
     "solution": false,
     "task": false
    },
    "tags": []
   },
   "source": [
    "### The Ackermann function"
   ]
  },
  {
   "cell_type": "markdown",
   "id": "d30c5d54",
   "metadata": {
    "deletable": false,
    "editable": false,
    "nbgrader": {
     "cell_type": "markdown",
     "checksum": "0af6214e3127cf766a784f089ca1377f",
     "grade": false,
     "grade_id": "cell-1fab59ab59068981",
     "locked": true,
     "schema_version": 3,
     "solution": false,
     "task": false
    },
    "tags": []
   },
   "source": [
    "The [Ackermann function](https://en.wikipedia.org/wiki/Ackermann_function), $A(m, n)$ is defined as:\n",
    "\n",
    "$$\n",
    "A(m, n) = \\begin{cases} n + 1 & \\text{ if } m = 0 \\\\ A(m-1, 1) & \\text{ if } m > 0 \\text{ and } n = 0 \\\\ A(m-1, A(m, n-1)) & \\text{ if } m > 0 \\text{ and } n > 0 \\end{cases}\n",
    "$$\n",
    "\n",
    "Write a function `ack` that evaluates the Ackermann function."
   ]
  },
  {
   "cell_type": "code",
   "execution_count": null,
   "id": "1914fc56",
   "metadata": {
    "ExecuteTime": {
     "end_time": "2024-01-26T19:04:38.837832Z",
     "start_time": "2024-01-26T19:04:38.835263Z"
    },
    "deletable": false,
    "nbgrader": {
     "cell_type": "code",
     "checksum": "9597dfbfbee0fe1145ae5d8587fa77bb",
     "grade": false,
     "grade_id": "cell-a1f035d85db41e73",
     "locked": false,
     "schema_version": 3,
     "solution": true,
     "task": false
    },
    "tags": []
   },
   "outputs": [],
   "source": [
    "def ack(m, n):\n",
    "    # YOUR CODE HERE"
   ]
  },
  {
   "cell_type": "code",
   "execution_count": null,
   "id": "1f6cc08e",
   "metadata": {
    "ExecuteTime": {
     "end_time": "2024-01-26T19:04:38.842614Z",
     "start_time": "2024-01-26T19:04:38.838771Z"
    },
    "deletable": false,
    "editable": false,
    "nbgrader": {
     "cell_type": "code",
     "checksum": "8769c81e87aabbeaf9a02a38a6ea8dd5",
     "grade": true,
     "grade_id": "cell-f28bab47aa663cc0",
     "locked": true,
     "points": 1,
     "schema_version": 3,
     "solution": false,
     "task": false
    },
    "tags": []
   },
   "outputs": [],
   "source": [
    "assert isinstance(ack(3, 4), int)"
   ]
  }
 ],
 "metadata": {
  "kernelspec": {
   "display_name": "Python 3 (ipykernel)",
   "language": "python",
   "name": "python3"
  },
  "language_info": {
   "codemirror_mode": {
    "name": "ipython",
    "version": 3
   },
   "file_extension": ".py",
   "mimetype": "text/x-python",
   "name": "python",
   "nbconvert_exporter": "python",
   "pygments_lexer": "ipython3",
   "version": "3.9.15"
  }
 },
 "nbformat": 4,
 "nbformat_minor": 5
}
