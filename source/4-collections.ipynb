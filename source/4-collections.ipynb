{
 "cells": [
  {
   "cell_type": "markdown",
   "id": "85109dd6",
   "metadata": {},
   "source": [
    "# Storing and Processing Collections of Data"
   ]
  },
  {
   "cell_type": "markdown",
   "id": "fd21a27a",
   "metadata": {},
   "source": [
    "References:\n",
    "\n",
    "[1] B Downey, A. (2012). *Think Python: How to Think Like a Computer Scientist-2e.*\n",
    "\n",
    "[2] Gries, P., Campbell, J., & Montojo, J. (2017). *Practical programming: an introduction to computer science using Python 3.6.* Pragmatic Bookshelf.\n",
    "\n",
    "[3] Matthes, E. (2023). *Python crash course: A hands-on, project-based introduction to programming.*"
   ]
  },
  {
   "cell_type": "markdown",
   "id": "377fb72f",
   "metadata": {},
   "source": [
    "Up until this point, we have seen several data types in python such as strings, functions, and other numerical data types. In this notebook, we introduce lists and dictionaries. Which allow you to store sets of information in one place.\n",
    "\n",
    "Both of these types are very powerful features readily accessible to new programmers, and they help tie together many important concepts in programming."
   ]
  },
  {
   "cell_type": "markdown",
   "id": "e9c3d791",
   "metadata": {},
   "source": [
    "## 1 Lists"
   ]
  },
  {
   "cell_type": "markdown",
   "id": "7a6c5d1d",
   "metadata": {},
   "source": [
    "A *list* is a collection of items in a particular order. We can put anything inside a list and the items in the list don't have to be related in any particular way.\n",
    "\n",
    "In Python, to define a list we use the square brackets `[]` and individual elements in the list are separated by commas. Since lists usually contain more than one element, it's a good idea to make the name of the list plural, such as `letters`, `digits`, or `names`."
   ]
  },
  {
   "cell_type": "markdown",
   "id": "0b89dc4b",
   "metadata": {},
   "source": [
    "**Example**: A list that contains a few kinds of bicycles"
   ]
  },
  {
   "cell_type": "code",
   "execution_count": 1,
   "id": "4cf90c73",
   "metadata": {
    "ExecuteTime": {
     "end_time": "2023-07-12T10:28:18.694523Z",
     "start_time": "2023-07-12T10:28:18.687172Z"
    },
    "execution": {
     "iopub.execute_input": "2025-06-16T15:25:17.175969Z",
     "iopub.status.busy": "2025-06-16T15:25:17.175591Z",
     "iopub.status.idle": "2025-06-16T15:25:17.186015Z",
     "shell.execute_reply": "2025-06-16T15:25:17.185305Z",
     "shell.execute_reply.started": "2025-06-16T15:25:17.175933Z"
    }
   },
   "outputs": [
    {
     "name": "stdout",
     "output_type": "stream",
     "text": [
      "['trek', 'cannondale', 'redline', 'specialized']\n"
     ]
    }
   ],
   "source": [
    "bicycles = ['trek', 'cannondale', 'redline', 'specialized']\n",
    "print(bicycles)"
   ]
  },
  {
   "cell_type": "markdown",
   "id": "b5987915",
   "metadata": {},
   "source": [
    "### Accessing elements in a list"
   ]
  },
  {
   "cell_type": "markdown",
   "id": "0b631a37",
   "metadata": {},
   "source": [
    "Lists are ordered collections, thus, we can access any element by telling the Python the position, or *index*, of the item desired.\n",
    "\n",
    "*Note: always remember that Python considers the first item in a list to be at position 0 not position 1*\n",
    "\n",
    "For example, to pull out the first bicycle in our list `bicycles` we do:"
   ]
  },
  {
   "cell_type": "code",
   "execution_count": 2,
   "id": "90f2d68f",
   "metadata": {
    "ExecuteTime": {
     "end_time": "2023-07-12T10:30:08.387849Z",
     "start_time": "2023-07-12T10:30:08.383196Z"
    },
    "execution": {
     "iopub.execute_input": "2025-06-16T15:25:17.187422Z",
     "iopub.status.busy": "2025-06-16T15:25:17.187222Z",
     "iopub.status.idle": "2025-06-16T15:25:17.191329Z",
     "shell.execute_reply": "2025-06-16T15:25:17.190780Z",
     "shell.execute_reply.started": "2025-06-16T15:25:17.187401Z"
    }
   },
   "outputs": [
    {
     "name": "stdout",
     "output_type": "stream",
     "text": [
      "trek\n"
     ]
    }
   ],
   "source": [
    "print(bicycles[0])"
   ]
  },
  {
   "cell_type": "markdown",
   "id": "b456fd70",
   "metadata": {},
   "source": [
    "Python also has a special syntax for accessing the last element in the list. We can use the index `-1` to get the last item in the list.\n",
    "\n",
    "The index `-2` returns the second item from the end of the list, the index `-3` returns the third, and so forth."
   ]
  },
  {
   "cell_type": "code",
   "execution_count": 3,
   "id": "e469ea82",
   "metadata": {
    "ExecuteTime": {
     "end_time": "2023-07-12T10:31:38.290078Z",
     "start_time": "2023-07-12T10:31:38.277419Z"
    },
    "execution": {
     "iopub.execute_input": "2025-06-16T15:25:17.192811Z",
     "iopub.status.busy": "2025-06-16T15:25:17.192303Z",
     "iopub.status.idle": "2025-06-16T15:25:17.195933Z",
     "shell.execute_reply": "2025-06-16T15:25:17.195363Z",
     "shell.execute_reply.started": "2025-06-16T15:25:17.192773Z"
    }
   },
   "outputs": [
    {
     "name": "stdout",
     "output_type": "stream",
     "text": [
      "specialized\n"
     ]
    }
   ],
   "source": [
    "print(bicycles[-1])"
   ]
  },
  {
   "cell_type": "markdown",
   "id": "673ceede",
   "metadata": {},
   "source": [
    "You can also access a subset of a list by *slicing* it. To make a slice, specify the first and last elements you want to work with. Python stops one item before the second index you specify."
   ]
  },
  {
   "cell_type": "code",
   "execution_count": 4,
   "id": "b68ad387",
   "metadata": {
    "ExecuteTime": {
     "end_time": "2023-07-12T10:44:37.562573Z",
     "start_time": "2023-07-12T10:44:37.554205Z"
    },
    "execution": {
     "iopub.execute_input": "2025-06-16T15:25:17.198847Z",
     "iopub.status.busy": "2025-06-16T15:25:17.197399Z",
     "iopub.status.idle": "2025-06-16T15:25:17.203718Z",
     "shell.execute_reply": "2025-06-16T15:25:17.202665Z",
     "shell.execute_reply.started": "2025-06-16T15:25:17.198818Z"
    }
   },
   "outputs": [
    {
     "name": "stdout",
     "output_type": "stream",
     "text": [
      "['trek', 'cannondale', 'redline', 'specialized']\n"
     ]
    }
   ],
   "source": [
    "print(bicycles)"
   ]
  },
  {
   "cell_type": "code",
   "execution_count": 5,
   "id": "d6748354",
   "metadata": {
    "ExecuteTime": {
     "end_time": "2023-07-12T10:44:47.150360Z",
     "start_time": "2023-07-12T10:44:47.146571Z"
    },
    "execution": {
     "iopub.execute_input": "2025-06-16T15:25:17.204941Z",
     "iopub.status.busy": "2025-06-16T15:25:17.204676Z",
     "iopub.status.idle": "2025-06-16T15:25:17.208419Z",
     "shell.execute_reply": "2025-06-16T15:25:17.208043Z",
     "shell.execute_reply.started": "2025-06-16T15:25:17.204923Z"
    }
   },
   "outputs": [
    {
     "name": "stdout",
     "output_type": "stream",
     "text": [
      "['trek', 'cannondale']\n"
     ]
    }
   ],
   "source": [
    "print(bicycles[0:2])"
   ]
  },
  {
   "cell_type": "markdown",
   "id": "daefd952",
   "metadata": {},
   "source": [
    "### Changing, Adding, and Removing Elements"
   ]
  },
  {
   "cell_type": "markdown",
   "id": "0739f510",
   "metadata": {},
   "source": [
    "To modify an item in the list, we can access first the element of a list then perform an assignment operation to the new value you want the item to have."
   ]
  },
  {
   "cell_type": "code",
   "execution_count": 6,
   "id": "62be0ca2",
   "metadata": {
    "ExecuteTime": {
     "end_time": "2023-07-12T10:34:12.726430Z",
     "start_time": "2023-07-12T10:34:12.719513Z"
    },
    "execution": {
     "iopub.execute_input": "2025-06-16T15:25:17.211428Z",
     "iopub.status.busy": "2025-06-16T15:25:17.211250Z",
     "iopub.status.idle": "2025-06-16T15:25:17.213595Z",
     "shell.execute_reply": "2025-06-16T15:25:17.213324Z",
     "shell.execute_reply.started": "2025-06-16T15:25:17.211416Z"
    }
   },
   "outputs": [
    {
     "name": "stdout",
     "output_type": "stream",
     "text": [
      "['honda', 'yamaha', 'suzuki']\n"
     ]
    }
   ],
   "source": [
    "motorcycles = ['honda', 'yamaha', 'suzuki']\n",
    "print(motorcycles)"
   ]
  },
  {
   "cell_type": "code",
   "execution_count": 7,
   "id": "c3030921",
   "metadata": {
    "ExecuteTime": {
     "end_time": "2023-07-12T10:34:28.675872Z",
     "start_time": "2023-07-12T10:34:28.672199Z"
    },
    "execution": {
     "iopub.execute_input": "2025-06-16T15:25:17.214333Z",
     "iopub.status.busy": "2025-06-16T15:25:17.214217Z",
     "iopub.status.idle": "2025-06-16T15:25:17.217046Z",
     "shell.execute_reply": "2025-06-16T15:25:17.216429Z",
     "shell.execute_reply.started": "2025-06-16T15:25:17.214320Z"
    }
   },
   "outputs": [
    {
     "name": "stdout",
     "output_type": "stream",
     "text": [
      "['ducati', 'yamaha', 'suzuki']\n"
     ]
    }
   ],
   "source": [
    "motorcycles[0] = 'ducati'\n",
    "print(motorcycles)"
   ]
  },
  {
   "cell_type": "markdown",
   "id": "b9f80c68",
   "metadata": {},
   "source": [
    "Aside from modifying the elements, we can also *append* a new item to the list."
   ]
  },
  {
   "cell_type": "code",
   "execution_count": 8,
   "id": "f49a3f15",
   "metadata": {
    "ExecuteTime": {
     "end_time": "2023-07-12T10:35:34.329922Z",
     "start_time": "2023-07-12T10:35:34.326121Z"
    },
    "execution": {
     "iopub.execute_input": "2025-06-16T15:25:17.218033Z",
     "iopub.status.busy": "2025-06-16T15:25:17.217612Z",
     "iopub.status.idle": "2025-06-16T15:25:17.224294Z",
     "shell.execute_reply": "2025-06-16T15:25:17.223912Z",
     "shell.execute_reply.started": "2025-06-16T15:25:17.218000Z"
    }
   },
   "outputs": [
    {
     "name": "stdout",
     "output_type": "stream",
     "text": [
      "['ducati', 'yamaha', 'suzuki', 'honda']\n"
     ]
    }
   ],
   "source": [
    "motorcycles.append('honda')\n",
    "print(motorcycles)"
   ]
  },
  {
   "cell_type": "markdown",
   "id": "b5b2bb79",
   "metadata": {},
   "source": [
    "Another way to do this is to extend the list using another list"
   ]
  },
  {
   "cell_type": "code",
   "execution_count": 9,
   "id": "768093b3",
   "metadata": {
    "ExecuteTime": {
     "end_time": "2023-07-12T10:36:34.940396Z",
     "start_time": "2023-07-12T10:36:34.931730Z"
    },
    "execution": {
     "iopub.execute_input": "2025-06-16T15:25:17.225762Z",
     "iopub.status.busy": "2025-06-16T15:25:17.225630Z",
     "iopub.status.idle": "2025-06-16T15:25:17.229114Z",
     "shell.execute_reply": "2025-06-16T15:25:17.228635Z",
     "shell.execute_reply.started": "2025-06-16T15:25:17.225749Z"
    }
   },
   "outputs": [
    {
     "name": "stdout",
     "output_type": "stream",
     "text": [
      "['ducati', 'yamaha', 'suzuki', 'honda', 'kawasaki', 'triumph']\n"
     ]
    }
   ],
   "source": [
    "motorcycles.extend(['kawasaki', 'triumph'])\n",
    "print(motorcycles)"
   ]
  },
  {
   "cell_type": "markdown",
   "id": "bbda3718",
   "metadata": {},
   "source": [
    "You can also insert a specific element at a specific location on a list using the `insert` method. Here, we specify the element to be inserted and the specific index in which we wish to place it."
   ]
  },
  {
   "cell_type": "code",
   "execution_count": 10,
   "id": "35165fb0",
   "metadata": {
    "ExecuteTime": {
     "end_time": "2023-07-12T10:39:31.762850Z",
     "start_time": "2023-07-12T10:39:31.758820Z"
    },
    "execution": {
     "iopub.execute_input": "2025-06-16T15:25:17.229664Z",
     "iopub.status.busy": "2025-06-16T15:25:17.229566Z",
     "iopub.status.idle": "2025-06-16T15:25:17.231845Z",
     "shell.execute_reply": "2025-06-16T15:25:17.231549Z",
     "shell.execute_reply.started": "2025-06-16T15:25:17.229652Z"
    }
   },
   "outputs": [
    {
     "name": "stdout",
     "output_type": "stream",
     "text": [
      "['ducati', 'yamaha', 'suzuki', 'bmw', 'honda', 'kawasaki', 'triumph']\n"
     ]
    }
   ],
   "source": [
    "motorcycles.insert(3, 'bmw')\n",
    "print(motorcycles)"
   ]
  },
  {
   "cell_type": "markdown",
   "id": "5d1cb993",
   "metadata": {},
   "source": [
    "To remove an element, we can use the `del` statement to delete a specific element in the list."
   ]
  },
  {
   "cell_type": "code",
   "execution_count": 11,
   "id": "45b80825",
   "metadata": {
    "ExecuteTime": {
     "end_time": "2023-07-12T10:40:25.770856Z",
     "start_time": "2023-07-12T10:40:25.764461Z"
    },
    "execution": {
     "iopub.execute_input": "2025-06-16T15:25:17.233097Z",
     "iopub.status.busy": "2025-06-16T15:25:17.232890Z",
     "iopub.status.idle": "2025-06-16T15:25:17.235376Z",
     "shell.execute_reply": "2025-06-16T15:25:17.235047Z",
     "shell.execute_reply.started": "2025-06-16T15:25:17.233083Z"
    }
   },
   "outputs": [
    {
     "name": "stdout",
     "output_type": "stream",
     "text": [
      "['ducati', 'suzuki', 'bmw', 'honda', 'kawasaki', 'triumph']\n"
     ]
    }
   ],
   "source": [
    "del motorcycles[1]\n",
    "print(motorcycles)"
   ]
  },
  {
   "cell_type": "markdown",
   "id": "d59f3a94",
   "metadata": {},
   "source": [
    "Another way to do this is the `pop` method. The difference is that it returns the value of the removed item in addition to removing it."
   ]
  },
  {
   "cell_type": "code",
   "execution_count": 12,
   "id": "1135452e",
   "metadata": {
    "ExecuteTime": {
     "end_time": "2023-07-12T10:41:27.082381Z",
     "start_time": "2023-07-12T10:41:27.078048Z"
    },
    "execution": {
     "iopub.execute_input": "2025-06-16T15:25:17.236012Z",
     "iopub.status.busy": "2025-06-16T15:25:17.235913Z",
     "iopub.status.idle": "2025-06-16T15:25:17.239966Z",
     "shell.execute_reply": "2025-06-16T15:25:17.238584Z",
     "shell.execute_reply.started": "2025-06-16T15:25:17.236001Z"
    }
   },
   "outputs": [
    {
     "name": "stdout",
     "output_type": "stream",
     "text": [
      "['ducati', 'suzuki', 'bmw', 'honda', 'kawasaki', 'triumph']\n"
     ]
    }
   ],
   "source": [
    "print(motorcycles)"
   ]
  },
  {
   "cell_type": "code",
   "execution_count": 13,
   "id": "915c6b66",
   "metadata": {
    "ExecuteTime": {
     "end_time": "2023-07-12T10:41:51.233581Z",
     "start_time": "2023-07-12T10:41:51.229226Z"
    },
    "execution": {
     "iopub.execute_input": "2025-06-16T15:25:17.244376Z",
     "iopub.status.busy": "2025-06-16T15:25:17.241943Z",
     "iopub.status.idle": "2025-06-16T15:25:17.249118Z",
     "shell.execute_reply": "2025-06-16T15:25:17.248729Z",
     "shell.execute_reply.started": "2025-06-16T15:25:17.244353Z"
    }
   },
   "outputs": [
    {
     "name": "stdout",
     "output_type": "stream",
     "text": [
      "['ducati', 'suzuki', 'bmw', 'honda', 'kawasaki']\n",
      "triumph\n"
     ]
    }
   ],
   "source": [
    "popped_motorcycle = motorcycles.pop(-1)\n",
    "print(motorcycles)\n",
    "print(popped_motorcycle)"
   ]
  },
  {
   "cell_type": "markdown",
   "id": "98a47d54-950f-42b7-aaa9-b05a18db32f8",
   "metadata": {},
   "source": [
    "### List Operations"
   ]
  },
  {
   "cell_type": "markdown",
   "id": "ecd74d17-ff8b-4af9-bf45-972d6b19ea1a",
   "metadata": {},
   "source": [
    "Aside from changing or modifying the elements of a single list, we can also also perform operations such as `+` and `*` on several lists."
   ]
  },
  {
   "cell_type": "code",
   "execution_count": 14,
   "id": "6353f89f-8bfc-4dad-945f-1eb94b58438e",
   "metadata": {
    "execution": {
     "iopub.execute_input": "2025-06-16T15:25:17.249687Z",
     "iopub.status.busy": "2025-06-16T15:25:17.249580Z",
     "iopub.status.idle": "2025-06-16T15:25:17.254302Z",
     "shell.execute_reply": "2025-06-16T15:25:17.253952Z",
     "shell.execute_reply.started": "2025-06-16T15:25:17.249675Z"
    }
   },
   "outputs": [
    {
     "data": {
      "text/plain": [
       "['ducati',\n",
       " 'suzuki',\n",
       " 'bmw',\n",
       " 'honda',\n",
       " 'kawasaki',\n",
       " 'trek',\n",
       " 'cannondale',\n",
       " 'redline',\n",
       " 'specialized']"
      ]
     },
     "execution_count": 14,
     "metadata": {},
     "output_type": "execute_result"
    }
   ],
   "source": [
    "motorcycles + bicycles"
   ]
  },
  {
   "cell_type": "code",
   "execution_count": 15,
   "id": "1deccb53-2d0e-4ec7-8461-f86501cff2f7",
   "metadata": {
    "execution": {
     "iopub.execute_input": "2025-06-16T15:25:17.255429Z",
     "iopub.status.busy": "2025-06-16T15:25:17.255121Z",
     "iopub.status.idle": "2025-06-16T15:25:17.259217Z",
     "shell.execute_reply": "2025-06-16T15:25:17.258577Z",
     "shell.execute_reply.started": "2025-06-16T15:25:17.255414Z"
    }
   },
   "outputs": [
    {
     "data": {
      "text/plain": [
       "['ducati',\n",
       " 'suzuki',\n",
       " 'bmw',\n",
       " 'honda',\n",
       " 'kawasaki',\n",
       " 'ducati',\n",
       " 'suzuki',\n",
       " 'bmw',\n",
       " 'honda',\n",
       " 'kawasaki',\n",
       " 'ducati',\n",
       " 'suzuki',\n",
       " 'bmw',\n",
       " 'honda',\n",
       " 'kawasaki']"
      ]
     },
     "execution_count": 15,
     "metadata": {},
     "output_type": "execute_result"
    }
   ],
   "source": [
    "motorcycles * 3"
   ]
  },
  {
   "cell_type": "markdown",
   "id": "09bc2a96",
   "metadata": {},
   "source": [
    "To get the number of elements in a list we can also use the built-in function `len`."
   ]
  },
  {
   "cell_type": "code",
   "execution_count": 16,
   "id": "54635edc",
   "metadata": {
    "ExecuteTime": {
     "end_time": "2023-07-12T10:51:03.753640Z",
     "start_time": "2023-07-12T10:51:03.749452Z"
    },
    "execution": {
     "iopub.execute_input": "2025-06-16T15:25:17.260762Z",
     "iopub.status.busy": "2025-06-16T15:25:17.260296Z",
     "iopub.status.idle": "2025-06-16T15:25:17.266653Z",
     "shell.execute_reply": "2025-06-16T15:25:17.266275Z",
     "shell.execute_reply.started": "2025-06-16T15:25:17.260707Z"
    }
   },
   "outputs": [
    {
     "name": "stdout",
     "output_type": "stream",
     "text": [
      "5\n"
     ]
    }
   ],
   "source": [
    "print(len(motorcycles))"
   ]
  },
  {
   "cell_type": "markdown",
   "id": "b5ff1a22",
   "metadata": {},
   "source": [
    "### Organizing a List"
   ]
  },
  {
   "cell_type": "markdown",
   "id": "b8ffa086",
   "metadata": {},
   "source": [
    "If we want to permanently sort a list, we use its `sort` method."
   ]
  },
  {
   "cell_type": "code",
   "execution_count": 17,
   "id": "05c66fee",
   "metadata": {
    "ExecuteTime": {
     "end_time": "2023-07-12T10:47:40.465335Z",
     "start_time": "2023-07-12T10:47:40.459465Z"
    },
    "execution": {
     "iopub.execute_input": "2025-06-16T15:25:17.267372Z",
     "iopub.status.busy": "2025-06-16T15:25:17.267260Z",
     "iopub.status.idle": "2025-06-16T15:25:17.269347Z",
     "shell.execute_reply": "2025-06-16T15:25:17.269060Z",
     "shell.execute_reply.started": "2025-06-16T15:25:17.267360Z"
    }
   },
   "outputs": [
    {
     "name": "stdout",
     "output_type": "stream",
     "text": [
      "['ducati', 'suzuki', 'bmw', 'honda', 'kawasaki']\n"
     ]
    }
   ],
   "source": [
    "print(motorcycles)"
   ]
  },
  {
   "cell_type": "code",
   "execution_count": 18,
   "id": "83203561",
   "metadata": {
    "ExecuteTime": {
     "end_time": "2023-07-12T10:47:54.831449Z",
     "start_time": "2023-07-12T10:47:54.827315Z"
    },
    "execution": {
     "iopub.execute_input": "2025-06-16T15:25:17.270125Z",
     "iopub.status.busy": "2025-06-16T15:25:17.269944Z",
     "iopub.status.idle": "2025-06-16T15:25:17.272544Z",
     "shell.execute_reply": "2025-06-16T15:25:17.272231Z",
     "shell.execute_reply.started": "2025-06-16T15:25:17.270111Z"
    }
   },
   "outputs": [
    {
     "name": "stdout",
     "output_type": "stream",
     "text": [
      "['bmw', 'ducati', 'honda', 'kawasaki', 'suzuki']\n"
     ]
    }
   ],
   "source": [
    "motorcycles.sort()\n",
    "print(motorcycles)"
   ]
  },
  {
   "cell_type": "markdown",
   "id": "19fe19cb",
   "metadata": {},
   "source": [
    "By specifying the `reverse` parameter as `True`, we can sort the items in descending order. "
   ]
  },
  {
   "cell_type": "code",
   "execution_count": 19,
   "id": "a791fc37",
   "metadata": {
    "ExecuteTime": {
     "end_time": "2023-07-12T10:48:41.289538Z",
     "start_time": "2023-07-12T10:48:41.285030Z"
    },
    "execution": {
     "iopub.execute_input": "2025-06-16T15:25:17.273689Z",
     "iopub.status.busy": "2025-06-16T15:25:17.273327Z",
     "iopub.status.idle": "2025-06-16T15:25:17.276077Z",
     "shell.execute_reply": "2025-06-16T15:25:17.275748Z",
     "shell.execute_reply.started": "2025-06-16T15:25:17.273676Z"
    }
   },
   "outputs": [
    {
     "name": "stdout",
     "output_type": "stream",
     "text": [
      "['suzuki', 'kawasaki', 'honda', 'ducati', 'bmw']\n"
     ]
    }
   ],
   "source": [
    "motorcycles.sort(reverse=True)\n",
    "print(motorcycles)"
   ]
  },
  {
   "cell_type": "markdown",
   "id": "b2387d18",
   "metadata": {},
   "source": [
    "You can also sort a list temporarily using the `sorted` function."
   ]
  },
  {
   "cell_type": "code",
   "execution_count": 20,
   "id": "89fb5d60",
   "metadata": {
    "ExecuteTime": {
     "end_time": "2023-07-12T10:49:51.102175Z",
     "start_time": "2023-07-12T10:49:51.094912Z"
    },
    "execution": {
     "iopub.execute_input": "2025-06-16T15:25:17.277469Z",
     "iopub.status.busy": "2025-06-16T15:25:17.277221Z",
     "iopub.status.idle": "2025-06-16T15:25:17.283126Z",
     "shell.execute_reply": "2025-06-16T15:25:17.282826Z",
     "shell.execute_reply.started": "2025-06-16T15:25:17.277454Z"
    }
   },
   "outputs": [
    {
     "name": "stdout",
     "output_type": "stream",
     "text": [
      "Original order: ['ducati', 'suzuki', 'bmw', 'honda', 'kawasaki']\n",
      "Sorted order: ['bmw', 'ducati', 'honda', 'kawasaki', 'suzuki']\n",
      "After sorted operation: ['ducati', 'suzuki', 'bmw', 'honda', 'kawasaki']\n"
     ]
    }
   ],
   "source": [
    "motorcycles = ['ducati', 'suzuki', 'bmw', 'honda', 'kawasaki']\n",
    "\n",
    "print(f\"Original order: {motorcycles}\")\n",
    "print(f\"Sorted order: {sorted(motorcycles)}\")\n",
    "print(f\"After sorted operation: {motorcycles}\")"
   ]
  },
  {
   "cell_type": "markdown",
   "id": "ff160c01-e9c6-4604-b324-fb73ce88faa3",
   "metadata": {},
   "source": [
    "### Processing Items of a List"
   ]
  },
  {
   "cell_type": "markdown",
   "id": "1eecbe98-7809-4f36-a716-02ec58d8a1ad",
   "metadata": {},
   "source": [
    "There are various reasons as to why we want to store a set of numbers. For example, keeping track of the population of an endangered animal is an important aspect of wildlife preservation. Storing data in a list will also help in succeeding data analysis, such as the computation of simple statistics such as mean, median, or mode.\n",
    "\n",
    "There are a few functions that will be helpful when working with lists of numbers."
   ]
  },
  {
   "cell_type": "code",
   "execution_count": 21,
   "id": "e7e7c0ae-bfd6-413c-973a-2da162c4607d",
   "metadata": {
    "execution": {
     "iopub.execute_input": "2025-06-16T15:25:17.289094Z",
     "iopub.status.busy": "2025-06-16T15:25:17.288929Z",
     "iopub.status.idle": "2025-06-16T15:25:17.292045Z",
     "shell.execute_reply": "2025-06-16T15:25:17.291248Z",
     "shell.execute_reply.started": "2025-06-16T15:25:17.289082Z"
    }
   },
   "outputs": [
    {
     "name": "stdout",
     "output_type": "stream",
     "text": [
      "1\n",
      "10\n",
      "55\n"
     ]
    }
   ],
   "source": [
    "digits = [1, 2, 3, 4, 5, 6, 7, 8, 9, 10]\n",
    "print(min(digits))\n",
    "print(max(digits))\n",
    "print(sum(digits))"
   ]
  },
  {
   "cell_type": "markdown",
   "id": "f338850b-cb18-4dfd-8d5f-ed5765385c8d",
   "metadata": {},
   "source": [
    "You can also iterate through each elements of a list using a `for` loop to process each element. For example, if we want to get the square of a series of numbers we can:"
   ]
  },
  {
   "cell_type": "code",
   "execution_count": 22,
   "id": "85147a22-5649-4746-80b9-44616c596d30",
   "metadata": {
    "execution": {
     "iopub.execute_input": "2025-06-16T15:25:17.294220Z",
     "iopub.status.busy": "2025-06-16T15:25:17.294039Z",
     "iopub.status.idle": "2025-06-16T15:25:17.298229Z",
     "shell.execute_reply": "2025-06-16T15:25:17.297830Z",
     "shell.execute_reply.started": "2025-06-16T15:25:17.294207Z"
    }
   },
   "outputs": [
    {
     "name": "stdout",
     "output_type": "stream",
     "text": [
      "[1, 4, 9, 16, 25, 36, 49, 64, 81, 100]\n"
     ]
    }
   ],
   "source": [
    "squares = []\n",
    "for value in digits:\n",
    "    square = value ** 2\n",
    "    squares.append(square)\n",
    "\n",
    "print(squares)"
   ]
  },
  {
   "cell_type": "markdown",
   "id": "0d3b9990-2a66-4dba-b6c9-505b756c8787",
   "metadata": {},
   "source": [
    "You'll notice that you'll be doing a lot of these kind of operation - transforming the items on a list then storing them on a new dictionary. For those cases, you can simplify your code greatly by using *list comprehensions*. Verify that the code above is equivalent to the one below."
   ]
  },
  {
   "cell_type": "code",
   "execution_count": 23,
   "id": "8db7642e-f0bf-4da8-8d15-706106fb5e57",
   "metadata": {
    "execution": {
     "iopub.execute_input": "2025-06-16T15:25:17.299071Z",
     "iopub.status.busy": "2025-06-16T15:25:17.298939Z",
     "iopub.status.idle": "2025-06-16T15:25:17.301323Z",
     "shell.execute_reply": "2025-06-16T15:25:17.301024Z",
     "shell.execute_reply.started": "2025-06-16T15:25:17.299058Z"
    }
   },
   "outputs": [
    {
     "name": "stdout",
     "output_type": "stream",
     "text": [
      "[1, 4, 9, 16, 25, 36, 49, 64, 81, 100]\n"
     ]
    }
   ],
   "source": [
    "squares = [value ** 2 for value in digits]\n",
    "\n",
    "print(squares)"
   ]
  },
  {
   "cell_type": "markdown",
   "id": "f8bbdf86-ec7e-42c1-b7c2-7a921c6b9315",
   "metadata": {},
   "source": [
    "Sometimes you might also want to add a conditional before executing the transformation. In cases like this, you add a conditional after the required `for` loop statement."
   ]
  },
  {
   "cell_type": "code",
   "execution_count": 24,
   "id": "a796f16c-f5bd-4a6e-bdae-ababf22e88f8",
   "metadata": {
    "execution": {
     "iopub.execute_input": "2025-06-16T15:25:17.301903Z",
     "iopub.status.busy": "2025-06-16T15:25:17.301805Z",
     "iopub.status.idle": "2025-06-16T15:25:17.304056Z",
     "shell.execute_reply": "2025-06-16T15:25:17.303776Z",
     "shell.execute_reply.started": "2025-06-16T15:25:17.301892Z"
    }
   },
   "outputs": [
    {
     "name": "stdout",
     "output_type": "stream",
     "text": [
      "[4, 16, 36, 64, 100]\n"
     ]
    }
   ],
   "source": [
    "even_squares = []\n",
    "for value in digits:\n",
    "    if not value % 2:\n",
    "        even_squares.append(value ** 2)\n",
    "\n",
    "print(even_squares)"
   ]
  },
  {
   "cell_type": "markdown",
   "id": "234ab26d-f666-49b8-b8da-e7f4652033d5",
   "metadata": {},
   "source": [
    "Verify that the above code is equivalent to:"
   ]
  },
  {
   "cell_type": "code",
   "execution_count": 25,
   "id": "6b17da4e-799d-4c4b-ad9e-4edb73df1f24",
   "metadata": {
    "execution": {
     "iopub.execute_input": "2025-06-16T15:25:17.304863Z",
     "iopub.status.busy": "2025-06-16T15:25:17.304714Z",
     "iopub.status.idle": "2025-06-16T15:25:17.310766Z",
     "shell.execute_reply": "2025-06-16T15:25:17.310447Z",
     "shell.execute_reply.started": "2025-06-16T15:25:17.304851Z"
    }
   },
   "outputs": [
    {
     "name": "stdout",
     "output_type": "stream",
     "text": [
      "[4, 16, 36, 64, 100]\n"
     ]
    }
   ],
   "source": [
    "even_squares = [value ** 2 for value in digits if not value % 2]\n",
    "\n",
    "print(even_squares)"
   ]
  },
  {
   "cell_type": "markdown",
   "id": "d3ae64d3-9ab7-4730-a71b-537dc0669899",
   "metadata": {},
   "source": [
    "### Lists and Strings"
   ]
  },
  {
   "cell_type": "markdown",
   "id": "14fb9243-766d-4932-9a7a-8c7a6e9fa365",
   "metadata": {},
   "source": [
    "We can also convert strings to list and vice-versa."
   ]
  },
  {
   "cell_type": "code",
   "execution_count": 26,
   "id": "bef6e193-5f86-4513-aaa2-1bfeab3e38e2",
   "metadata": {
    "execution": {
     "iopub.execute_input": "2025-06-16T15:25:17.311402Z",
     "iopub.status.busy": "2025-06-16T15:25:17.311273Z",
     "iopub.status.idle": "2025-06-16T15:25:17.316541Z",
     "shell.execute_reply": "2025-06-16T15:25:17.316156Z",
     "shell.execute_reply.started": "2025-06-16T15:25:17.311389Z"
    }
   },
   "outputs": [
    {
     "data": {
      "text/plain": [
       "['a',\n",
       " ' ',\n",
       " 's',\n",
       " 't',\n",
       " 'r',\n",
       " 'i',\n",
       " 'n',\n",
       " 'g',\n",
       " ' ',\n",
       " 'i',\n",
       " 's',\n",
       " ' ',\n",
       " 'a',\n",
       " ' ',\n",
       " 's',\n",
       " 'e',\n",
       " 'q',\n",
       " 'u',\n",
       " 'e',\n",
       " 'n',\n",
       " 'c',\n",
       " 'e',\n",
       " ' ',\n",
       " 'o',\n",
       " 'f',\n",
       " ' ',\n",
       " 'c',\n",
       " 'h',\n",
       " 'a',\n",
       " 'r',\n",
       " 'a',\n",
       " 'c',\n",
       " 't',\n",
       " 'e',\n",
       " 'r',\n",
       " 's']"
      ]
     },
     "execution_count": 26,
     "metadata": {},
     "output_type": "execute_result"
    }
   ],
   "source": [
    "a_string = 'a string is a sequence of characters'\n",
    "list(a_string)"
   ]
  },
  {
   "cell_type": "markdown",
   "id": "37e9d60b-cae9-47f0-8ee2-6e3bad7617f3",
   "metadata": {},
   "source": [
    "If we want more controllability on how we create the list from the string, we can use the `split` method of a string which also requires us to specify a delimiter."
   ]
  },
  {
   "cell_type": "code",
   "execution_count": 27,
   "id": "f4e9ce65-b5fd-40d8-9e00-050637d09e2c",
   "metadata": {
    "execution": {
     "iopub.execute_input": "2025-06-16T15:25:17.318137Z",
     "iopub.status.busy": "2025-06-16T15:25:17.317941Z",
     "iopub.status.idle": "2025-06-16T15:25:17.321597Z",
     "shell.execute_reply": "2025-06-16T15:25:17.321241Z",
     "shell.execute_reply.started": "2025-06-16T15:25:17.318123Z"
    }
   },
   "outputs": [
    {
     "data": {
      "text/plain": [
       "['a', 'string', 'is', 'a', 'sequence', 'of', 'characters']"
      ]
     },
     "execution_count": 27,
     "metadata": {},
     "output_type": "execute_result"
    }
   ],
   "source": [
    "a_list = a_string.split(' ')\n",
    "a_list"
   ]
  },
  {
   "cell_type": "markdown",
   "id": "4ac1bc0c-062a-429d-ab09-969569828cf9",
   "metadata": {},
   "source": [
    "You can reverse this process by using the `join` method. Here, we specify the delimiter as a string then place in the argument the list that we wish to join."
   ]
  },
  {
   "cell_type": "code",
   "execution_count": 28,
   "id": "68ea4e1c-1936-405c-8e8d-65b66aa137fc",
   "metadata": {
    "execution": {
     "iopub.execute_input": "2025-06-16T15:25:17.322388Z",
     "iopub.status.busy": "2025-06-16T15:25:17.322279Z",
     "iopub.status.idle": "2025-06-16T15:25:17.324860Z",
     "shell.execute_reply": "2025-06-16T15:25:17.324324Z",
     "shell.execute_reply.started": "2025-06-16T15:25:17.322377Z"
    }
   },
   "outputs": [
    {
     "name": "stdout",
     "output_type": "stream",
     "text": [
      "a\n",
      "string\n",
      "is\n",
      "a\n",
      "sequence\n",
      "of\n",
      "characters\n"
     ]
    }
   ],
   "source": [
    "print('\\n'.join(a_list))"
   ]
  },
  {
   "cell_type": "markdown",
   "id": "e150f1ba-b53d-499c-a7a3-2c15a0b743ec",
   "metadata": {},
   "source": [
    "## 2 Tuples"
   ]
  },
  {
   "cell_type": "markdown",
   "id": "42ec8982-7185-4d23-b55a-fa8052503cf9",
   "metadata": {},
   "source": [
    "Lists are ideal for storing a colection of items that can change throughout the life of a program. However, sometimes you'll want to create a list of items that cannot change. Python refers to values that cannot change as *immutable*, and an immutable list is a tuple."
   ]
  },
  {
   "cell_type": "markdown",
   "id": "bd9adc3b-611d-4776-9fd3-9faf2163da17",
   "metadata": {},
   "source": [
    "### Defining a tuple"
   ]
  },
  {
   "cell_type": "code",
   "execution_count": 29,
   "id": "3e183922-b77e-4d2c-a393-64c14d443e32",
   "metadata": {
    "execution": {
     "iopub.execute_input": "2025-06-16T15:25:17.325777Z",
     "iopub.status.busy": "2025-06-16T15:25:17.325677Z",
     "iopub.status.idle": "2025-06-16T15:25:17.327883Z",
     "shell.execute_reply": "2025-06-16T15:25:17.327536Z",
     "shell.execute_reply.started": "2025-06-16T15:25:17.325766Z"
    }
   },
   "outputs": [
    {
     "name": "stdout",
     "output_type": "stream",
     "text": [
      "200\n",
      "50\n"
     ]
    }
   ],
   "source": [
    "coordinate = (200, 50)\n",
    "print(coordinate[0])\n",
    "print(coordinate[1])"
   ]
  },
  {
   "cell_type": "markdown",
   "id": "10d2a528-7f16-4185-a185-8f9812219e95",
   "metadata": {},
   "source": [
    "Tuples are immutable!"
   ]
  },
  {
   "cell_type": "code",
   "execution_count": 30,
   "id": "f6043693-7b27-4c02-a108-da0ea4c55861",
   "metadata": {
    "execution": {
     "iopub.execute_input": "2025-06-16T15:25:17.328538Z",
     "iopub.status.busy": "2025-06-16T15:25:17.328428Z",
     "iopub.status.idle": "2025-06-16T15:25:17.333524Z",
     "shell.execute_reply": "2025-06-16T15:25:17.333148Z",
     "shell.execute_reply.started": "2025-06-16T15:25:17.328527Z"
    }
   },
   "outputs": [],
   "source": [
    "# coordinate[0] = 100"
   ]
  },
  {
   "cell_type": "markdown",
   "id": "14c917fa-c9aa-4a1a-8b32-0655f723092a",
   "metadata": {},
   "source": [
    "### Tuples as `return` values"
   ]
  },
  {
   "cell_type": "markdown",
   "id": "59326334-3665-43f2-841d-b4c2982875e9",
   "metadata": {},
   "source": [
    "Because of this property, tuples are a natural data type that Python uses when functions return multiple values"
   ]
  },
  {
   "cell_type": "code",
   "execution_count": 31,
   "id": "b025f519-d960-4a49-949b-da75a1a4bfae",
   "metadata": {
    "execution": {
     "iopub.execute_input": "2025-06-16T15:25:17.334143Z",
     "iopub.status.busy": "2025-06-16T15:25:17.333926Z",
     "iopub.status.idle": "2025-06-16T15:25:17.336519Z",
     "shell.execute_reply": "2025-06-16T15:25:17.336137Z",
     "shell.execute_reply.started": "2025-06-16T15:25:17.334132Z"
    }
   },
   "outputs": [],
   "source": [
    "def min_max(sequence):\n",
    "    return min(sequence), max(sequence)"
   ]
  },
  {
   "cell_type": "code",
   "execution_count": 32,
   "id": "892b1539-e13e-4846-8a11-e5a2d8d44185",
   "metadata": {
    "execution": {
     "iopub.execute_input": "2025-06-16T15:25:17.337092Z",
     "iopub.status.busy": "2025-06-16T15:25:17.336992Z",
     "iopub.status.idle": "2025-06-16T15:25:17.340921Z",
     "shell.execute_reply": "2025-06-16T15:25:17.340603Z",
     "shell.execute_reply.started": "2025-06-16T15:25:17.337081Z"
    }
   },
   "outputs": [
    {
     "data": {
      "text/plain": [
       "(1, 10)"
      ]
     },
     "execution_count": 32,
     "metadata": {},
     "output_type": "execute_result"
    }
   ],
   "source": [
    "min_max(digits)"
   ]
  },
  {
   "cell_type": "code",
   "execution_count": 33,
   "id": "fb2ab9f3-4c02-4dfd-8289-69c94818e2b6",
   "metadata": {
    "execution": {
     "iopub.execute_input": "2025-06-16T15:25:17.341514Z",
     "iopub.status.busy": "2025-06-16T15:25:17.341404Z",
     "iopub.status.idle": "2025-06-16T15:25:17.346426Z",
     "shell.execute_reply": "2025-06-16T15:25:17.346104Z",
     "shell.execute_reply.started": "2025-06-16T15:25:17.341504Z"
    }
   },
   "outputs": [
    {
     "data": {
      "text/plain": [
       "tuple"
      ]
     },
     "execution_count": 33,
     "metadata": {},
     "output_type": "execute_result"
    }
   ],
   "source": [
    "type(min_max(digits))"
   ]
  },
  {
   "cell_type": "markdown",
   "id": "0dedba54",
   "metadata": {},
   "source": [
    "## 3 Dictionaries"
   ]
  },
  {
   "cell_type": "markdown",
   "id": "03d0b4a3",
   "metadata": {},
   "source": [
    "Unlike list which stores a collection of data which are not necessarily related with each other, *dictionaries* enables us to store a collection of data with some related information. For example, we can create a dictionary representing information about a pokemon then store as much information as we want about that pokemon such as their name, type, height, weight, abilities, and base experience.\n",
    "\n",
    "To define a dictionary, we use curly brackets `{}` then use `:` to denote a correspondence between information. Elements in the dictionary are separate by `,` just like lists."
   ]
  },
  {
   "cell_type": "code",
   "execution_count": 34,
   "id": "94ba530a",
   "metadata": {
    "ExecuteTime": {
     "end_time": "2023-07-12T11:02:22.836536Z",
     "start_time": "2023-07-12T11:02:22.830328Z"
    },
    "execution": {
     "iopub.execute_input": "2025-06-16T15:25:17.347095Z",
     "iopub.status.busy": "2025-06-16T15:25:17.346960Z",
     "iopub.status.idle": "2025-06-16T15:25:17.349753Z",
     "shell.execute_reply": "2025-06-16T15:25:17.349187Z",
     "shell.execute_reply.started": "2025-06-16T15:25:17.347060Z"
    }
   },
   "outputs": [],
   "source": [
    "my_pokemon = {\n",
    "    'Name': 'Evee', 'Type': 'Normal', 'Height': 0.30, 'Weight': 6.5,\n",
    "    'Abilities': ['Run Away', 'Adaptability'], 'Base Exp': 65\n",
    "}"
   ]
  },
  {
   "cell_type": "markdown",
   "id": "cb56e3f0",
   "metadata": {},
   "source": [
    "A dictionary is a collection of *key-value* pairs. Each *key* is connected to a value, and you can use a key to access the value associated with that key. The *value* of a particular *key* can be of any type, however, *keys* should be types that are *immutable*. Meaning, their values cannot be change by assignment."
   ]
  },
  {
   "cell_type": "markdown",
   "id": "f055339b",
   "metadata": {},
   "source": [
    "### Accessing values in a dictionary"
   ]
  },
  {
   "cell_type": "markdown",
   "id": "0d4dd223",
   "metadata": {},
   "source": [
    "To get the value associated with a key, we give the name of the dictionary then place the key inside the square brackes after it."
   ]
  },
  {
   "cell_type": "code",
   "execution_count": 35,
   "id": "b1a75a2f",
   "metadata": {
    "ExecuteTime": {
     "end_time": "2023-07-12T11:03:37.937894Z",
     "start_time": "2023-07-12T11:03:37.930325Z"
    },
    "execution": {
     "iopub.execute_input": "2025-06-16T15:25:17.350335Z",
     "iopub.status.busy": "2025-06-16T15:25:17.350234Z",
     "iopub.status.idle": "2025-06-16T15:25:17.353736Z",
     "shell.execute_reply": "2025-06-16T15:25:17.352574Z",
     "shell.execute_reply.started": "2025-06-16T15:25:17.350323Z"
    }
   },
   "outputs": [
    {
     "data": {
      "text/plain": [
       "'Evee'"
      ]
     },
     "execution_count": 35,
     "metadata": {},
     "output_type": "execute_result"
    }
   ],
   "source": [
    "my_pokemon['Name']"
   ]
  },
  {
   "cell_type": "markdown",
   "id": "c2bd8f3b",
   "metadata": {},
   "source": [
    "We can also use the `get()` method to access values. This is much safer than just indexing a particular key since you can specify a default output if the key does not exist in the dictionary."
   ]
  },
  {
   "cell_type": "code",
   "execution_count": 36,
   "id": "8a574e8a",
   "metadata": {
    "ExecuteTime": {
     "end_time": "2023-07-12T11:09:39.286761Z",
     "start_time": "2023-07-12T11:09:39.281687Z"
    },
    "execution": {
     "iopub.execute_input": "2025-06-16T15:25:17.355442Z",
     "iopub.status.busy": "2025-06-16T15:25:17.355262Z",
     "iopub.status.idle": "2025-06-16T15:25:17.358279Z",
     "shell.execute_reply": "2025-06-16T15:25:17.357825Z",
     "shell.execute_reply.started": "2025-06-16T15:25:17.355429Z"
    }
   },
   "outputs": [
    {
     "data": {
      "text/plain": [
       "'Evee'"
      ]
     },
     "execution_count": 36,
     "metadata": {},
     "output_type": "execute_result"
    }
   ],
   "source": [
    "my_pokemon.get('Name')"
   ]
  },
  {
   "cell_type": "code",
   "execution_count": 37,
   "id": "f0d45e2e",
   "metadata": {
    "ExecuteTime": {
     "end_time": "2023-07-12T11:09:09.280283Z",
     "start_time": "2023-07-12T11:09:09.251132Z"
    },
    "execution": {
     "iopub.execute_input": "2025-06-16T15:25:17.359378Z",
     "iopub.status.busy": "2025-06-16T15:25:17.358844Z",
     "iopub.status.idle": "2025-06-16T15:25:17.361838Z",
     "shell.execute_reply": "2025-06-16T15:25:17.361311Z",
     "shell.execute_reply.started": "2025-06-16T15:25:17.359363Z"
    }
   },
   "outputs": [],
   "source": [
    "# my_pokemon['Favorite Food']"
   ]
  },
  {
   "cell_type": "code",
   "execution_count": 38,
   "id": "a3bebe9b",
   "metadata": {
    "ExecuteTime": {
     "end_time": "2023-07-12T11:10:05.534555Z",
     "start_time": "2023-07-12T11:10:05.529929Z"
    },
    "execution": {
     "iopub.execute_input": "2025-06-16T15:25:17.362554Z",
     "iopub.status.busy": "2025-06-16T15:25:17.362427Z",
     "iopub.status.idle": "2025-06-16T15:25:17.366444Z",
     "shell.execute_reply": "2025-06-16T15:25:17.366011Z",
     "shell.execute_reply.started": "2025-06-16T15:25:17.362542Z"
    }
   },
   "outputs": [
    {
     "data": {
      "text/plain": [
       "'Pizza'"
      ]
     },
     "execution_count": 38,
     "metadata": {},
     "output_type": "execute_result"
    }
   ],
   "source": [
    "my_pokemon.get('Favorite Food', 'Pizza')"
   ]
  },
  {
   "cell_type": "markdown",
   "id": "1d4c29c6-9d22-4637-b9c0-f1fec6f3e3c5",
   "metadata": {},
   "source": [
    "The `get` method is essentially equivalent to the following function:"
   ]
  },
  {
   "cell_type": "code",
   "execution_count": 39,
   "id": "70ef0620-d22c-44dc-b772-5d6ed104f28f",
   "metadata": {
    "execution": {
     "iopub.execute_input": "2025-06-16T15:25:17.367615Z",
     "iopub.status.busy": "2025-06-16T15:25:17.367350Z",
     "iopub.status.idle": "2025-06-16T15:25:17.370287Z",
     "shell.execute_reply": "2025-06-16T15:25:17.369955Z",
     "shell.execute_reply.started": "2025-06-16T15:25:17.367549Z"
    }
   },
   "outputs": [],
   "source": [
    "def get_method(a_dict, key, default_value):\n",
    "    if key in a_dict:\n",
    "        return a_dict[key]\n",
    "    else:\n",
    "        return default_value"
   ]
  },
  {
   "cell_type": "code",
   "execution_count": 40,
   "id": "4fde18e0-7c0d-4f17-b5d1-843466b74f72",
   "metadata": {
    "execution": {
     "iopub.execute_input": "2025-06-16T15:25:17.371107Z",
     "iopub.status.busy": "2025-06-16T15:25:17.370984Z",
     "iopub.status.idle": "2025-06-16T15:25:17.375055Z",
     "shell.execute_reply": "2025-06-16T15:25:17.374691Z",
     "shell.execute_reply.started": "2025-06-16T15:25:17.371095Z"
    }
   },
   "outputs": [
    {
     "data": {
      "text/plain": [
       "'Pizza'"
      ]
     },
     "execution_count": 40,
     "metadata": {},
     "output_type": "execute_result"
    }
   ],
   "source": [
    "get_method(my_pokemon, 'Favorite Food', 'Pizza')"
   ]
  },
  {
   "cell_type": "markdown",
   "id": "838494d2-673a-41b7-8b49-efb4ffef2c52",
   "metadata": {},
   "source": [
    "We can also obtain the same effect using the `setdefault()` method. However, when using `setdefault()`, we also insert the key with value of default if the key is not in the dictionary."
   ]
  },
  {
   "cell_type": "code",
   "execution_count": 41,
   "id": "ada6147a-119f-49e0-ac3d-83a83b0827db",
   "metadata": {
    "execution": {
     "iopub.execute_input": "2025-06-16T15:25:17.376187Z",
     "iopub.status.busy": "2025-06-16T15:25:17.375917Z",
     "iopub.status.idle": "2025-06-16T15:25:17.380358Z",
     "shell.execute_reply": "2025-06-16T15:25:17.379360Z",
     "shell.execute_reply.started": "2025-06-16T15:25:17.376174Z"
    }
   },
   "outputs": [
    {
     "data": {
      "text/plain": [
       "{'Name': 'Evee',\n",
       " 'Type': 'Normal',\n",
       " 'Height': 0.3,\n",
       " 'Weight': 6.5,\n",
       " 'Abilities': ['Run Away', 'Adaptability'],\n",
       " 'Base Exp': 65}"
      ]
     },
     "execution_count": 41,
     "metadata": {},
     "output_type": "execute_result"
    }
   ],
   "source": [
    "my_pokemon"
   ]
  },
  {
   "cell_type": "code",
   "execution_count": 42,
   "id": "f4e79d72-6ff6-4562-9263-364929080e9a",
   "metadata": {
    "execution": {
     "iopub.execute_input": "2025-06-16T15:25:17.380984Z",
     "iopub.status.busy": "2025-06-16T15:25:17.380874Z",
     "iopub.status.idle": "2025-06-16T15:25:17.383790Z",
     "shell.execute_reply": "2025-06-16T15:25:17.383280Z",
     "shell.execute_reply.started": "2025-06-16T15:25:17.380973Z"
    }
   },
   "outputs": [
    {
     "data": {
      "text/plain": [
       "'Pizza'"
      ]
     },
     "execution_count": 42,
     "metadata": {},
     "output_type": "execute_result"
    }
   ],
   "source": [
    "my_pokemon.setdefault('Favorite Food', 'Pizza')"
   ]
  },
  {
   "cell_type": "code",
   "execution_count": 43,
   "id": "2e806d81-188b-492d-bd05-28e26981e25a",
   "metadata": {
    "execution": {
     "iopub.execute_input": "2025-06-16T15:25:17.385419Z",
     "iopub.status.busy": "2025-06-16T15:25:17.385283Z",
     "iopub.status.idle": "2025-06-16T15:25:17.388027Z",
     "shell.execute_reply": "2025-06-16T15:25:17.387739Z",
     "shell.execute_reply.started": "2025-06-16T15:25:17.385407Z"
    }
   },
   "outputs": [
    {
     "data": {
      "text/plain": [
       "{'Name': 'Evee',\n",
       " 'Type': 'Normal',\n",
       " 'Height': 0.3,\n",
       " 'Weight': 6.5,\n",
       " 'Abilities': ['Run Away', 'Adaptability'],\n",
       " 'Base Exp': 65,\n",
       " 'Favorite Food': 'Pizza'}"
      ]
     },
     "execution_count": 43,
     "metadata": {},
     "output_type": "execute_result"
    }
   ],
   "source": [
    "my_pokemon"
   ]
  },
  {
   "cell_type": "markdown",
   "id": "7c5c5958",
   "metadata": {},
   "source": [
    "### Changing, Adding, and Removing Elements"
   ]
  },
  {
   "cell_type": "markdown",
   "id": "5438ba27",
   "metadata": {},
   "source": [
    "To change the value of a specific key pair, we can perform an assignment operation."
   ]
  },
  {
   "cell_type": "code",
   "execution_count": 44,
   "id": "e283f6f7",
   "metadata": {
    "ExecuteTime": {
     "end_time": "2023-07-12T11:05:02.304569Z",
     "start_time": "2023-07-12T11:05:02.297519Z"
    },
    "execution": {
     "iopub.execute_input": "2025-06-16T15:25:17.388691Z",
     "iopub.status.busy": "2025-06-16T15:25:17.388582Z",
     "iopub.status.idle": "2025-06-16T15:25:17.391343Z",
     "shell.execute_reply": "2025-06-16T15:25:17.390926Z",
     "shell.execute_reply.started": "2025-06-16T15:25:17.388681Z"
    }
   },
   "outputs": [
    {
     "name": "stdout",
     "output_type": "stream",
     "text": [
      "{'Name': 'Jolteon', 'Type': 'Electric', 'Height': 0.3, 'Weight': 6.5, 'Abilities': ['Run Away', 'Adaptability'], 'Base Exp': 65, 'Favorite Food': 'Pizza'}\n"
     ]
    }
   ],
   "source": [
    "my_pokemon['Name'] = 'Jolteon'\n",
    "my_pokemon['Type'] = 'Electric'\n",
    "print(my_pokemon)"
   ]
  },
  {
   "cell_type": "markdown",
   "id": "445472b0",
   "metadata": {},
   "source": [
    "To add an element to our dictionary, we can perform an assignment to a key with no corresponding value."
   ]
  },
  {
   "cell_type": "code",
   "execution_count": 45,
   "id": "9f30e15e",
   "metadata": {
    "ExecuteTime": {
     "end_time": "2023-07-12T11:06:01.044510Z",
     "start_time": "2023-07-12T11:06:01.040503Z"
    },
    "execution": {
     "iopub.execute_input": "2025-06-16T15:25:17.392438Z",
     "iopub.status.busy": "2025-06-16T15:25:17.392229Z",
     "iopub.status.idle": "2025-06-16T15:25:17.396637Z",
     "shell.execute_reply": "2025-06-16T15:25:17.396178Z",
     "shell.execute_reply.started": "2025-06-16T15:25:17.392424Z"
    }
   },
   "outputs": [
    {
     "name": "stdout",
     "output_type": "stream",
     "text": [
      "{'Name': 'Jolteon', 'Type': 'Electric', 'Height': 0.3, 'Weight': 6.5, 'Abilities': ['Run Away', 'Adaptability'], 'Base Exp': 65, 'Favorite Food': 'Pizza', 'Species': 'Lightning Pokemon'}\n"
     ]
    }
   ],
   "source": [
    "my_pokemon['Species'] = 'Lightning Pokemon'\n",
    "print(my_pokemon)"
   ]
  },
  {
   "cell_type": "markdown",
   "id": "dbdaef3a",
   "metadata": {},
   "source": [
    "To remove a piece of information, we use the `del` operator."
   ]
  },
  {
   "cell_type": "code",
   "execution_count": 46,
   "id": "9f7e868d",
   "metadata": {
    "ExecuteTime": {
     "end_time": "2023-07-12T11:07:08.302126Z",
     "start_time": "2023-07-12T11:07:08.295176Z"
    },
    "execution": {
     "iopub.execute_input": "2025-06-16T15:25:17.397801Z",
     "iopub.status.busy": "2025-06-16T15:25:17.397651Z",
     "iopub.status.idle": "2025-06-16T15:25:17.400009Z",
     "shell.execute_reply": "2025-06-16T15:25:17.399541Z",
     "shell.execute_reply.started": "2025-06-16T15:25:17.397789Z"
    }
   },
   "outputs": [
    {
     "name": "stdout",
     "output_type": "stream",
     "text": [
      "{'Name': 'Jolteon', 'Type': 'Electric', 'Height': 0.3, 'Weight': 6.5, 'Abilities': ['Run Away', 'Adaptability'], 'Base Exp': 65, 'Species': 'Lightning Pokemon'}\n"
     ]
    }
   ],
   "source": [
    "del my_pokemon['Favorite Food']\n",
    "print(my_pokemon)"
   ]
  },
  {
   "cell_type": "markdown",
   "id": "5117bdde-6e88-4585-87da-f0cb0cdc244a",
   "metadata": {},
   "source": [
    "We can also add contents from another dictionary using the `update` method"
   ]
  },
  {
   "cell_type": "code",
   "execution_count": 47,
   "id": "edf3f19d-31f5-4930-b245-ba2ba6fb657d",
   "metadata": {
    "execution": {
     "iopub.execute_input": "2025-06-16T15:25:17.401139Z",
     "iopub.status.busy": "2025-06-16T15:25:17.400572Z",
     "iopub.status.idle": "2025-06-16T15:25:17.404299Z",
     "shell.execute_reply": "2025-06-16T15:25:17.403786Z",
     "shell.execute_reply.started": "2025-06-16T15:25:17.401120Z"
    }
   },
   "outputs": [],
   "source": [
    "my_pokemon.update({'EV yield': '2 Speed', 'Base Friendship': 50,\n",
    "                   'Growth Rate': 'Medium Fast', 'Height': 0.8,\n",
    "                   'Weight': 24.5})"
   ]
  },
  {
   "cell_type": "code",
   "execution_count": 48,
   "id": "f6614af8-5ade-440c-b1df-31502caf3ffe",
   "metadata": {
    "execution": {
     "iopub.execute_input": "2025-06-16T15:25:17.405863Z",
     "iopub.status.busy": "2025-06-16T15:25:17.405373Z",
     "iopub.status.idle": "2025-06-16T15:25:17.409933Z",
     "shell.execute_reply": "2025-06-16T15:25:17.409380Z",
     "shell.execute_reply.started": "2025-06-16T15:25:17.405834Z"
    }
   },
   "outputs": [
    {
     "data": {
      "text/plain": [
       "{'Name': 'Jolteon',\n",
       " 'Type': 'Electric',\n",
       " 'Height': 0.8,\n",
       " 'Weight': 24.5,\n",
       " 'Abilities': ['Run Away', 'Adaptability'],\n",
       " 'Base Exp': 65,\n",
       " 'Species': 'Lightning Pokemon',\n",
       " 'EV yield': '2 Speed',\n",
       " 'Base Friendship': 50,\n",
       " 'Growth Rate': 'Medium Fast'}"
      ]
     },
     "execution_count": 48,
     "metadata": {},
     "output_type": "execute_result"
    }
   ],
   "source": [
    "my_pokemon"
   ]
  },
  {
   "cell_type": "markdown",
   "id": "09d512f7-ad74-4ce0-a19a-af070a93bbf3",
   "metadata": {},
   "source": [
    "### Processing Items in a Dictionary"
   ]
  },
  {
   "cell_type": "markdown",
   "id": "cec6a23f-adca-46dc-9f5b-6536847a72c2",
   "metadata": {},
   "source": [
    "We can also process items in a dictionary using a `for` loop in conjunction with the `dict`'s `item()` method."
   ]
  },
  {
   "cell_type": "code",
   "execution_count": 49,
   "id": "f0a81e57-d2e4-42f0-b9c0-19e7ad14f8c6",
   "metadata": {
    "execution": {
     "iopub.execute_input": "2025-06-16T15:25:17.410591Z",
     "iopub.status.busy": "2025-06-16T15:25:17.410485Z",
     "iopub.status.idle": "2025-06-16T15:25:17.413862Z",
     "shell.execute_reply": "2025-06-16T15:25:17.412949Z",
     "shell.execute_reply.started": "2025-06-16T15:25:17.410580Z"
    }
   },
   "outputs": [
    {
     "name": "stdout",
     "output_type": "stream",
     "text": [
      "Name: Jolteon\n",
      "Type: Electric\n",
      "Height: 0.8\n",
      "Weight: 24.5\n",
      "Abilities: ['Run Away', 'Adaptability']\n",
      "Base Exp: 65\n",
      "Species: Lightning Pokemon\n",
      "EV yield: 2 Speed\n",
      "Base Friendship: 50\n",
      "Growth Rate: Medium Fast\n"
     ]
    }
   ],
   "source": [
    "for key, value in my_pokemon.items():\n",
    "    print(f\"{key}: {value}\")"
   ]
  },
  {
   "cell_type": "markdown",
   "id": "cc4428c4-c1d1-43c5-8923-18159d28a0e9",
   "metadata": {},
   "source": [
    "## 4 Sets"
   ]
  },
  {
   "cell_type": "markdown",
   "id": "7bbd922a-21e1-40b6-adff-164919441e8f",
   "metadata": {},
   "source": [
    "For cases where we want to operate on collections with unique values, we can define a **set** object which is an unordered collection of unique items. Sets behave like a collection of dictionary keys with no values. As such, we can only store immutable objects inside the sets.\n",
    "\n",
    "For example, here we define a set containing the vowel letters:"
   ]
  },
  {
   "cell_type": "code",
   "execution_count": 50,
   "id": "c621f3d1-a60a-4b99-a56e-6524c3648ebe",
   "metadata": {
    "execution": {
     "iopub.execute_input": "2025-06-16T15:25:17.414526Z",
     "iopub.status.busy": "2025-06-16T15:25:17.414420Z",
     "iopub.status.idle": "2025-06-16T15:25:17.418182Z",
     "shell.execute_reply": "2025-06-16T15:25:17.417223Z",
     "shell.execute_reply.started": "2025-06-16T15:25:17.414514Z"
    }
   },
   "outputs": [
    {
     "data": {
      "text/plain": [
       "{'a', 'e', 'i', 'o', 'u'}"
      ]
     },
     "execution_count": 50,
     "metadata": {},
     "output_type": "execute_result"
    }
   ],
   "source": [
    "vowels = {'a', 'e', 'i', 'o', 'u'}\n",
    "vowels"
   ]
  },
  {
   "cell_type": "markdown",
   "id": "c494eade-5687-4d78-b3ee-b8d0fe4d3449",
   "metadata": {},
   "source": [
    "Notice that if we include repeated items inside a set definition, duplicates are ignored:"
   ]
  },
  {
   "cell_type": "code",
   "execution_count": 51,
   "id": "38d0bb8e-16f4-471a-b6a6-9ec87acd5688",
   "metadata": {
    "execution": {
     "iopub.execute_input": "2025-06-16T15:25:17.418883Z",
     "iopub.status.busy": "2025-06-16T15:25:17.418736Z",
     "iopub.status.idle": "2025-06-16T15:25:17.423380Z",
     "shell.execute_reply": "2025-06-16T15:25:17.423044Z",
     "shell.execute_reply.started": "2025-06-16T15:25:17.418872Z"
    }
   },
   "outputs": [
    {
     "data": {
      "text/plain": [
       "{'a', 'e', 'i', 'o', 'u'}"
      ]
     },
     "execution_count": 51,
     "metadata": {},
     "output_type": "execute_result"
    }
   ],
   "source": [
    "vowels = {'a', 'o', 'o', 'i', 'e', 'u', 'a'}\n",
    "vowels"
   ]
  },
  {
   "cell_type": "markdown",
   "id": "2242be94-6731-433c-a84b-41be11abf42a",
   "metadata": {},
   "source": [
    "### Set operations"
   ]
  },
  {
   "cell_type": "markdown",
   "id": "b238a929-3f0f-4bb6-93a7-9150a49e1bf5",
   "metadata": {},
   "source": [
    "In mathematics, set operations include union, intersection, addition, and difference. In Python, we can implement this using methods or through the use of operators:"
   ]
  },
  {
   "cell_type": "code",
   "execution_count": 52,
   "id": "854b7946-0160-4f4b-98bd-821b56975db1",
   "metadata": {
    "execution": {
     "iopub.execute_input": "2025-06-16T15:25:17.423994Z",
     "iopub.status.busy": "2025-06-16T15:25:17.423886Z",
     "iopub.status.idle": "2025-06-16T15:25:17.427983Z",
     "shell.execute_reply": "2025-06-16T15:25:17.427514Z",
     "shell.execute_reply.started": "2025-06-16T15:25:17.423982Z"
    }
   },
   "outputs": [
    {
     "data": {
      "text/plain": [
       "{'a', 'e', 'i', 'o', 'u', 'y'}"
      ]
     },
     "execution_count": 52,
     "metadata": {},
     "output_type": "execute_result"
    }
   ],
   "source": [
    "vowels.add('y')\n",
    "vowels"
   ]
  },
  {
   "cell_type": "code",
   "execution_count": 53,
   "id": "4c43a81e-093a-470e-afdd-514a8d27ec75",
   "metadata": {
    "execution": {
     "iopub.execute_input": "2025-06-16T15:25:17.428726Z",
     "iopub.status.busy": "2025-06-16T15:25:17.428561Z",
     "iopub.status.idle": "2025-06-16T15:25:17.431671Z",
     "shell.execute_reply": "2025-06-16T15:25:17.431358Z",
     "shell.execute_reply.started": "2025-06-16T15:25:17.428713Z"
    }
   },
   "outputs": [
    {
     "name": "stdout",
     "output_type": "stream",
     "text": [
      "{0, 1, 2, 3, 4, 5, 6, 7, 8, 9}\n",
      "{0, 1, 2, 3, 4}\n",
      "{0, 2, 4, 6, 8}\n"
     ]
    }
   ],
   "source": [
    "ten = set(range(10))\n",
    "lows = set(range(5))\n",
    "evens = set([i for i in range(10) if not i % 2])\n",
    "print(ten)\n",
    "print(lows)\n",
    "print(evens)"
   ]
  },
  {
   "cell_type": "code",
   "execution_count": 54,
   "id": "605b6f0c-2bf8-404a-a3eb-49fb2c4ad932",
   "metadata": {
    "execution": {
     "iopub.execute_input": "2025-06-16T15:25:17.432316Z",
     "iopub.status.busy": "2025-06-16T15:25:17.432220Z",
     "iopub.status.idle": "2025-06-16T15:25:17.437138Z",
     "shell.execute_reply": "2025-06-16T15:25:17.436420Z",
     "shell.execute_reply.started": "2025-06-16T15:25:17.432305Z"
    }
   },
   "outputs": [
    {
     "data": {
      "text/plain": [
       "{1, 3}"
      ]
     },
     "execution_count": 54,
     "metadata": {},
     "output_type": "execute_result"
    }
   ],
   "source": [
    "lows.difference(evens)"
   ]
  },
  {
   "cell_type": "code",
   "execution_count": 55,
   "id": "0653aeca-5c64-4e30-9b47-a176d6c2914b",
   "metadata": {
    "execution": {
     "iopub.execute_input": "2025-06-16T15:25:17.437679Z",
     "iopub.status.busy": "2025-06-16T15:25:17.437583Z",
     "iopub.status.idle": "2025-06-16T15:25:17.442727Z",
     "shell.execute_reply": "2025-06-16T15:25:17.441742Z",
     "shell.execute_reply.started": "2025-06-16T15:25:17.437668Z"
    }
   },
   "outputs": [
    {
     "data": {
      "text/plain": [
       "{0, 2, 4}"
      ]
     },
     "execution_count": 55,
     "metadata": {},
     "output_type": "execute_result"
    }
   ],
   "source": [
    "lows.intersection(evens)"
   ]
  },
  {
   "cell_type": "code",
   "execution_count": 56,
   "id": "f4c2cbae-1aba-4add-a32d-f282fee13347",
   "metadata": {
    "execution": {
     "iopub.execute_input": "2025-06-16T15:25:17.443720Z",
     "iopub.status.busy": "2025-06-16T15:25:17.443604Z",
     "iopub.status.idle": "2025-06-16T15:25:17.447645Z",
     "shell.execute_reply": "2025-06-16T15:25:17.447283Z",
     "shell.execute_reply.started": "2025-06-16T15:25:17.443708Z"
    }
   },
   "outputs": [
    {
     "data": {
      "text/plain": [
       "{0, 2, 4}"
      ]
     },
     "execution_count": 56,
     "metadata": {},
     "output_type": "execute_result"
    }
   ],
   "source": [
    "lows & evens"
   ]
  },
  {
   "cell_type": "code",
   "execution_count": 57,
   "id": "c90dc951-dc5b-4ebd-8df6-e3deffdfa740",
   "metadata": {
    "execution": {
     "iopub.execute_input": "2025-06-16T15:25:17.449796Z",
     "iopub.status.busy": "2025-06-16T15:25:17.448346Z",
     "iopub.status.idle": "2025-06-16T15:25:17.453485Z",
     "shell.execute_reply": "2025-06-16T15:25:17.453194Z",
     "shell.execute_reply.started": "2025-06-16T15:25:17.449744Z"
    }
   },
   "outputs": [
    {
     "data": {
      "text/plain": [
       "{0, 1, 2, 3, 4, 6, 8}"
      ]
     },
     "execution_count": 57,
     "metadata": {},
     "output_type": "execute_result"
    }
   ],
   "source": [
    "lows.union(evens)"
   ]
  },
  {
   "cell_type": "code",
   "execution_count": 58,
   "id": "530d0df4-8445-4a83-907c-7beda8791837",
   "metadata": {
    "execution": {
     "iopub.execute_input": "2025-06-16T15:25:17.454165Z",
     "iopub.status.busy": "2025-06-16T15:25:17.454052Z",
     "iopub.status.idle": "2025-06-16T15:25:17.456998Z",
     "shell.execute_reply": "2025-06-16T15:25:17.456515Z",
     "shell.execute_reply.started": "2025-06-16T15:25:17.454152Z"
    }
   },
   "outputs": [
    {
     "data": {
      "text/plain": [
       "{0, 1, 2, 3, 4, 6, 8}"
      ]
     },
     "execution_count": 58,
     "metadata": {},
     "output_type": "execute_result"
    }
   ],
   "source": [
    "lows | evens"
   ]
  },
  {
   "cell_type": "code",
   "execution_count": 59,
   "id": "f72a8df6-2154-4b67-a366-13489f7c3437",
   "metadata": {
    "execution": {
     "iopub.execute_input": "2025-06-16T15:25:17.458519Z",
     "iopub.status.busy": "2025-06-16T15:25:17.458352Z",
     "iopub.status.idle": "2025-06-16T15:25:17.461451Z",
     "shell.execute_reply": "2025-06-16T15:25:17.460878Z",
     "shell.execute_reply.started": "2025-06-16T15:25:17.458507Z"
    }
   },
   "outputs": [
    {
     "data": {
      "text/plain": [
       "True"
      ]
     },
     "execution_count": 59,
     "metadata": {},
     "output_type": "execute_result"
    }
   ],
   "source": [
    "lows.issubset(ten)"
   ]
  },
  {
   "cell_type": "code",
   "execution_count": 60,
   "id": "3027e520-20d0-4f60-84bb-c228ebcc2efc",
   "metadata": {
    "execution": {
     "iopub.execute_input": "2025-06-16T15:25:17.462119Z",
     "iopub.status.busy": "2025-06-16T15:25:17.461998Z",
     "iopub.status.idle": "2025-06-16T15:25:17.465248Z",
     "shell.execute_reply": "2025-06-16T15:25:17.464922Z",
     "shell.execute_reply.started": "2025-06-16T15:25:17.462106Z"
    }
   },
   "outputs": [
    {
     "data": {
      "text/plain": [
       "False"
      ]
     },
     "execution_count": 60,
     "metadata": {},
     "output_type": "execute_result"
    }
   ],
   "source": [
    "lows.issuperset(evens)"
   ]
  },
  {
   "cell_type": "code",
   "execution_count": 61,
   "id": "42642743-24a8-4d83-8d5e-a4475c6bed69",
   "metadata": {
    "execution": {
     "iopub.execute_input": "2025-06-16T15:25:17.465895Z",
     "iopub.status.busy": "2025-06-16T15:25:17.465742Z",
     "iopub.status.idle": "2025-06-16T15:25:17.470460Z",
     "shell.execute_reply": "2025-06-16T15:25:17.469067Z",
     "shell.execute_reply.started": "2025-06-16T15:25:17.465873Z"
    }
   },
   "outputs": [
    {
     "data": {
      "text/plain": [
       "{1, 2, 3, 4}"
      ]
     },
     "execution_count": 61,
     "metadata": {},
     "output_type": "execute_result"
    }
   ],
   "source": [
    "lows.remove(0)\n",
    "lows"
   ]
  },
  {
   "cell_type": "code",
   "execution_count": 62,
   "id": "39cd4dc0-876d-4b0e-99fe-e4f9cbc71804",
   "metadata": {
    "execution": {
     "iopub.execute_input": "2025-06-16T15:25:17.471288Z",
     "iopub.status.busy": "2025-06-16T15:25:17.471113Z",
     "iopub.status.idle": "2025-06-16T15:25:17.475369Z",
     "shell.execute_reply": "2025-06-16T15:25:17.474375Z",
     "shell.execute_reply.started": "2025-06-16T15:25:17.471276Z"
    }
   },
   "outputs": [
    {
     "data": {
      "text/plain": [
       "{0, 1, 3, 6, 8}"
      ]
     },
     "execution_count": 62,
     "metadata": {},
     "output_type": "execute_result"
    }
   ],
   "source": [
    "lows.symmetric_difference(evens)"
   ]
  },
  {
   "cell_type": "markdown",
   "id": "0a2cff78",
   "metadata": {},
   "source": [
    "## 6 Hands-on Exercises"
   ]
  },
  {
   "cell_type": "markdown",
   "id": "9a253e36",
   "metadata": {
    "nbgrader": {
     "grade": false,
     "grade_id": "cell-fb970165ccdc2421",
     "locked": true,
     "schema_version": 3,
     "solution": false,
     "task": false
    }
   },
   "source": [
    "### Draw a card"
   ]
  },
  {
   "cell_type": "markdown",
   "id": "94fd0c1c",
   "metadata": {
    "nbgrader": {
     "grade": false,
     "grade_id": "cell-6b5faabd1f32a532",
     "locked": true,
     "schema_version": 3,
     "solution": false,
     "task": false
    }
   },
   "source": [
    "Create a function `draw_card()` which simulates you to randomly drawing a card in a standard 52-deck. The function should not accept any parameters but should return a string representing the card that was drawn, including its suit and rank.\n",
    "\n",
    "Example output:\n",
    "\n",
    "```\n",
    ">>> draw_card()\n",
    "'Jack of Spades'\n",
    "```\n",
    "\n",
    "*Hint: Use the `choice` method of the `random` library*"
   ]
  },
  {
   "cell_type": "code",
   "execution_count": 65,
   "id": "457994c3",
   "metadata": {
    "execution": {
     "iopub.execute_input": "2025-06-16T15:25:17.485907Z",
     "iopub.status.busy": "2025-06-16T15:25:17.485783Z",
     "iopub.status.idle": "2025-06-16T15:25:17.489132Z",
     "shell.execute_reply": "2025-06-16T15:25:17.488386Z",
     "shell.execute_reply.started": "2025-06-16T15:25:17.485895Z"
    },
    "nbgrader": {
     "grade": false,
     "grade_id": "cell-10fd12b092888dbc",
     "locked": false,
     "schema_version": 3,
     "solution": true,
     "task": false
    }
   },
   "outputs": [],
   "source": [
    "import random\n",
    "\n",
    "\n",
    "def draw_card():\n",
    "    # YOUR CODE HERE"
   ]
  },
  {
   "cell_type": "markdown",
   "id": "8701d1ad-48ad-4f66-b675-08717cb90e82",
   "metadata": {
    "nbgrader": {
     "grade": false,
     "grade_id": "cell-14a19a7e307e8e36",
     "locked": true,
     "schema_version": 3,
     "solution": false,
     "task": false
    }
   },
   "source": [
    "### Anagrams"
   ]
  },
  {
   "cell_type": "markdown",
   "id": "6967547e-23a3-4978-976d-69cb25e1b945",
   "metadata": {
    "nbgrader": {
     "grade": false,
     "grade_id": "cell-2067f14389462ab7",
     "locked": true,
     "schema_version": 3,
     "solution": false,
     "task": false
    }
   },
   "source": [
    "Two words are anagrams if you can rearrange the letters from one to spell the other. Write a function named `is_anagram` that takes in two strings and returns `True` if they are anagrams, `False` otherwise"
   ]
  },
  {
   "cell_type": "code",
   "execution_count": 66,
   "id": "b1f7f81e-1563-4b5a-95a3-00697d72b342",
   "metadata": {
    "execution": {
     "iopub.execute_input": "2025-06-16T15:25:17.497713Z",
     "iopub.status.busy": "2025-06-16T15:25:17.497530Z",
     "iopub.status.idle": "2025-06-16T15:25:17.500002Z",
     "shell.execute_reply": "2025-06-16T15:25:17.499652Z",
     "shell.execute_reply.started": "2025-06-16T15:25:17.497701Z"
    },
    "nbgrader": {
     "grade": false,
     "grade_id": "cell-64d5996d7b57f2c8",
     "locked": false,
     "schema_version": 3,
     "solution": true,
     "task": false
    }
   },
   "outputs": [],
   "source": [
    "def is_anagram(word1, word2):\n",
    "    # YOUR CODE HERE"
   ]
  },
  {
   "cell_type": "markdown",
   "id": "3fc5343a-27a5-446d-9b7c-c7322ac74f7f",
   "metadata": {
    "nbgrader": {
     "grade": false,
     "grade_id": "cell-f4652a0fa3b828f9",
     "locked": true,
     "schema_version": 3,
     "solution": false,
     "task": false
    }
   },
   "source": [
    "### Roman Numerals"
   ]
  },
  {
   "cell_type": "markdown",
   "id": "102fb719-6c1b-4d75-acb0-8c969b6cb178",
   "metadata": {
    "nbgrader": {
     "grade": false,
     "grade_id": "cell-1e565d3e303f2e46",
     "locked": true,
     "schema_version": 3,
     "solution": false,
     "task": false
    }
   },
   "source": [
    "Create a function `roman_to_integer()` that takes in a roman numeral string `roman_numeral` then outputs the corresponding integer value of the `roman_numeral`"
   ]
  },
  {
   "cell_type": "code",
   "execution_count": 67,
   "id": "51728a73-9a48-4d94-b66d-96d1eac50053",
   "metadata": {
    "execution": {
     "iopub.execute_input": "2025-06-16T15:25:17.501078Z",
     "iopub.status.busy": "2025-06-16T15:25:17.500625Z",
     "iopub.status.idle": "2025-06-16T15:25:17.504407Z",
     "shell.execute_reply": "2025-06-16T15:25:17.503790Z",
     "shell.execute_reply.started": "2025-06-16T15:25:17.501063Z"
    },
    "nbgrader": {
     "grade": false,
     "grade_id": "cell-04346a8c16bd772a",
     "locked": false,
     "schema_version": 3,
     "solution": true,
     "task": false
    }
   },
   "outputs": [],
   "source": [
    "def roman_to_integer(roman_numeral):\n",
    "    # YOUR CODE HERE"
   ]
  },
  {
   "cell_type": "markdown",
   "id": "e7c215d1-e894-4802-951f-4aa3ceec233e",
   "metadata": {
    "nbgrader": {
     "grade": false,
     "grade_id": "cell-51d903aa440cfaa1",
     "locked": true,
     "schema_version": 3,
     "solution": false,
     "task": false
    }
   },
   "source": [
    "Create a function `integer_to_roman` that takes in an integer `n` then outputs the corresponding roman numeral string of the integer."
   ]
  },
  {
   "cell_type": "code",
   "execution_count": 68,
   "id": "d66922e2-e323-411f-8675-7827f3122207",
   "metadata": {
    "execution": {
     "iopub.execute_input": "2025-06-16T15:25:17.505815Z",
     "iopub.status.busy": "2025-06-16T15:25:17.505674Z",
     "iopub.status.idle": "2025-06-16T15:25:17.510779Z",
     "shell.execute_reply": "2025-06-16T15:25:17.510403Z",
     "shell.execute_reply.started": "2025-06-16T15:25:17.505803Z"
    },
    "nbgrader": {
     "grade": false,
     "grade_id": "cell-d9823aad8de8f225",
     "locked": false,
     "schema_version": 3,
     "solution": true,
     "task": false
    }
   },
   "outputs": [],
   "source": [
    "def integer_to_roman(n):\n",
    "    # YOUR CODE HERE"
   ]
  }
 ],
 "metadata": {
  "kernelspec": {
   "display_name": "Python 3 (ipykernel)",
   "language": "python",
   "name": "python3"
  },
  "language_info": {
   "codemirror_mode": {
    "name": "ipython",
    "version": 3
   },
   "file_extension": ".py",
   "mimetype": "text/x-python",
   "name": "python",
   "nbconvert_exporter": "python",
   "pygments_lexer": "ipython3",
   "version": "3.9.15"
  }
 },
 "nbformat": 4,
 "nbformat_minor": 5
}
