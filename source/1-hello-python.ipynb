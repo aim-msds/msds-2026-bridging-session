{
 "cells": [
  {
   "cell_type": "markdown",
   "id": "e2cbc731",
   "metadata": {
    "id": "e2cbc731",
    "nbgrader": {
     "grade": false,
     "grade_id": "cell-85a1c0d547f69511",
     "locked": true,
     "schema_version": 3,
     "solution": false,
     "task": false
    },
    "tags": []
   },
   "source": [
    "# Hello Python! 🐍\n",
    "\n",
    "References:\n",
    "\n",
    "[1] B Downey, A. (2012). *Think Python: How to Think Like a Computer Scientist-2e.*\n",
    "\n",
    "[2] Gries, P., Campbell, J., & Montojo, J. (2017). *Practical programming: an introduction to computer science using Python 3.6.* Pragmatic Bookshelf.\n",
    "\n",
    "[3] Matthes, E. (2023). *Python crash course: A hands-on, project-based introduction to programming.*References:"
   ]
  },
  {
   "cell_type": "markdown",
   "id": "f3fcbc08",
   "metadata": {
    "id": "f3fcbc08",
    "nbgrader": {
     "grade": false,
     "grade_id": "cell-be66e01aa2e891b5",
     "locked": true,
     "schema_version": 3,
     "solution": false,
     "task": false
    },
    "tags": []
   },
   "source": [
    "## 1 The Ceremonial `hello world!`"
   ]
  },
  {
   "cell_type": "markdown",
   "id": "90418e94",
   "metadata": {
    "id": "90418e94",
    "nbgrader": {
     "grade": false,
     "grade_id": "cell-87651ee76e1a1c7e",
     "locked": true,
     "schema_version": 3,
     "solution": false,
     "task": false
    },
    "tags": []
   },
   "source": [
    "Let us know perform the ceremonial printing of `hello world!` using python!"
   ]
  },
  {
   "cell_type": "markdown",
   "id": "9618e105",
   "metadata": {
    "id": "9618e105",
    "nbgrader": {
     "grade": false,
     "grade_id": "cell-808089b76213ba07",
     "locked": true,
     "schema_version": 3,
     "solution": false,
     "task": false
    },
    "tags": []
   },
   "source": [
    "### Approach 1"
   ]
  },
  {
   "cell_type": "markdown",
   "id": "7f5ec81d",
   "metadata": {
    "id": "7f5ec81d",
    "nbgrader": {
     "grade": false,
     "grade_id": "cell-1c4d790408f86d88",
     "locked": true,
     "schema_version": 3,
     "solution": false,
     "task": false
    },
    "tags": []
   },
   "source": [
    "```\n",
    "start\n",
    "print the string \"hello world!\"\n",
    "end\n",
    "```"
   ]
  },
  {
   "cell_type": "code",
   "execution_count": 1,
   "id": "eb811409",
   "metadata": {
    "ExecuteTime": {
     "end_time": "2024-01-26T19:06:41.291576Z",
     "start_time": "2024-01-26T19:06:41.285044Z"
    },
    "id": "eb811409"
   },
   "outputs": [
    {
     "name": "stdout",
     "output_type": "stream",
     "text": [
      "hello world!\n"
     ]
    }
   ],
   "source": [
    "print(\"hello world!\")"
   ]
  },
  {
   "cell_type": "markdown",
   "id": "7a4cf9f9",
   "metadata": {
    "id": "7a4cf9f9",
    "nbgrader": {
     "grade": false,
     "grade_id": "cell-0ed1c7ff5406ca9f",
     "locked": true,
     "schema_version": 3,
     "solution": false,
     "task": false
    },
    "tags": []
   },
   "source": [
    "### Approach 2"
   ]
  },
  {
   "cell_type": "markdown",
   "id": "9ecb5b1d",
   "metadata": {
    "id": "9ecb5b1d",
    "nbgrader": {
     "grade": false,
     "grade_id": "cell-801e48ad6909757b",
     "locked": true,
     "schema_version": 3,
     "solution": false,
     "task": false
    },
    "tags": []
   },
   "source": [
    "```\n",
    "start\n",
    "set `message` as `\"hello world!\"`\n",
    "print `message`\n",
    "end\n",
    "```"
   ]
  },
  {
   "cell_type": "code",
   "execution_count": 2,
   "id": "0353670a",
   "metadata": {
    "ExecuteTime": {
     "end_time": "2024-01-26T19:06:41.295125Z",
     "start_time": "2024-01-26T19:06:41.293452Z"
    },
    "id": "0353670a"
   },
   "outputs": [
    {
     "name": "stdout",
     "output_type": "stream",
     "text": [
      "hello world!\n"
     ]
    }
   ],
   "source": [
    "message = \"hello world!\"\n",
    "print(message)"
   ]
  },
  {
   "cell_type": "markdown",
   "id": "6b690f3c",
   "metadata": {
    "id": "6b690f3c",
    "nbgrader": {
     "grade": false,
     "grade_id": "cell-f6f156a9efae6812",
     "locked": true,
     "schema_version": 3,
     "solution": false,
     "task": false
    },
    "tags": []
   },
   "source": [
    "The difference is that in approach 2, we've set the **variable** `message` with the value `\"hello world!\"` then printed the `message` in our notebook."
   ]
  },
  {
   "cell_type": "markdown",
   "id": "cb07668a",
   "metadata": {
    "id": "cb07668a",
    "nbgrader": {
     "grade": false,
     "grade_id": "cell-e2ba4e2e061e5106",
     "locked": true,
     "schema_version": 3,
     "solution": false,
     "task": false
    },
    "tags": []
   },
   "source": [
    "When we are using variables in Python, there are some rules and guidelines.\n",
    "\n",
    "1. Variable names can contain only letters, numbers, and underscores. They can start with a letter or an underscore, but not with a number. e.g., `message_1` is valid but `1_message` is not.\n",
    "2. Spaces are not allowed in variable names, but underscores can be used to separate words in variable names. e.g., `greeting_message` works, but `greeting message` will cause errors.\n",
    "3. Avoid using Python keywords and function names as variable names; do not use words that Python has reserved for a particular purpose. e.g., `print`. See [Python Keywords](https://www.w3schools.com/python/python_ref_keywords.asp) for more examples.\n",
    "4. Variable names should be short but descriptive.\n",
    "5. Be careful when using lower case `l` and upper case `O`, because they can be confused with `1` and `0`."
   ]
  },
  {
   "cell_type": "markdown",
   "id": "337cbbc1-699b-4523-90b5-3d2cc49c89b4",
   "metadata": {},
   "source": [
    "<div class=\"alert alert-success\">\n",
    "\n",
    "**Some Useful Terminologies**\n",
    "    \n",
    "**Value**: basic unit of data, e.g. number or string that a program manipulates\n",
    "\n",
    "**Type**: a category of value\n",
    "\n",
    "**Expression**: a combination of value, variables, and operators\n",
    "\n",
    "```python\n",
    "42\n",
    "n * 42\n",
    "```\n",
    "\n",
    "**Statement**: a unit of code that has an effect\n",
    "\n",
    "```python\n",
    "print(\"Hello World!\")\n",
    "a = 17\n",
    "```\n",
    "\n",
    "</div>"
   ]
  },
  {
   "cell_type": "markdown",
   "id": "3317d51d",
   "metadata": {
    "id": "3317d51d",
    "nbgrader": {
     "grade": false,
     "grade_id": "cell-88d23d023bdf5403",
     "locked": true,
     "schema_version": 3,
     "solution": false,
     "task": false
    },
    "tags": []
   },
   "source": [
    "## 2 Strings"
   ]
  },
  {
   "cell_type": "markdown",
   "id": "26138239",
   "metadata": {
    "id": "26138239",
    "nbgrader": {
     "grade": false,
     "grade_id": "cell-903e0962f14e1075",
     "locked": true,
     "schema_version": 3,
     "solution": false,
     "task": false
    },
    "tags": []
   },
   "source": [
    "A *string* is a series of characters. We can define strings in python using single or double quotes."
   ]
  },
  {
   "cell_type": "markdown",
   "id": "11a8391f",
   "metadata": {
    "id": "11a8391f",
    "nbgrader": {
     "grade": false,
     "grade_id": "cell-68914ff3a77ffa8a",
     "locked": true,
     "schema_version": 3,
     "solution": false,
     "task": false
    },
    "tags": []
   },
   "source": [
    "### Defining strings"
   ]
  },
  {
   "cell_type": "code",
   "execution_count": 3,
   "id": "94398496",
   "metadata": {
    "ExecuteTime": {
     "end_time": "2024-01-26T19:06:41.301912Z",
     "start_time": "2024-01-26T19:06:41.296021Z"
    },
    "id": "94398496"
   },
   "outputs": [
    {
     "data": {
      "text/plain": [
       "'This is a string'"
      ]
     },
     "execution_count": 3,
     "metadata": {},
     "output_type": "execute_result"
    }
   ],
   "source": [
    "\"This is a string\""
   ]
  },
  {
   "cell_type": "code",
   "execution_count": 4,
   "id": "37b7cd4f",
   "metadata": {
    "ExecuteTime": {
     "end_time": "2024-01-26T19:06:41.305925Z",
     "start_time": "2024-01-26T19:06:41.304037Z"
    },
    "id": "37b7cd4f"
   },
   "outputs": [
    {
     "data": {
      "text/plain": [
       "'This is a string'"
      ]
     },
     "execution_count": 4,
     "metadata": {},
     "output_type": "execute_result"
    }
   ],
   "source": [
    "'This is a string'"
   ]
  },
  {
   "cell_type": "code",
   "execution_count": 5,
   "id": "ce54853e",
   "metadata": {
    "ExecuteTime": {
     "end_time": "2024-01-26T19:06:41.310612Z",
     "start_time": "2024-01-26T19:06:41.306890Z"
    },
    "id": "ce54853e"
   },
   "outputs": [
    {
     "data": {
      "text/plain": [
       "'I told my friend, \"My dream is to become a data science leader\"'"
      ]
     },
     "execution_count": 5,
     "metadata": {},
     "output_type": "execute_result"
    }
   ],
   "source": [
    "'I told my friend, \"My dream is to become a data science leader\"'"
   ]
  },
  {
   "cell_type": "code",
   "execution_count": 6,
   "id": "7d00823d",
   "metadata": {
    "ExecuteTime": {
     "end_time": "2024-01-26T19:06:41.313745Z",
     "start_time": "2024-01-26T19:06:41.311669Z"
    },
    "id": "7d00823d"
   },
   "outputs": [
    {
     "data": {
      "text/plain": [
       "\"The language 'Python' is named after Monty Python\""
      ]
     },
     "execution_count": 6,
     "metadata": {},
     "output_type": "execute_result"
    }
   ],
   "source": [
    "\"The language 'Python' is named after Monty Python\""
   ]
  },
  {
   "cell_type": "code",
   "execution_count": 1,
   "id": "8cd5fd59-d360-4e37-a947-097bb6d0afc9",
   "metadata": {
    "execution": {
     "iopub.execute_input": "2025-06-15T15:08:18.752312Z",
     "iopub.status.busy": "2025-06-15T15:08:18.751057Z",
     "iopub.status.idle": "2025-06-15T15:08:18.772670Z",
     "shell.execute_reply": "2025-06-15T15:08:18.771806Z",
     "shell.execute_reply.started": "2025-06-15T15:08:18.752265Z"
    }
   },
   "outputs": [
    {
     "data": {
      "text/plain": [
       "'Now this is a string with\\na\\nlot\\nof\\nspaces\\n'"
      ]
     },
     "execution_count": 1,
     "metadata": {},
     "output_type": "execute_result"
    }
   ],
   "source": [
    "\"\"\"Now this is a string with\n",
    "a\n",
    "lot\n",
    "of\n",
    "spaces\n",
    "\"\"\""
   ]
  },
  {
   "cell_type": "markdown",
   "id": "b9bc4307",
   "metadata": {
    "id": "b9bc4307",
    "nbgrader": {
     "grade": false,
     "grade_id": "cell-dea11fe7af0e947a",
     "locked": true,
     "schema_version": 3,
     "solution": false,
     "task": false
    },
    "tags": []
   },
   "source": [
    "### String operations"
   ]
  },
  {
   "cell_type": "markdown",
   "id": "8ec078be",
   "metadata": {
    "id": "8ec078be",
    "nbgrader": {
     "grade": false,
     "grade_id": "cell-704480db341a695e",
     "locked": true,
     "schema_version": 3,
     "solution": false,
     "task": false
    },
    "tags": []
   },
   "source": [
    "Here are some other operations that you can do with strings:"
   ]
  },
  {
   "cell_type": "code",
   "execution_count": 7,
   "id": "3b9cbd1d",
   "metadata": {
    "ExecuteTime": {
     "end_time": "2024-01-26T19:06:41.317456Z",
     "start_time": "2024-01-26T19:06:41.314659Z"
    },
    "id": "3b9cbd1d"
   },
   "outputs": [
    {
     "name": "stdout",
     "output_type": "stream",
     "text": [
      "Leo Lorenzo Ii\n",
      "LEO LORENZO II\n",
      "leo lorenzo ii\n"
     ]
    }
   ],
   "source": [
    "name = \"Leo Lorenzo II\"\n",
    "\n",
    "print(name.title())\n",
    "print(name.upper())\n",
    "print(name.lower())"
   ]
  },
  {
   "cell_type": "code",
   "execution_count": 8,
   "id": "8d52d51f",
   "metadata": {
    "ExecuteTime": {
     "end_time": "2024-01-26T19:06:41.329041Z",
     "start_time": "2024-01-26T19:06:41.318842Z"
    },
    "id": "8d52d51f",
    "scrolled": true,
    "tags": []
   },
   "outputs": [
    {
     "name": "stdout",
     "output_type": "stream",
     "text": [
      "Help on class str in module builtins:\n",
      "\n",
      "class str(object)\n",
      " |  str(object='') -> str\n",
      " |  str(bytes_or_buffer[, encoding[, errors]]) -> str\n",
      " |  \n",
      " |  Create a new string object from the given object. If encoding or\n",
      " |  errors is specified, then the object must expose a data buffer\n",
      " |  that will be decoded using the given encoding and error handler.\n",
      " |  Otherwise, returns the result of object.__str__() (if defined)\n",
      " |  or repr(object).\n",
      " |  encoding defaults to sys.getdefaultencoding().\n",
      " |  errors defaults to 'strict'.\n",
      " |  \n",
      " |  Methods defined here:\n",
      " |  \n",
      " |  __add__(self, value, /)\n",
      " |      Return self+value.\n",
      " |  \n",
      " |  __contains__(self, key, /)\n",
      " |      Return key in self.\n",
      " |  \n",
      " |  __eq__(self, value, /)\n",
      " |      Return self==value.\n",
      " |  \n",
      " |  __format__(self, format_spec, /)\n",
      " |      Return a formatted version of the string as described by format_spec.\n",
      " |  \n",
      " |  __ge__(self, value, /)\n",
      " |      Return self>=value.\n",
      " |  \n",
      " |  __getattribute__(self, name, /)\n",
      " |      Return getattr(self, name).\n",
      " |  \n",
      " |  __getitem__(self, key, /)\n",
      " |      Return self[key].\n",
      " |  \n",
      " |  __getnewargs__(...)\n",
      " |  \n",
      " |  __gt__(self, value, /)\n",
      " |      Return self>value.\n",
      " |  \n",
      " |  __hash__(self, /)\n",
      " |      Return hash(self).\n",
      " |  \n",
      " |  __iter__(self, /)\n",
      " |      Implement iter(self).\n",
      " |  \n",
      " |  __le__(self, value, /)\n",
      " |      Return self<=value.\n",
      " |  \n",
      " |  __len__(self, /)\n",
      " |      Return len(self).\n",
      " |  \n",
      " |  __lt__(self, value, /)\n",
      " |      Return self<value.\n",
      " |  \n",
      " |  __mod__(self, value, /)\n",
      " |      Return self%value.\n",
      " |  \n",
      " |  __mul__(self, value, /)\n",
      " |      Return self*value.\n",
      " |  \n",
      " |  __ne__(self, value, /)\n",
      " |      Return self!=value.\n",
      " |  \n",
      " |  __repr__(self, /)\n",
      " |      Return repr(self).\n",
      " |  \n",
      " |  __rmod__(self, value, /)\n",
      " |      Return value%self.\n",
      " |  \n",
      " |  __rmul__(self, value, /)\n",
      " |      Return value*self.\n",
      " |  \n",
      " |  __sizeof__(self, /)\n",
      " |      Return the size of the string in memory, in bytes.\n",
      " |  \n",
      " |  __str__(self, /)\n",
      " |      Return str(self).\n",
      " |  \n",
      " |  capitalize(self, /)\n",
      " |      Return a capitalized version of the string.\n",
      " |      \n",
      " |      More specifically, make the first character have upper case and the rest lower\n",
      " |      case.\n",
      " |  \n",
      " |  casefold(self, /)\n",
      " |      Return a version of the string suitable for caseless comparisons.\n",
      " |  \n",
      " |  center(self, width, fillchar=' ', /)\n",
      " |      Return a centered string of length width.\n",
      " |      \n",
      " |      Padding is done using the specified fill character (default is a space).\n",
      " |  \n",
      " |  count(...)\n",
      " |      S.count(sub[, start[, end]]) -> int\n",
      " |      \n",
      " |      Return the number of non-overlapping occurrences of substring sub in\n",
      " |      string S[start:end].  Optional arguments start and end are\n",
      " |      interpreted as in slice notation.\n",
      " |  \n",
      " |  encode(self, /, encoding='utf-8', errors='strict')\n",
      " |      Encode the string using the codec registered for encoding.\n",
      " |      \n",
      " |      encoding\n",
      " |        The encoding in which to encode the string.\n",
      " |      errors\n",
      " |        The error handling scheme to use for encoding errors.\n",
      " |        The default is 'strict' meaning that encoding errors raise a\n",
      " |        UnicodeEncodeError.  Other possible values are 'ignore', 'replace' and\n",
      " |        'xmlcharrefreplace' as well as any other name registered with\n",
      " |        codecs.register_error that can handle UnicodeEncodeErrors.\n",
      " |  \n",
      " |  endswith(...)\n",
      " |      S.endswith(suffix[, start[, end]]) -> bool\n",
      " |      \n",
      " |      Return True if S ends with the specified suffix, False otherwise.\n",
      " |      With optional start, test S beginning at that position.\n",
      " |      With optional end, stop comparing S at that position.\n",
      " |      suffix can also be a tuple of strings to try.\n",
      " |  \n",
      " |  expandtabs(self, /, tabsize=8)\n",
      " |      Return a copy where all tab characters are expanded using spaces.\n",
      " |      \n",
      " |      If tabsize is not given, a tab size of 8 characters is assumed.\n",
      " |  \n",
      " |  find(...)\n",
      " |      S.find(sub[, start[, end]]) -> int\n",
      " |      \n",
      " |      Return the lowest index in S where substring sub is found,\n",
      " |      such that sub is contained within S[start:end].  Optional\n",
      " |      arguments start and end are interpreted as in slice notation.\n",
      " |      \n",
      " |      Return -1 on failure.\n",
      " |  \n",
      " |  format(...)\n",
      " |      S.format(*args, **kwargs) -> str\n",
      " |      \n",
      " |      Return a formatted version of S, using substitutions from args and kwargs.\n",
      " |      The substitutions are identified by braces ('{' and '}').\n",
      " |  \n",
      " |  format_map(...)\n",
      " |      S.format_map(mapping) -> str\n",
      " |      \n",
      " |      Return a formatted version of S, using substitutions from mapping.\n",
      " |      The substitutions are identified by braces ('{' and '}').\n",
      " |  \n",
      " |  index(...)\n",
      " |      S.index(sub[, start[, end]]) -> int\n",
      " |      \n",
      " |      Return the lowest index in S where substring sub is found,\n",
      " |      such that sub is contained within S[start:end].  Optional\n",
      " |      arguments start and end are interpreted as in slice notation.\n",
      " |      \n",
      " |      Raises ValueError when the substring is not found.\n",
      " |  \n",
      " |  isalnum(self, /)\n",
      " |      Return True if the string is an alpha-numeric string, False otherwise.\n",
      " |      \n",
      " |      A string is alpha-numeric if all characters in the string are alpha-numeric and\n",
      " |      there is at least one character in the string.\n",
      " |  \n",
      " |  isalpha(self, /)\n",
      " |      Return True if the string is an alphabetic string, False otherwise.\n",
      " |      \n",
      " |      A string is alphabetic if all characters in the string are alphabetic and there\n",
      " |      is at least one character in the string.\n",
      " |  \n",
      " |  isascii(self, /)\n",
      " |      Return True if all characters in the string are ASCII, False otherwise.\n",
      " |      \n",
      " |      ASCII characters have code points in the range U+0000-U+007F.\n",
      " |      Empty string is ASCII too.\n",
      " |  \n",
      " |  isdecimal(self, /)\n",
      " |      Return True if the string is a decimal string, False otherwise.\n",
      " |      \n",
      " |      A string is a decimal string if all characters in the string are decimal and\n",
      " |      there is at least one character in the string.\n",
      " |  \n",
      " |  isdigit(self, /)\n",
      " |      Return True if the string is a digit string, False otherwise.\n",
      " |      \n",
      " |      A string is a digit string if all characters in the string are digits and there\n",
      " |      is at least one character in the string.\n",
      " |  \n",
      " |  isidentifier(self, /)\n",
      " |      Return True if the string is a valid Python identifier, False otherwise.\n",
      " |      \n",
      " |      Call keyword.iskeyword(s) to test whether string s is a reserved identifier,\n",
      " |      such as \"def\" or \"class\".\n",
      " |  \n",
      " |  islower(self, /)\n",
      " |      Return True if the string is a lowercase string, False otherwise.\n",
      " |      \n",
      " |      A string is lowercase if all cased characters in the string are lowercase and\n",
      " |      there is at least one cased character in the string.\n",
      " |  \n",
      " |  isnumeric(self, /)\n",
      " |      Return True if the string is a numeric string, False otherwise.\n",
      " |      \n",
      " |      A string is numeric if all characters in the string are numeric and there is at\n",
      " |      least one character in the string.\n",
      " |  \n",
      " |  isprintable(self, /)\n",
      " |      Return True if the string is printable, False otherwise.\n",
      " |      \n",
      " |      A string is printable if all of its characters are considered printable in\n",
      " |      repr() or if it is empty.\n",
      " |  \n",
      " |  isspace(self, /)\n",
      " |      Return True if the string is a whitespace string, False otherwise.\n",
      " |      \n",
      " |      A string is whitespace if all characters in the string are whitespace and there\n",
      " |      is at least one character in the string.\n",
      " |  \n",
      " |  istitle(self, /)\n",
      " |      Return True if the string is a title-cased string, False otherwise.\n",
      " |      \n",
      " |      In a title-cased string, upper- and title-case characters may only\n",
      " |      follow uncased characters and lowercase characters only cased ones.\n",
      " |  \n",
      " |  isupper(self, /)\n",
      " |      Return True if the string is an uppercase string, False otherwise.\n",
      " |      \n",
      " |      A string is uppercase if all cased characters in the string are uppercase and\n",
      " |      there is at least one cased character in the string.\n",
      " |  \n",
      " |  join(self, iterable, /)\n",
      " |      Concatenate any number of strings.\n",
      " |      \n",
      " |      The string whose method is called is inserted in between each given string.\n",
      " |      The result is returned as a new string.\n",
      " |      \n",
      " |      Example: '.'.join(['ab', 'pq', 'rs']) -> 'ab.pq.rs'\n",
      " |  \n",
      " |  ljust(self, width, fillchar=' ', /)\n",
      " |      Return a left-justified string of length width.\n",
      " |      \n",
      " |      Padding is done using the specified fill character (default is a space).\n",
      " |  \n",
      " |  lower(self, /)\n",
      " |      Return a copy of the string converted to lowercase.\n",
      " |  \n",
      " |  lstrip(self, chars=None, /)\n",
      " |      Return a copy of the string with leading whitespace removed.\n",
      " |      \n",
      " |      If chars is given and not None, remove characters in chars instead.\n",
      " |  \n",
      " |  partition(self, sep, /)\n",
      " |      Partition the string into three parts using the given separator.\n",
      " |      \n",
      " |      This will search for the separator in the string.  If the separator is found,\n",
      " |      returns a 3-tuple containing the part before the separator, the separator\n",
      " |      itself, and the part after it.\n",
      " |      \n",
      " |      If the separator is not found, returns a 3-tuple containing the original string\n",
      " |      and two empty strings.\n",
      " |  \n",
      " |  replace(self, old, new, count=-1, /)\n",
      " |      Return a copy with all occurrences of substring old replaced by new.\n",
      " |      \n",
      " |        count\n",
      " |          Maximum number of occurrences to replace.\n",
      " |          -1 (the default value) means replace all occurrences.\n",
      " |      \n",
      " |      If the optional argument count is given, only the first count occurrences are\n",
      " |      replaced.\n",
      " |  \n",
      " |  rfind(...)\n",
      " |      S.rfind(sub[, start[, end]]) -> int\n",
      " |      \n",
      " |      Return the highest index in S where substring sub is found,\n",
      " |      such that sub is contained within S[start:end].  Optional\n",
      " |      arguments start and end are interpreted as in slice notation.\n",
      " |      \n",
      " |      Return -1 on failure.\n",
      " |  \n",
      " |  rindex(...)\n",
      " |      S.rindex(sub[, start[, end]]) -> int\n",
      " |      \n",
      " |      Return the highest index in S where substring sub is found,\n",
      " |      such that sub is contained within S[start:end].  Optional\n",
      " |      arguments start and end are interpreted as in slice notation.\n",
      " |      \n",
      " |      Raises ValueError when the substring is not found.\n",
      " |  \n",
      " |  rjust(self, width, fillchar=' ', /)\n",
      " |      Return a right-justified string of length width.\n",
      " |      \n",
      " |      Padding is done using the specified fill character (default is a space).\n",
      " |  \n",
      " |  rpartition(self, sep, /)\n",
      " |      Partition the string into three parts using the given separator.\n",
      " |      \n",
      " |      This will search for the separator in the string, starting at the end. If\n",
      " |      the separator is found, returns a 3-tuple containing the part before the\n",
      " |      separator, the separator itself, and the part after it.\n",
      " |      \n",
      " |      If the separator is not found, returns a 3-tuple containing two empty strings\n",
      " |      and the original string.\n",
      " |  \n",
      " |  rsplit(self, /, sep=None, maxsplit=-1)\n",
      " |      Return a list of the words in the string, using sep as the delimiter string.\n",
      " |      \n",
      " |        sep\n",
      " |          The delimiter according which to split the string.\n",
      " |          None (the default value) means split according to any whitespace,\n",
      " |          and discard empty strings from the result.\n",
      " |        maxsplit\n",
      " |          Maximum number of splits to do.\n",
      " |          -1 (the default value) means no limit.\n",
      " |      \n",
      " |      Splits are done starting at the end of the string and working to the front.\n",
      " |  \n",
      " |  rstrip(self, chars=None, /)\n",
      " |      Return a copy of the string with trailing whitespace removed.\n",
      " |      \n",
      " |      If chars is given and not None, remove characters in chars instead.\n",
      " |  \n",
      " |  split(self, /, sep=None, maxsplit=-1)\n",
      " |      Return a list of the words in the string, using sep as the delimiter string.\n",
      " |      \n",
      " |      sep\n",
      " |        The delimiter according which to split the string.\n",
      " |        None (the default value) means split according to any whitespace,\n",
      " |        and discard empty strings from the result.\n",
      " |      maxsplit\n",
      " |        Maximum number of splits to do.\n",
      " |        -1 (the default value) means no limit.\n",
      " |  \n",
      " |  splitlines(self, /, keepends=False)\n",
      " |      Return a list of the lines in the string, breaking at line boundaries.\n",
      " |      \n",
      " |      Line breaks are not included in the resulting list unless keepends is given and\n",
      " |      true.\n",
      " |  \n",
      " |  startswith(...)\n",
      " |      S.startswith(prefix[, start[, end]]) -> bool\n",
      " |      \n",
      " |      Return True if S starts with the specified prefix, False otherwise.\n",
      " |      With optional start, test S beginning at that position.\n",
      " |      With optional end, stop comparing S at that position.\n",
      " |      prefix can also be a tuple of strings to try.\n",
      " |  \n",
      " |  strip(self, chars=None, /)\n",
      " |      Return a copy of the string with leading and trailing whitespace removed.\n",
      " |      \n",
      " |      If chars is given and not None, remove characters in chars instead.\n",
      " |  \n",
      " |  swapcase(self, /)\n",
      " |      Convert uppercase characters to lowercase and lowercase characters to uppercase.\n",
      " |  \n",
      " |  title(self, /)\n",
      " |      Return a version of the string where each word is titlecased.\n",
      " |      \n",
      " |      More specifically, words start with uppercased characters and all remaining\n",
      " |      cased characters have lower case.\n",
      " |  \n",
      " |  translate(self, table, /)\n",
      " |      Replace each character in the string using the given translation table.\n",
      " |      \n",
      " |        table\n",
      " |          Translation table, which must be a mapping of Unicode ordinals to\n",
      " |          Unicode ordinals, strings, or None.\n",
      " |      \n",
      " |      The table must implement lookup/indexing via __getitem__, for instance a\n",
      " |      dictionary or list.  If this operation raises LookupError, the character is\n",
      " |      left untouched.  Characters mapped to None are deleted.\n",
      " |  \n",
      " |  upper(self, /)\n",
      " |      Return a copy of the string converted to uppercase.\n",
      " |  \n",
      " |  zfill(self, width, /)\n",
      " |      Pad a numeric string with zeros on the left, to fill a field of the given width.\n",
      " |      \n",
      " |      The string is never truncated.\n",
      " |  \n",
      " |  ----------------------------------------------------------------------\n",
      " |  Static methods defined here:\n",
      " |  \n",
      " |  __new__(*args, **kwargs) from builtins.type\n",
      " |      Create and return a new object.  See help(type) for accurate signature.\n",
      " |  \n",
      " |  maketrans(...)\n",
      " |      Return a translation table usable for str.translate().\n",
      " |      \n",
      " |      If there is only one argument, it must be a dictionary mapping Unicode\n",
      " |      ordinals (integers) or characters to Unicode ordinals, strings or None.\n",
      " |      Character keys will be then converted to ordinals.\n",
      " |      If there are two arguments, they must be strings of equal length, and\n",
      " |      in the resulting dictionary, each character in x will be mapped to the\n",
      " |      character at the same position in y. If there is a third argument, it\n",
      " |      must be a string, whose characters will be mapped to None in the result.\n",
      "\n"
     ]
    }
   ],
   "source": [
    "help(str)"
   ]
  },
  {
   "cell_type": "code",
   "execution_count": 9,
   "id": "c11e26bb",
   "metadata": {
    "ExecuteTime": {
     "end_time": "2024-01-26T19:06:41.353328Z",
     "start_time": "2024-01-26T19:06:41.330151Z"
    },
    "id": "c11e26bb"
   },
   "outputs": [
    {
     "data": {
      "text/plain": [
       "'Leo Lorenzo'"
      ]
     },
     "execution_count": 9,
     "metadata": {},
     "output_type": "execute_result"
    }
   ],
   "source": [
    "\"Leo\" + \" \" + \"Lorenzo\""
   ]
  },
  {
   "cell_type": "code",
   "execution_count": 10,
   "id": "A6Fe_5JX0BcW",
   "metadata": {
    "ExecuteTime": {
     "end_time": "2024-01-26T19:06:41.371181Z",
     "start_time": "2024-01-26T19:06:41.359232Z"
    },
    "id": "A6Fe_5JX0BcW"
   },
   "outputs": [
    {
     "data": {
      "text/plain": [
       "'16'"
      ]
     },
     "execution_count": 10,
     "metadata": {},
     "output_type": "execute_result"
    }
   ],
   "source": [
    "\"1\" + \"6\""
   ]
  },
  {
   "cell_type": "markdown",
   "id": "b29ecaba",
   "metadata": {
    "id": "b29ecaba",
    "nbgrader": {
     "grade": false,
     "grade_id": "cell-61df0f9ff9d5a8aa",
     "locked": true,
     "schema_version": 3,
     "solution": false,
     "task": false
    },
    "tags": []
   },
   "source": [
    "### Using variables in strings"
   ]
  },
  {
   "cell_type": "code",
   "execution_count": 28,
   "id": "94b071ba",
   "metadata": {
    "ExecuteTime": {
     "end_time": "2024-01-26T19:06:41.468249Z",
     "start_time": "2024-01-26T19:06:41.465428Z"
    },
    "id": "94b071ba"
   },
   "outputs": [
    {
     "name": "stdout",
     "output_type": "stream",
     "text": [
      "leo lorenzo ii\n"
     ]
    }
   ],
   "source": [
    "first_name = \"leo\"\n",
    "last_name = \"lorenzo\"\n",
    "suffix = \"ii\"\n",
    "full_name = f\"{first_name} {last_name} {suffix}\" # F-string\n",
    "\n",
    "print(full_name)"
   ]
  },
  {
   "cell_type": "code",
   "execution_count": 29,
   "id": "6dacae4b",
   "metadata": {
    "ExecuteTime": {
     "end_time": "2024-01-26T19:06:41.474704Z",
     "start_time": "2024-01-26T19:06:41.469492Z"
    },
    "id": "6dacae4b"
   },
   "outputs": [
    {
     "name": "stdout",
     "output_type": "stream",
     "text": [
      "leo lorenzo ii\n"
     ]
    }
   ],
   "source": [
    "print(\"{} {} {}\".format(first_name, last_name, suffix)) # format method"
   ]
  },
  {
   "cell_type": "code",
   "execution_count": 30,
   "id": "1548a088",
   "metadata": {
    "ExecuteTime": {
     "end_time": "2024-01-26T19:06:41.477561Z",
     "start_time": "2024-01-26T19:06:41.475633Z"
    },
    "id": "1548a088"
   },
   "outputs": [
    {
     "name": "stdout",
     "output_type": "stream",
     "text": [
      "leo lorenzo ii\n"
     ]
    }
   ],
   "source": [
    "print(\"%s %s %s\"%(first_name, last_name, suffix)) # traditional"
   ]
  },
  {
   "cell_type": "markdown",
   "id": "eb9a297e",
   "metadata": {
    "id": "eb9a297e",
    "nbgrader": {
     "grade": false,
     "grade_id": "cell-ca2c58aa09c00b9f",
     "locked": true,
     "schema_version": 3,
     "solution": false,
     "task": false
    },
    "tags": []
   },
   "source": [
    "## 3 Numbers"
   ]
  },
  {
   "cell_type": "markdown",
   "id": "8d7cf644",
   "metadata": {
    "id": "8d7cf644",
    "nbgrader": {
     "grade": false,
     "grade_id": "cell-7a5c53cc744a77e2",
     "locked": true,
     "schema_version": 3,
     "solution": false,
     "task": false
    },
    "tags": []
   },
   "source": [
    "Now, let's look at how numbers are defined in Python."
   ]
  },
  {
   "cell_type": "markdown",
   "id": "d9759d52",
   "metadata": {
    "id": "d9759d52",
    "nbgrader": {
     "grade": false,
     "grade_id": "cell-0540df7731799f25",
     "locked": true,
     "schema_version": 3,
     "solution": false,
     "task": false
    },
    "tags": []
   },
   "source": [
    "### Defining numbers"
   ]
  },
  {
   "cell_type": "markdown",
   "id": "41a40c9b",
   "metadata": {
    "id": "41a40c9b",
    "nbgrader": {
     "grade": false,
     "grade_id": "cell-d615a170fbcb530b",
     "locked": true,
     "schema_version": 3,
     "solution": false,
     "task": false
    },
    "tags": []
   },
   "source": [
    "Numbers can be any of the following type:\n",
    "\n",
    "1. `int` - Integers (a number that is not a fraction; a whole number)\n",
    "2. `float` - Any number with a decimal point"
   ]
  },
  {
   "cell_type": "code",
   "execution_count": 31,
   "id": "77a06855",
   "metadata": {
    "ExecuteTime": {
     "end_time": "2024-01-26T19:06:41.486540Z",
     "start_time": "2024-01-26T19:06:41.479072Z"
    },
    "id": "77a06855"
   },
   "outputs": [
    {
     "data": {
      "text/plain": [
       "1"
      ]
     },
     "execution_count": 31,
     "metadata": {},
     "output_type": "execute_result"
    }
   ],
   "source": [
    "1"
   ]
  },
  {
   "cell_type": "code",
   "execution_count": 32,
   "id": "KBCPOR3W1TmM",
   "metadata": {
    "ExecuteTime": {
     "end_time": "2024-01-26T19:06:41.493576Z",
     "start_time": "2024-01-26T19:06:41.488945Z"
    },
    "id": "KBCPOR3W1TmM"
   },
   "outputs": [
    {
     "data": {
      "text/plain": [
       "1.0"
      ]
     },
     "execution_count": 32,
     "metadata": {},
     "output_type": "execute_result"
    }
   ],
   "source": [
    "1."
   ]
  },
  {
   "cell_type": "code",
   "execution_count": 33,
   "id": "4aa5347f",
   "metadata": {
    "ExecuteTime": {
     "end_time": "2024-01-26T19:06:41.504361Z",
     "start_time": "2024-01-26T19:06:41.496375Z"
    },
    "id": "4aa5347f"
   },
   "outputs": [
    {
     "data": {
      "text/plain": [
       "int"
      ]
     },
     "execution_count": 33,
     "metadata": {},
     "output_type": "execute_result"
    }
   ],
   "source": [
    "type(1)"
   ]
  },
  {
   "cell_type": "code",
   "execution_count": 34,
   "id": "811b8e04",
   "metadata": {
    "ExecuteTime": {
     "end_time": "2024-01-26T19:06:41.514575Z",
     "start_time": "2024-01-26T19:06:41.508873Z"
    },
    "id": "811b8e04"
   },
   "outputs": [
    {
     "data": {
      "text/plain": [
       "float"
      ]
     },
     "execution_count": 34,
     "metadata": {},
     "output_type": "execute_result"
    }
   ],
   "source": [
    "type(1.)"
   ]
  },
  {
   "cell_type": "markdown",
   "id": "2e428b92",
   "metadata": {
    "id": "2e428b92",
    "nbgrader": {
     "grade": false,
     "grade_id": "cell-5f1fed3bd1e48a17",
     "locked": true,
     "schema_version": 3,
     "solution": false,
     "task": false
    },
    "tags": []
   },
   "source": [
    "When you divide any two numbers, the result is always a float"
   ]
  },
  {
   "cell_type": "code",
   "execution_count": 35,
   "id": "162cf072",
   "metadata": {
    "ExecuteTime": {
     "end_time": "2024-01-26T19:06:41.523613Z",
     "start_time": "2024-01-26T19:06:41.516314Z"
    },
    "id": "162cf072"
   },
   "outputs": [
    {
     "data": {
      "text/plain": [
       "1.0"
      ]
     },
     "execution_count": 35,
     "metadata": {},
     "output_type": "execute_result"
    }
   ],
   "source": [
    "1 / 1"
   ]
  },
  {
   "cell_type": "markdown",
   "id": "6250dc53",
   "metadata": {
    "id": "6250dc53",
    "nbgrader": {
     "grade": false,
     "grade_id": "cell-4f81fab83fbfbb0c",
     "locked": true,
     "schema_version": 3,
     "solution": false,
     "task": false
    },
    "tags": []
   },
   "source": [
    "But you can force the output to be of a specific type by using the `float` or `int` functions"
   ]
  },
  {
   "cell_type": "code",
   "execution_count": 36,
   "id": "ee66ebaa",
   "metadata": {
    "ExecuteTime": {
     "end_time": "2024-01-26T19:06:41.529127Z",
     "start_time": "2024-01-26T19:06:41.524543Z"
    },
    "id": "ee66ebaa"
   },
   "outputs": [
    {
     "data": {
      "text/plain": [
       "1"
      ]
     },
     "execution_count": 36,
     "metadata": {},
     "output_type": "execute_result"
    }
   ],
   "source": [
    "int(1 / 1)"
   ]
  },
  {
   "cell_type": "markdown",
   "id": "82cbf9c8",
   "metadata": {
    "id": "82cbf9c8",
    "nbgrader": {
     "grade": false,
     "grade_id": "cell-55c3fba55bbedb7b",
     "locked": true,
     "schema_version": 3,
     "solution": false,
     "task": false
    },
    "tags": []
   },
   "source": [
    "To make numbers more readable, you can also use `_` to group digits."
   ]
  },
  {
   "cell_type": "code",
   "execution_count": 37,
   "id": "2fKK5h0I1ttb",
   "metadata": {
    "ExecuteTime": {
     "end_time": "2024-01-26T19:06:41.532787Z",
     "start_time": "2024-01-26T19:06:41.530040Z"
    },
    "id": "2fKK5h0I1ttb"
   },
   "outputs": [
    {
     "data": {
      "text/plain": [
       "1000000000"
      ]
     },
     "execution_count": 37,
     "metadata": {},
     "output_type": "execute_result"
    }
   ],
   "source": [
    "1000000000"
   ]
  },
  {
   "cell_type": "code",
   "execution_count": 38,
   "id": "981cc121",
   "metadata": {
    "ExecuteTime": {
     "end_time": "2024-01-26T19:06:41.544844Z",
     "start_time": "2024-01-26T19:06:41.540421Z"
    },
    "id": "981cc121"
   },
   "outputs": [
    {
     "data": {
      "text/plain": [
       "1000000000"
      ]
     },
     "execution_count": 38,
     "metadata": {},
     "output_type": "execute_result"
    }
   ],
   "source": [
    "1_000_000_000"
   ]
  },
  {
   "cell_type": "markdown",
   "id": "f9725959",
   "metadata": {
    "id": "f9725959"
   },
   "source": [
    "Or print them with a specific formatting"
   ]
  },
  {
   "cell_type": "code",
   "execution_count": 39,
   "id": "bfd27f12",
   "metadata": {
    "ExecuteTime": {
     "end_time": "2024-01-26T19:06:41.547434Z",
     "start_time": "2024-01-26T19:06:41.545619Z"
    },
    "id": "bfd27f12",
    "scrolled": true
   },
   "outputs": [
    {
     "name": "stdout",
     "output_type": "stream",
     "text": [
      "1,000,000,000\n"
     ]
    }
   ],
   "source": [
    "large_number = 1_000_000_000\n",
    "print(f\"{large_number:,}\")"
   ]
  },
  {
   "cell_type": "markdown",
   "id": "ef8cc6b7",
   "metadata": {
    "id": "ef8cc6b7",
    "nbgrader": {
     "grade": false,
     "grade_id": "cell-2a6873548b4210c0",
     "locked": true,
     "schema_version": 3,
     "solution": false,
     "task": false
    },
    "tags": []
   },
   "source": [
    "### Number operations"
   ]
  },
  {
   "cell_type": "markdown",
   "id": "b9543b3f",
   "metadata": {
    "id": "b9543b3f",
    "nbgrader": {
     "grade": false,
     "grade_id": "cell-643b24979206b356",
     "locked": true,
     "schema_version": 3,
     "solution": false,
     "task": false
    },
    "tags": []
   },
   "source": [
    "Here are some arithmetic operators that we can use with numeric values\n",
    "\n",
    "| Operator | Name |\n",
    "| ------ | ----- |\n",
    "| + | Addition |\n",
    "| - | Subtraction |\n",
    "| * | Multiplication |\n",
    "| / | Division |\n",
    "| % | Modulus |\n",
    "| ** | Exponentiation |\n",
    "| // | Floor division |"
   ]
  },
  {
   "cell_type": "code",
   "execution_count": 40,
   "id": "5c49e081",
   "metadata": {
    "ExecuteTime": {
     "end_time": "2024-01-26T19:06:41.553410Z",
     "start_time": "2024-01-26T19:06:41.548376Z"
    },
    "id": "5c49e081"
   },
   "outputs": [
    {
     "data": {
      "text/plain": [
       "6"
      ]
     },
     "execution_count": 40,
     "metadata": {},
     "output_type": "execute_result"
    }
   ],
   "source": [
    "9 - 3"
   ]
  },
  {
   "cell_type": "code",
   "execution_count": 41,
   "id": "16746bff",
   "metadata": {
    "ExecuteTime": {
     "end_time": "2024-01-26T19:06:41.557851Z",
     "start_time": "2024-01-26T19:06:41.554824Z"
    },
    "id": "16746bff"
   },
   "outputs": [
    {
     "data": {
      "text/plain": [
       "20.0"
      ]
     },
     "execution_count": 41,
     "metadata": {},
     "output_type": "execute_result"
    }
   ],
   "source": [
    "8 * 2.5"
   ]
  },
  {
   "cell_type": "code",
   "execution_count": 42,
   "id": "a816521e",
   "metadata": {
    "ExecuteTime": {
     "end_time": "2024-01-26T19:06:41.561939Z",
     "start_time": "2024-01-26T19:06:41.559708Z"
    },
    "id": "a816521e"
   },
   "outputs": [
    {
     "data": {
      "text/plain": [
       "4.5"
      ]
     },
     "execution_count": 42,
     "metadata": {},
     "output_type": "execute_result"
    }
   ],
   "source": [
    "9 / 2"
   ]
  },
  {
   "cell_type": "code",
   "execution_count": 43,
   "id": "c389fb76",
   "metadata": {
    "ExecuteTime": {
     "end_time": "2024-01-26T19:06:41.564851Z",
     "start_time": "2024-01-26T19:06:41.562837Z"
    },
    "id": "c389fb76"
   },
   "outputs": [
    {
     "data": {
      "text/plain": [
       "-4.5"
      ]
     },
     "execution_count": 43,
     "metadata": {},
     "output_type": "execute_result"
    }
   ],
   "source": [
    "9 / -2"
   ]
  },
  {
   "cell_type": "code",
   "execution_count": 44,
   "id": "39fd1f77",
   "metadata": {
    "ExecuteTime": {
     "end_time": "2024-01-26T19:06:41.573158Z",
     "start_time": "2024-01-26T19:06:41.565803Z"
    },
    "id": "39fd1f77"
   },
   "outputs": [
    {
     "data": {
      "text/plain": [
       "4"
      ]
     },
     "execution_count": 44,
     "metadata": {},
     "output_type": "execute_result"
    }
   ],
   "source": [
    "9 // 2"
   ]
  },
  {
   "cell_type": "code",
   "execution_count": 45,
   "id": "1bde217a",
   "metadata": {
    "ExecuteTime": {
     "end_time": "2024-01-26T19:06:41.577878Z",
     "start_time": "2024-01-26T19:06:41.575219Z"
    },
    "id": "1bde217a"
   },
   "outputs": [
    {
     "data": {
      "text/plain": [
       "-5"
      ]
     },
     "execution_count": 45,
     "metadata": {},
     "output_type": "execute_result"
    }
   ],
   "source": [
    "9 // -2"
   ]
  },
  {
   "cell_type": "code",
   "execution_count": 46,
   "id": "496ae66a",
   "metadata": {
    "ExecuteTime": {
     "end_time": "2024-01-26T19:06:41.580828Z",
     "start_time": "2024-01-26T19:06:41.578800Z"
    },
    "id": "496ae66a"
   },
   "outputs": [
    {
     "data": {
      "text/plain": [
       "1"
      ]
     },
     "execution_count": 46,
     "metadata": {},
     "output_type": "execute_result"
    }
   ],
   "source": [
    "9 % 2"
   ]
  },
  {
   "cell_type": "code",
   "execution_count": 47,
   "id": "0003191a",
   "metadata": {
    "ExecuteTime": {
     "end_time": "2024-01-26T19:06:41.587713Z",
     "start_time": "2024-01-26T19:06:41.581704Z"
    },
    "id": "0003191a"
   },
   "outputs": [
    {
     "data": {
      "text/plain": [
       "1.0"
      ]
     },
     "execution_count": 47,
     "metadata": {},
     "output_type": "execute_result"
    }
   ],
   "source": [
    "9.0 % 2"
   ]
  },
  {
   "cell_type": "markdown",
   "id": "247e7a53",
   "metadata": {
    "nbgrader": {
     "grade": false,
     "grade_id": "cell-7d2c641af0e98765",
     "locked": true,
     "schema_version": 3,
     "solution": false,
     "task": false
    },
    "tags": []
   },
   "source": [
    "But, wait, there's more!\n",
    "\n",
    "| Operations | Name |\n",
    "| ------ | ----- |\n",
    "| abs(x) | Absolute value of x |\n",
    "| int(x) | Converts x into an integer |\n",
    "| float(x) | Converts x into floating point |\n",
    "| complex(x, y) | Defines a complex number x + iy |\n",
    "| c.conjugate() | Conjugates complex number c |\n",
    "| divmod(x, y) | the pair (x // y, x % y) |\n",
    "| pow(x, y) | x to the power of y |\n",
    "| x ** y | x to the power of y |\n",
    "\n"
   ]
  },
  {
   "cell_type": "markdown",
   "id": "4d802e95",
   "metadata": {
    "id": "4d802e95",
    "nbgrader": {
     "grade": false,
     "grade_id": "cell-8d37987ecc18c3be",
     "locked": true,
     "schema_version": 3,
     "solution": false,
     "task": false
    },
    "tags": []
   },
   "source": [
    "## 4 Hands-on Exercises"
   ]
  },
  {
   "cell_type": "markdown",
   "id": "029daeed",
   "metadata": {
    "id": "029daeed",
    "nbgrader": {
     "grade": false,
     "grade_id": "cell-b72b64956477f278",
     "locked": true,
     "schema_version": 3,
     "solution": false,
     "task": false
    },
    "tags": []
   },
   "source": [
    "### Famous Quote"
   ]
  },
  {
   "cell_type": "markdown",
   "id": "7a863593",
   "metadata": {
    "id": "7a863593",
    "nbgrader": {
     "grade": false,
     "grade_id": "cell-71f536c27ff700e1",
     "locked": true,
     "schema_version": 3,
     "solution": false,
     "task": false
    },
    "tags": []
   },
   "source": [
    "Find a famous quote from a famouse person you admire. Represent the famous person's name using a variable `famous_person`. Then compose your message and represent it with a new variable called `message`. Print your `message`.\n",
    "\n",
    "The output should look like the following (including the quotation marks):\n",
    "\n",
    "```\n",
    "Albert Einstein once said, \"A person who never made a mistake never tried anything new.\"\n",
    "```"
   ]
  },
  {
   "cell_type": "code",
   "execution_count": 3,
   "id": "f82d28d9",
   "metadata": {
    "ExecuteTime": {
     "end_time": "2024-01-26T19:06:41.664872Z",
     "start_time": "2024-01-26T19:06:41.662926Z"
    },
    "execution": {
     "iopub.execute_input": "2025-06-15T15:12:36.171089Z",
     "iopub.status.busy": "2025-06-15T15:12:36.170639Z",
     "iopub.status.idle": "2025-06-15T15:12:36.174368Z",
     "shell.execute_reply": "2025-06-15T15:12:36.173693Z",
     "shell.execute_reply.started": "2025-06-15T15:12:36.171058Z"
    },
    "id": "f82d28d9",
    "nbgrader": {
     "grade": false,
     "grade_id": "cell-47268e81109fbb26",
     "locked": false,
     "schema_version": 3,
     "solution": true,
     "task": false
    },
    "tags": []
   },
   "outputs": [],
   "source": [
    "# YOUR CODE HERE"
   ]
  },
  {
   "cell_type": "markdown",
   "id": "630be415",
   "metadata": {
    "id": "630be415",
    "nbgrader": {
     "grade": false,
     "grade_id": "cell-8bd501b393f6d4e1",
     "locked": true,
     "schema_version": 3,
     "solution": false,
     "task": false
    },
    "tags": []
   },
   "source": [
    "### Temperature converter"
   ]
  },
  {
   "cell_type": "markdown",
   "id": "23def775",
   "metadata": {
    "id": "23def775",
    "nbgrader": {
     "grade": false,
     "grade_id": "cell-a75dab0e26828855",
     "locked": true,
     "schema_version": 3,
     "solution": false,
     "task": false
    },
    "tags": []
   },
   "source": [
    "Given a temperature in variable `celsius_temp` in degrees celsius, convert this temperature value into the fahrenheit scale then represent it using a new variable called `fahrenheit_temp`. The conversion between degrees celsius and fahrenheit is shown by the equation below:\n",
    "\n",
    "\n",
    "$$\n",
    "F = \\frac{9}{5} C + 32\n",
    "$$"
   ]
  },
  {
   "cell_type": "code",
   "execution_count": 4,
   "id": "dc50f39b",
   "metadata": {
    "ExecuteTime": {
     "end_time": "2024-01-26T19:06:41.669748Z",
     "start_time": "2024-01-26T19:06:41.666088Z"
    },
    "execution": {
     "iopub.execute_input": "2025-06-15T15:12:41.502706Z",
     "iopub.status.busy": "2025-06-15T15:12:41.502264Z",
     "iopub.status.idle": "2025-06-15T15:12:41.506159Z",
     "shell.execute_reply": "2025-06-15T15:12:41.505167Z",
     "shell.execute_reply.started": "2025-06-15T15:12:41.502673Z"
    },
    "id": "dc50f39b",
    "nbgrader": {
     "grade": false,
     "grade_id": "cell-8fa7e97d208bdf8c",
     "locked": false,
     "schema_version": 3,
     "solution": true,
     "task": false
    },
    "tags": []
   },
   "outputs": [],
   "source": [
    "# YOUR CODE HERE"
   ]
  },
  {
   "cell_type": "markdown",
   "id": "6434dedc",
   "metadata": {
    "id": "6434dedc",
    "nbgrader": {
     "grade": false,
     "grade_id": "cell-ea6a3f6a724efacb",
     "locked": true,
     "schema_version": 3,
     "solution": false,
     "task": false
    },
    "tags": []
   },
   "source": [
    "### Measuring distances"
   ]
  },
  {
   "cell_type": "markdown",
   "id": "266a636c",
   "metadata": {
    "id": "266a636c",
    "nbgrader": {
     "grade": false,
     "grade_id": "cell-858b612a46d85ff5",
     "locked": true,
     "schema_version": 3,
     "solution": false,
     "task": false
    },
    "tags": []
   },
   "source": [
    "Create a code that prints the Pythagorean (euclidean) `distance` between the two points. Represent the x and y coordinate of the first point as `x1` and `y1`, while set `x2` and `y2` the coordinate of the second point."
   ]
  },
  {
   "cell_type": "code",
   "execution_count": 5,
   "id": "267d3613",
   "metadata": {
    "ExecuteTime": {
     "end_time": "2024-01-26T19:06:41.673873Z",
     "start_time": "2024-01-26T19:06:41.671625Z"
    },
    "execution": {
     "iopub.execute_input": "2025-06-15T15:12:46.248783Z",
     "iopub.status.busy": "2025-06-15T15:12:46.248373Z",
     "iopub.status.idle": "2025-06-15T15:12:46.251992Z",
     "shell.execute_reply": "2025-06-15T15:12:46.251152Z",
     "shell.execute_reply.started": "2025-06-15T15:12:46.248751Z"
    },
    "id": "267d3613",
    "nbgrader": {
     "grade": false,
     "grade_id": "cell-29aba1b592bc2566",
     "locked": false,
     "schema_version": 3,
     "solution": true,
     "task": false
    },
    "tags": []
   },
   "outputs": [],
   "source": [
    "# YOUR CODE HERE"
   ]
  },
  {
   "cell_type": "markdown",
   "id": "4358fd80",
   "metadata": {
    "id": "4358fd80",
    "nbgrader": {
     "grade": false,
     "grade_id": "cell-0e4fc78a7f0af153",
     "locked": true,
     "schema_version": 3,
     "solution": false,
     "task": false
    },
    "tags": []
   },
   "source": [
    "### Time converter"
   ]
  },
  {
   "cell_type": "markdown",
   "id": "94729cc3",
   "metadata": {
    "id": "94729cc3",
    "nbgrader": {
     "grade": false,
     "grade_id": "cell-90e5bf2d532707a7",
     "locked": true,
     "schema_version": 3,
     "solution": false,
     "task": false
    },
    "tags": []
   },
   "source": [
    "Create a code that accepts an input `time_secs` in seconds then prints the value in minutes and seconds.\n",
    "\n",
    "For example, if the elapsed time was `130` seconds, the output would be\n",
    "\n",
    "```\n",
    "2 minutes 10 seconds\n",
    "```"
   ]
  },
  {
   "cell_type": "code",
   "execution_count": 6,
   "id": "Dt6OuP-gAnqu",
   "metadata": {
    "ExecuteTime": {
     "end_time": "2024-01-26T19:06:41.676791Z",
     "start_time": "2024-01-26T19:06:41.674972Z"
    },
    "execution": {
     "iopub.execute_input": "2025-06-15T15:12:56.418930Z",
     "iopub.status.busy": "2025-06-15T15:12:56.418404Z",
     "iopub.status.idle": "2025-06-15T15:12:56.422990Z",
     "shell.execute_reply": "2025-06-15T15:12:56.421733Z",
     "shell.execute_reply.started": "2025-06-15T15:12:56.418895Z"
    },
    "id": "Dt6OuP-gAnqu",
    "nbgrader": {
     "grade": false,
     "grade_id": "cell-490569c100e77829",
     "locked": false,
     "schema_version": 3,
     "solution": true,
     "task": false
    },
    "tags": []
   },
   "outputs": [],
   "source": [
    "# YOUR CODE HERE"
   ]
  }
 ],
 "metadata": {
  "colab": {
   "provenance": []
  },
  "kernelspec": {
   "display_name": "Python 3 (ipykernel)",
   "language": "python",
   "name": "python3"
  },
  "language_info": {
   "codemirror_mode": {
    "name": "ipython",
    "version": 3
   },
   "file_extension": ".py",
   "mimetype": "text/x-python",
   "name": "python",
   "nbconvert_exporter": "python",
   "pygments_lexer": "ipython3",
   "version": "3.9.15"
  }
 },
 "nbformat": 4,
 "nbformat_minor": 5
}
