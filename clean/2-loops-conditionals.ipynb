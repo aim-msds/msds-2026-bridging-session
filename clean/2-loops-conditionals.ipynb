{
 "cells": [
  {
   "cell_type": "markdown",
   "id": "6e0eab0a",
   "metadata": {},
   "source": [
    "# Loops and Conditionals"
   ]
  },
  {
   "cell_type": "markdown",
   "id": "1c573b03",
   "metadata": {},
   "source": [
    "References:\n",
    "\n",
    "[1] Gries, P., Campbell, J., & Montojo, J. (2017). *Practical programming: an introduction to computer science using Python 3.6.* Pragmatic Bookshelf.\n",
    "\n",
    "[2] Matthes, E. (2023). *Python crash course: A hands-on, project-based introduction to programming.*"
   ]
  },
  {
   "cell_type": "markdown",
   "id": "0ae86318",
   "metadata": {},
   "source": [
    "## 1 Conditionals"
   ]
  },
  {
   "cell_type": "markdown",
   "id": "d586622b",
   "metadata": {},
   "source": [
    "Programming often involves examining a set of conditions then deciding which action to take based on those conditions. In the following section, we'll discuss the building blocks that we need to integrate conditional logic to our code. In particular, we will discuss **conditional statements** which allow us to check conditions and determine the behavior of the program accordingly."
   ]
  },
  {
   "cell_type": "markdown",
   "id": "d5c5450d",
   "metadata": {},
   "source": [
    "### Conditional tests"
   ]
  },
  {
   "cell_type": "markdown",
   "id": "d4bcb0e2",
   "metadata": {},
   "source": [
    "First thing that we need are expressions that can be evaluated as `True` or `False`. In Python, these are expressed as *conditional tests*. Most of these tests compare the current value of a variable to a specific value of interest."
   ]
  },
  {
   "cell_type": "markdown",
   "id": "1469d8a0",
   "metadata": {},
   "source": [
    "#### Checking for equality"
   ]
  },
  {
   "cell_type": "markdown",
   "id": "890372fa",
   "metadata": {},
   "source": [
    "For example, to check for equality between two values, we use the equality operation denoted by `==`. This operator returns `True` if the values on the left and right side of the operator match, and `False` if they don't match."
   ]
  },
  {
   "cell_type": "code",
   "execution_count": null,
   "id": "9a14fc38",
   "metadata": {
    "ExecuteTime": {
     "end_time": "2024-01-26T19:05:43.539362Z",
     "start_time": "2024-01-26T19:05:43.528016Z"
    }
   },
   "outputs": [],
   "source": []
  },
  {
   "cell_type": "code",
   "execution_count": null,
   "id": "7f4aab9e",
   "metadata": {
    "ExecuteTime": {
     "end_time": "2024-01-26T19:05:43.543985Z",
     "start_time": "2024-01-26T19:05:43.541349Z"
    }
   },
   "outputs": [],
   "source": []
  },
  {
   "cell_type": "code",
   "execution_count": null,
   "id": "1118690f",
   "metadata": {
    "ExecuteTime": {
     "end_time": "2024-01-26T19:05:43.546624Z",
     "start_time": "2024-01-26T19:05:43.544875Z"
    }
   },
   "outputs": [],
   "source": []
  },
  {
   "cell_type": "markdown",
   "id": "986e8ff2",
   "metadata": {},
   "source": [
    "Note that when comparing string, testing for equality is case sensitive. This means that strings with different capitalization are not considered equal"
   ]
  },
  {
   "cell_type": "code",
   "execution_count": null,
   "id": "ffd790ff",
   "metadata": {
    "ExecuteTime": {
     "end_time": "2024-01-26T19:05:43.551291Z",
     "start_time": "2024-01-26T19:05:43.548674Z"
    }
   },
   "outputs": [],
   "source": []
  },
  {
   "cell_type": "markdown",
   "id": "1e3e861f",
   "metadata": {},
   "source": [
    "What we can do to mediate this is to normalize the case of a variable's value just before doing the comparison."
   ]
  },
  {
   "cell_type": "code",
   "execution_count": null,
   "id": "36cda26b",
   "metadata": {
    "ExecuteTime": {
     "end_time": "2024-01-26T19:05:43.555170Z",
     "start_time": "2024-01-26T19:05:43.552424Z"
    }
   },
   "outputs": [],
   "source": []
  },
  {
   "cell_type": "markdown",
   "id": "22b6a6ad",
   "metadata": {},
   "source": [
    "#### Checking for Inequality"
   ]
  },
  {
   "cell_type": "markdown",
   "id": "91140e8e",
   "metadata": {},
   "source": [
    "When we want to determine if two values are not equal, we can use the not equal operator. This is denoted by the `!=` operator."
   ]
  },
  {
   "cell_type": "code",
   "execution_count": null,
   "id": "c21dfa1e",
   "metadata": {
    "ExecuteTime": {
     "end_time": "2024-01-26T19:05:43.558678Z",
     "start_time": "2024-01-26T19:05:43.556155Z"
    }
   },
   "outputs": [],
   "source": []
  },
  {
   "cell_type": "markdown",
   "id": "9c435d11",
   "metadata": {},
   "source": [
    "#### Numerical comparisons"
   ]
  },
  {
   "cell_type": "markdown",
   "id": "949de615",
   "metadata": {},
   "source": [
    "Testing numerical values is also straightforward, refer to the table below for the different comparison you can make and the corresponding operators.\n",
    "\n",
    "| Operator | Description |\n",
    "| -------- | ----------- |\n",
    "| `==` | If the values of the operands are equal, then the condition becomes `True` | \n",
    "| `!=` | If the values of the operands are NOT equal, then this will return `True` |\n",
    "| `>` | If the value of the left operand is greater than the value of right operand, this will return `True` |\n",
    "| `<` | If the value of the left operand is less than the value of the right operand, this will return `False` |\n",
    "| `>=` | If the value of the left operand is greater than or equal to the value of right operand, this will return `True` |\n",
    "| `<=` | If the value of the left operand is less than or equal to the value of right operand, this will return `True` |"
   ]
  },
  {
   "cell_type": "markdown",
   "id": "56085e1c",
   "metadata": {},
   "source": [
    "For example, you are trying to check the age of a particular person, you can do:"
   ]
  },
  {
   "cell_type": "code",
   "execution_count": null,
   "id": "2dbd8f6c",
   "metadata": {
    "ExecuteTime": {
     "end_time": "2024-01-26T19:05:43.561905Z",
     "start_time": "2024-01-26T19:05:43.559574Z"
    }
   },
   "outputs": [],
   "source": []
  },
  {
   "cell_type": "markdown",
   "id": "c74805c1",
   "metadata": {},
   "source": [
    "#### Checking multiple conditions"
   ]
  },
  {
   "cell_type": "markdown",
   "id": "acec468a",
   "metadata": {},
   "source": [
    "To check for multiple conditions, you can use the `and` and `or` operator. The `and` operator returns `True` if the operands are both `True`. Meanwhile, the `or` operator returns `True` if at least one of the operand is `True`."
   ]
  },
  {
   "cell_type": "code",
   "execution_count": null,
   "id": "430aa674",
   "metadata": {
    "ExecuteTime": {
     "end_time": "2024-01-26T19:05:43.565401Z",
     "start_time": "2024-01-26T19:05:43.562746Z"
    }
   },
   "outputs": [],
   "source": []
  },
  {
   "cell_type": "code",
   "execution_count": null,
   "id": "3a0e9c2d",
   "metadata": {
    "ExecuteTime": {
     "end_time": "2024-01-26T19:05:43.569830Z",
     "start_time": "2024-01-26T19:05:43.567028Z"
    }
   },
   "outputs": [],
   "source": []
  },
  {
   "cell_type": "markdown",
   "id": "91d19cb9",
   "metadata": {},
   "source": [
    "#### Boolean Expressions"
   ]
  },
  {
   "cell_type": "markdown",
   "id": "b2413aa2",
   "metadata": {},
   "source": [
    "Notice that the printed values for the above conditionals correspond to the value of either `True` or `False`. This kind of value is what we call a `Boolean value`."
   ]
  },
  {
   "cell_type": "code",
   "execution_count": null,
   "id": "33e644b5",
   "metadata": {
    "ExecuteTime": {
     "end_time": "2024-01-26T19:05:43.575575Z",
     "start_time": "2024-01-26T19:05:43.572634Z"
    }
   },
   "outputs": [],
   "source": []
  },
  {
   "cell_type": "markdown",
   "id": "1adf4743",
   "metadata": {},
   "source": [
    "Boolean values are often used to keep track of certain conditions such as whether a person is active or whether a person has certain permissions."
   ]
  },
  {
   "cell_type": "code",
   "execution_count": null,
   "id": "a1c7ac54",
   "metadata": {
    "ExecuteTime": {
     "end_time": "2024-01-26T19:05:43.579685Z",
     "start_time": "2024-01-26T19:05:43.576886Z"
    }
   },
   "outputs": [],
   "source": []
  },
  {
   "cell_type": "markdown",
   "id": "f171ade2",
   "metadata": {},
   "source": [
    "#### Using the `not` keyword"
   ]
  },
  {
   "cell_type": "markdown",
   "id": "8f6a205f",
   "metadata": {},
   "source": [
    "The `not` keyword can also be used to negate any *boolean* value."
   ]
  },
  {
   "cell_type": "code",
   "execution_count": null,
   "id": "f164b981",
   "metadata": {
    "ExecuteTime": {
     "end_time": "2024-01-26T19:05:43.585006Z",
     "start_time": "2024-01-26T19:05:43.581217Z"
    }
   },
   "outputs": [],
   "source": []
  },
  {
   "cell_type": "code",
   "execution_count": null,
   "id": "e8746e6d",
   "metadata": {
    "ExecuteTime": {
     "end_time": "2024-01-26T19:05:43.588638Z",
     "start_time": "2024-01-26T19:05:43.586034Z"
    }
   },
   "outputs": [],
   "source": []
  },
  {
   "cell_type": "markdown",
   "id": "2af089e2",
   "metadata": {},
   "source": [
    "## 2 `if` Statements"
   ]
  },
  {
   "cell_type": "markdown",
   "id": "5f58fb5d",
   "metadata": {},
   "source": [
    "Now we understand how to make conditional tests, we can start to integrate logic to our code."
   ]
  },
  {
   "cell_type": "markdown",
   "id": "c4518ed0",
   "metadata": {},
   "source": [
    "### Simple `if` Statements"
   ]
  },
  {
   "cell_type": "markdown",
   "id": "e8ee336d",
   "metadata": {},
   "source": [
    "The simplest kind of `if` statement has one test and one action:\n",
    "\n",
    "```python\n",
    "if conditional_test:\n",
    "    do something\n",
    "```"
   ]
  },
  {
   "cell_type": "code",
   "execution_count": null,
   "id": "f2875bb4",
   "metadata": {
    "ExecuteTime": {
     "end_time": "2024-01-26T19:05:43.592678Z",
     "start_time": "2024-01-26T19:05:43.590810Z"
    }
   },
   "outputs": [],
   "source": []
  },
  {
   "cell_type": "markdown",
   "id": "a311efbc",
   "metadata": {},
   "source": [
    "### `if`-`else` statements"
   ]
  },
  {
   "cell_type": "markdown",
   "id": "c030db7e",
   "metadata": {},
   "source": [
    "Oftentimes, you'll want to take one action when a conditional test passes and a different action in all other cases. We can use Python's `if`-`else` syntax to make this possible.\n",
    "\n",
    "```python\n",
    "if conditional_test:\n",
    "    # Do something if `conditional_test` is True\n",
    "else:\n",
    "    # Do something if `conditional_test` is False\n",
    "```"
   ]
  },
  {
   "cell_type": "code",
   "execution_count": null,
   "id": "00f48a63",
   "metadata": {
    "ExecuteTime": {
     "end_time": "2024-01-26T19:05:43.597615Z",
     "start_time": "2024-01-26T19:05:43.594240Z"
    }
   },
   "outputs": [],
   "source": []
  },
  {
   "cell_type": "markdown",
   "id": "4c1d089b",
   "metadata": {},
   "source": [
    "### `if`-`elif`-`else` chain"
   ]
  },
  {
   "cell_type": "markdown",
   "id": "68885ea9",
   "metadata": {},
   "source": [
    "In other times, you'll need to test more than two possible situations. To evaluate this, you can use the Python's `if-elif-else` syntax. Python will execute only one block in the `if-elif-else` chain. It runs each conditional test in order until one passes. When a test passes, the code following that test is executed and Python skips the rest of the tests."
   ]
  },
  {
   "cell_type": "markdown",
   "id": "b8695cd1",
   "metadata": {},
   "source": [
    "A real world example of this is typhoon classification."
   ]
  },
  {
   "cell_type": "code",
   "execution_count": null,
   "id": "a93fdb83",
   "metadata": {
    "ExecuteTime": {
     "end_time": "2024-01-26T19:05:43.602351Z",
     "start_time": "2024-01-26T19:05:43.598996Z"
    }
   },
   "outputs": [],
   "source": []
  },
  {
   "cell_type": "markdown",
   "id": "61825d6a",
   "metadata": {},
   "source": [
    "Note that Python does not require an `else` block at the end of the `if-elif` chain. Sometimes an else block can be useful, sometimes it is clearer to use an additional `elif` statement that catches the specific condition of interest."
   ]
  },
  {
   "cell_type": "markdown",
   "id": "c2db2afc",
   "metadata": {},
   "source": [
    "## 3 Loops"
   ]
  },
  {
   "cell_type": "markdown",
   "id": "7a571dc2",
   "metadata": {},
   "source": [
    "Up until know, if we want to execute a code two hundred times, you would need to run that specific code block/cell two hundred times. For this section, we will introduce another fundamental kind of control flow: repetition. We'll see how we can write an instruction once and use loops to repeat that code the desired number of times.\n",
    "\n",
    "There are two ways to use loops: the first one is using an iterable which allows us to process items in a collection of data; the second one is to use conditionals as trigger when to stop executing the code in the loop. We'll consider both of these in the next subsections."
   ]
  },
  {
   "cell_type": "markdown",
   "id": "f44fce69",
   "metadata": {},
   "source": [
    "### Looping through an entire collection"
   ]
  },
  {
   "cell_type": "markdown",
   "id": "318d28fa",
   "metadata": {},
   "source": [
    "We'll often would want to run through different elements in an iterable, performing the same task in each item. As an example, consider a task wherein we are to check whether a particular letter in a string is in uppercase. We can use Python's `for` loop syntax to process each character, without having to write one statement per element."
   ]
  },
  {
   "cell_type": "code",
   "execution_count": null,
   "id": "40ac9cbd",
   "metadata": {
    "ExecuteTime": {
     "end_time": "2024-01-26T19:05:43.607482Z",
     "start_time": "2024-01-26T19:05:43.604042Z"
    }
   },
   "outputs": [],
   "source": []
  },
  {
   "cell_type": "markdown",
   "id": "1a112789",
   "metadata": {},
   "source": [
    "The general form of a `for` loop is as follows:\n",
    "\n",
    "```python\n",
    "for <<loop_variable>> in <<iterable>>:\n",
    "    <<block>>\n",
    "```"
   ]
  },
  {
   "cell_type": "markdown",
   "id": "7a960139",
   "metadata": {},
   "source": [
    "The way a `for` loop is executed is as follows:\n",
    "1. The loop variable is assigned the first item in the iterable, and the loop block is executed.\n",
    "2. The loop variable is then assigned to the second item in the iterable and the loop body is executed again\n",
    "3. This is repeated until the loop variable is assigned the last item in the iterable and the loop body is executed one last time.\n",
    "\n",
    "Always remember to indent the line after the `for` statement in a loop. If you forget, Python will remind you by throwing off and error."
   ]
  },
  {
   "cell_type": "markdown",
   "id": "ca9a11c0",
   "metadata": {},
   "source": [
    "#### Using the `range()` function"
   ]
  },
  {
   "cell_type": "markdown",
   "id": "27b3f60e",
   "metadata": {},
   "source": [
    "Python has a built-in function `range()` that can be useful to generate a series of numbers."
   ]
  },
  {
   "cell_type": "code",
   "execution_count": null,
   "id": "169bd119",
   "metadata": {
    "ExecuteTime": {
     "end_time": "2024-01-26T19:05:43.614159Z",
     "start_time": "2024-01-26T19:05:43.608801Z"
    },
    "scrolled": true
   },
   "outputs": [],
   "source": []
  },
  {
   "cell_type": "markdown",
   "id": "d4ef55a0",
   "metadata": {},
   "source": [
    "You can use the `range()` in two ways:\n",
    "\n",
    "First is by using an integer input"
   ]
  },
  {
   "cell_type": "code",
   "execution_count": null,
   "id": "faa0c3d2",
   "metadata": {
    "ExecuteTime": {
     "end_time": "2024-01-26T19:05:43.618435Z",
     "start_time": "2024-01-26T19:05:43.616031Z"
    }
   },
   "outputs": [],
   "source": []
  },
  {
   "cell_type": "markdown",
   "id": "2bd6e7eb",
   "metadata": {},
   "source": [
    "The second way is to specify the starting value, ending value, and optionally, the increment or decrement value."
   ]
  },
  {
   "cell_type": "code",
   "execution_count": null,
   "id": "980ca428",
   "metadata": {
    "ExecuteTime": {
     "end_time": "2024-01-26T19:05:43.624846Z",
     "start_time": "2024-01-26T19:05:43.620017Z"
    }
   },
   "outputs": [],
   "source": []
  },
  {
   "cell_type": "markdown",
   "id": "140a0b60",
   "metadata": {},
   "source": [
    "### Looping using conditionals"
   ]
  },
  {
   "cell_type": "markdown",
   "id": "0136dcde",
   "metadata": {},
   "source": [
    "`for` loops are useful if you know how many iterations of the loop you need. In some situations, you might not know in advance how many loop iterations you have to execute. In these cases, we can use a `while` loop. The general form of a `while` loop is as follows:\n",
    "\n",
    "```python\n",
    "while <<conditional_expression>>:\n",
    "    <<block>>\n",
    "```"
   ]
  },
  {
   "cell_type": "markdown",
   "id": "bfcfb42b",
   "metadata": {},
   "source": [
    "Here's an example:"
   ]
  },
  {
   "cell_type": "code",
   "execution_count": null,
   "id": "fba08804",
   "metadata": {
    "ExecuteTime": {
     "end_time": "2024-01-26T19:05:43.627677Z",
     "start_time": "2024-01-26T19:05:43.625819Z"
    }
   },
   "outputs": [],
   "source": []
  },
  {
   "cell_type": "markdown",
   "id": "c2ee4fb6",
   "metadata": {},
   "source": [
    "Another more useful example is a simple exponential growth model. Consider the following bacteria population model:\n",
    "\n",
    "$$\n",
    "P(t + 1) = P(t) + rP(t)\n",
    "$$\n",
    "\n",
    "where $P(t)$ is the population size at time $t$ in minutes and $r$ is the growth rate. Let's create a code that determines how long it takes for a bacteria to double their numbers."
   ]
  },
  {
   "cell_type": "code",
   "execution_count": null,
   "id": "73f7e830",
   "metadata": {
    "ExecuteTime": {
     "end_time": "2024-01-26T19:05:43.632148Z",
     "start_time": "2024-01-26T19:05:43.628540Z"
    }
   },
   "outputs": [],
   "source": []
  },
  {
   "cell_type": "markdown",
   "id": "29c85854",
   "metadata": {},
   "source": [
    "## 4 Hands-on Exercises"
   ]
  },
  {
   "cell_type": "markdown",
   "id": "830c15c5",
   "metadata": {},
   "source": [
    "### Stages of Life"
   ]
  },
  {
   "cell_type": "markdown",
   "id": "043105ce",
   "metadata": {},
   "source": [
    "Create a code that determines a person's stage of life given their `age`. The code will output a value according to the following conditions:\n",
    "- If a person's `age` is less than 2 years old, that person is a `baby`.\n",
    "- If a person's `age` is at least 2 years old but less than 4, that person is a `toddler`\n",
    "- If a person's `age` is at least 4 years old but less than 13, that person is a `kid`.\n",
    "- If a person's `age` is at least 13 years old but less than 20, that person is a `teenager`.\n",
    "- If a person's `age` is at least 20 years old but less than 65, that person is an `adult`.\n",
    "- If a person's `age` is 65 years or older, that person is an `elder`."
   ]
  },
  {
   "cell_type": "code",
   "execution_count": 1,
   "id": "2d9b0625",
   "metadata": {
    "ExecuteTime": {
     "end_time": "2024-01-26T19:05:43.659249Z",
     "start_time": "2024-01-26T19:05:43.656910Z"
    },
    "execution": {
     "iopub.execute_input": "2025-06-15T15:31:58.342595Z",
     "iopub.status.busy": "2025-06-15T15:31:58.342069Z",
     "iopub.status.idle": "2025-06-15T15:31:58.347290Z",
     "shell.execute_reply": "2025-06-15T15:31:58.346705Z",
     "shell.execute_reply.started": "2025-06-15T15:31:58.342489Z"
    }
   },
   "outputs": [],
   "source": [
    "# YOUR CODE HERE"
   ]
  },
  {
   "cell_type": "markdown",
   "id": "da393f38",
   "metadata": {},
   "source": [
    "### Generating Triangles"
   ]
  },
  {
   "cell_type": "markdown",
   "id": "b0ae77e0",
   "metadata": {},
   "source": [
    "Using `for` loops, print a right triangle `T` on the screen where the triangle is one character wide at its narrow point and seven characters wide at its widest point.\n",
    "\n",
    "```\n",
    "T\n",
    "TT\n",
    "TTT\n",
    "TTTT\n",
    "TTTTT\n",
    "TTTTTT\n",
    "TTTTTTT\n",
    "```"
   ]
  },
  {
   "cell_type": "code",
   "execution_count": 2,
   "id": "bb8562f4",
   "metadata": {
    "ExecuteTime": {
     "end_time": "2024-01-26T19:05:43.687301Z",
     "start_time": "2024-01-26T19:05:43.683633Z"
    },
    "execution": {
     "iopub.execute_input": "2025-06-15T15:31:58.348182Z",
     "iopub.status.busy": "2025-06-15T15:31:58.347984Z",
     "iopub.status.idle": "2025-06-15T15:31:58.352948Z",
     "shell.execute_reply": "2025-06-15T15:31:58.351820Z",
     "shell.execute_reply.started": "2025-06-15T15:31:58.348133Z"
    }
   },
   "outputs": [],
   "source": [
    "# YOUR CODE HERE"
   ]
  },
  {
   "cell_type": "markdown",
   "id": "d9e5fedf",
   "metadata": {},
   "source": [
    "Now try to print the triangle described in the previous exercise with its hypothenuse on the left side.\n",
    "\n",
    "```\n",
    "      T\n",
    "     TT\n",
    "    TTT\n",
    "   TTTT\n",
    "  TTTTT\n",
    " TTTTTT\n",
    "TTTTTTT\n",
    "```"
   ]
  },
  {
   "cell_type": "code",
   "execution_count": 3,
   "id": "a614d76b",
   "metadata": {
    "ExecuteTime": {
     "end_time": "2024-01-26T19:05:43.690541Z",
     "start_time": "2024-01-26T19:05:43.688319Z"
    },
    "execution": {
     "iopub.execute_input": "2025-06-15T15:31:58.354727Z",
     "iopub.status.busy": "2025-06-15T15:31:58.354565Z",
     "iopub.status.idle": "2025-06-15T15:31:58.357265Z",
     "shell.execute_reply": "2025-06-15T15:31:58.356873Z",
     "shell.execute_reply.started": "2025-06-15T15:31:58.354711Z"
    }
   },
   "outputs": [],
   "source": [
    "# YOUR CODE HERE"
   ]
  },
  {
   "cell_type": "markdown",
   "id": "ee24a5f9",
   "metadata": {},
   "source": [
    "### Fizz Buzz Fuzz"
   ]
  },
  {
   "cell_type": "markdown",
   "id": "0fdaf0da",
   "metadata": {},
   "source": [
    "Create a code that checks the value of an integer `n`, then prints a string output according to the following conditions:\n",
    "\n",
    "1. Print `'Fizz'` if `n` is divisble by 3.\n",
    "2. Print `'Buzz'` if `n` is divisible by 5.\n",
    "3. Print `'Fuzz'` if `n` is divisble by 15.\n",
    "4. Print the value `n` as a string if none of the above conditions are true."
   ]
  },
  {
   "cell_type": "code",
   "execution_count": 4,
   "id": "ef000643",
   "metadata": {
    "ExecuteTime": {
     "end_time": "2024-01-26T19:05:43.693475Z",
     "start_time": "2024-01-26T19:05:43.691544Z"
    },
    "execution": {
     "iopub.execute_input": "2025-06-15T15:31:58.358792Z",
     "iopub.status.busy": "2025-06-15T15:31:58.358573Z",
     "iopub.status.idle": "2025-06-15T15:31:58.364866Z",
     "shell.execute_reply": "2025-06-15T15:31:58.363845Z",
     "shell.execute_reply.started": "2025-06-15T15:31:58.358776Z"
    }
   },
   "outputs": [],
   "source": [
    "# YOUR CODE HERE"
   ]
  },
  {
   "cell_type": "markdown",
   "id": "c1572ae9",
   "metadata": {},
   "source": [
    "### Them rats!"
   ]
  },
  {
   "cell_type": "markdown",
   "id": "b844fb41",
   "metadata": {},
   "source": [
    "Variables `rat_1_weight` and `rat_2_weight` contain the weights of two rats at the beginning of the experiment. Variables `rat_1_rate` and `rat_2_rate` are the rate that the rats' weights are expected to increase each week. (for example, 5 percent per week for rat 1, and 2 percent per week for rat 2)"
   ]
  },
  {
   "cell_type": "code",
   "execution_count": 5,
   "id": "428be965",
   "metadata": {
    "ExecuteTime": {
     "end_time": "2024-01-26T19:05:43.696310Z",
     "start_time": "2024-01-26T19:05:43.694714Z"
    },
    "execution": {
     "iopub.execute_input": "2025-06-15T15:31:58.365778Z",
     "iopub.status.busy": "2025-06-15T15:31:58.365653Z",
     "iopub.status.idle": "2025-06-15T15:31:58.371459Z",
     "shell.execute_reply": "2025-06-15T15:31:58.370526Z",
     "shell.execute_reply.started": "2025-06-15T15:31:58.365765Z"
    }
   },
   "outputs": [],
   "source": [
    "rat_1_weight = 200\n",
    "rat_2_weight = 200\n",
    "rat_1_rate = 0.05\n",
    "rat_2_rate = 0.02"
   ]
  },
  {
   "cell_type": "markdown",
   "id": "cf2efa26",
   "metadata": {},
   "source": [
    "1. Using a `while` loop, calculate how many `weeks` it would take for the weight of the first rat to become 25 percent heavier than it was originally."
   ]
  },
  {
   "cell_type": "code",
   "execution_count": 6,
   "id": "64000f73",
   "metadata": {
    "ExecuteTime": {
     "end_time": "2024-01-26T19:05:43.699225Z",
     "start_time": "2024-01-26T19:05:43.697259Z"
    },
    "execution": {
     "iopub.execute_input": "2025-06-15T15:31:58.373920Z",
     "iopub.status.busy": "2025-06-15T15:31:58.373740Z",
     "iopub.status.idle": "2025-06-15T15:31:58.376173Z",
     "shell.execute_reply": "2025-06-15T15:31:58.375842Z",
     "shell.execute_reply.started": "2025-06-15T15:31:58.373905Z"
    }
   },
   "outputs": [],
   "source": [
    "weeks = 0\n",
    "# YOUR CODE HERE"
   ]
  },
  {
   "cell_type": "markdown",
   "id": "96ba7852",
   "metadata": {},
   "source": [
    "2. Using a `while` loop, calculate how many weeks it would take for rat 1 to be 10 percent heavier than rat 2."
   ]
  },
  {
   "cell_type": "code",
   "execution_count": 7,
   "id": "995d21e6",
   "metadata": {
    "ExecuteTime": {
     "end_time": "2024-01-26T19:05:43.707951Z",
     "start_time": "2024-01-26T19:05:43.704401Z"
    },
    "execution": {
     "iopub.execute_input": "2025-06-15T15:31:58.377052Z",
     "iopub.status.busy": "2025-06-15T15:31:58.376790Z",
     "iopub.status.idle": "2025-06-15T15:31:58.380616Z",
     "shell.execute_reply": "2025-06-15T15:31:58.379614Z",
     "shell.execute_reply.started": "2025-06-15T15:31:58.377038Z"
    }
   },
   "outputs": [],
   "source": [
    "weeks = 0\n",
    "# YOUR CODE HERE"
   ]
  }
 ],
 "metadata": {
  "kernelspec": {
   "display_name": "Python 3 (ipykernel)",
   "language": "python",
   "name": "python3"
  },
  "language_info": {
   "codemirror_mode": {
    "name": "ipython",
    "version": 3
   },
   "file_extension": ".py",
   "mimetype": "text/x-python",
   "name": "python",
   "nbconvert_exporter": "python",
   "pygments_lexer": "ipython3",
   "version": "3.9.15"
  }
 },
 "nbformat": 4,
 "nbformat_minor": 5
}
