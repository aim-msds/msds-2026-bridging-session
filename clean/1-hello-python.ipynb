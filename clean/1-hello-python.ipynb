{
 "cells": [
  {
   "cell_type": "markdown",
   "id": "e2cbc731",
   "metadata": {
    "id": "e2cbc731",
    "nbgrader": {
     "grade": false,
     "grade_id": "cell-85a1c0d547f69511",
     "locked": true,
     "schema_version": 3,
     "solution": false,
     "task": false
    },
    "tags": []
   },
   "source": [
    "# Hello Python! 🐍\n",
    "\n",
    "References:\n",
    "\n",
    "[1] B Downey, A. (2012). *Think Python: How to Think Like a Computer Scientist-2e.*\n",
    "\n",
    "[2] Gries, P., Campbell, J., & Montojo, J. (2017). *Practical programming: an introduction to computer science using Python 3.6.* Pragmatic Bookshelf.\n",
    "\n",
    "[3] Matthes, E. (2023). *Python crash course: A hands-on, project-based introduction to programming.*References:"
   ]
  },
  {
   "cell_type": "markdown",
   "id": "f3fcbc08",
   "metadata": {
    "id": "f3fcbc08",
    "nbgrader": {
     "grade": false,
     "grade_id": "cell-be66e01aa2e891b5",
     "locked": true,
     "schema_version": 3,
     "solution": false,
     "task": false
    },
    "tags": []
   },
   "source": [
    "## 1 The Ceremonial `hello world!`"
   ]
  },
  {
   "cell_type": "markdown",
   "id": "90418e94",
   "metadata": {
    "id": "90418e94",
    "nbgrader": {
     "grade": false,
     "grade_id": "cell-87651ee76e1a1c7e",
     "locked": true,
     "schema_version": 3,
     "solution": false,
     "task": false
    },
    "tags": []
   },
   "source": [
    "Let us know perform the ceremonial printing of `hello world!` using python!"
   ]
  },
  {
   "cell_type": "markdown",
   "id": "9618e105",
   "metadata": {
    "id": "9618e105",
    "nbgrader": {
     "grade": false,
     "grade_id": "cell-808089b76213ba07",
     "locked": true,
     "schema_version": 3,
     "solution": false,
     "task": false
    },
    "tags": []
   },
   "source": [
    "### Approach 1"
   ]
  },
  {
   "cell_type": "markdown",
   "id": "7f5ec81d",
   "metadata": {
    "id": "7f5ec81d",
    "nbgrader": {
     "grade": false,
     "grade_id": "cell-1c4d790408f86d88",
     "locked": true,
     "schema_version": 3,
     "solution": false,
     "task": false
    },
    "tags": []
   },
   "source": [
    "```\n",
    "start\n",
    "print the string \"hello world!\"\n",
    "end\n",
    "```"
   ]
  },
  {
   "cell_type": "code",
   "execution_count": null,
   "id": "eb811409",
   "metadata": {
    "ExecuteTime": {
     "end_time": "2024-01-26T19:06:41.291576Z",
     "start_time": "2024-01-26T19:06:41.285044Z"
    },
    "id": "eb811409"
   },
   "outputs": [],
   "source": []
  },
  {
   "cell_type": "markdown",
   "id": "7a4cf9f9",
   "metadata": {
    "id": "7a4cf9f9",
    "nbgrader": {
     "grade": false,
     "grade_id": "cell-0ed1c7ff5406ca9f",
     "locked": true,
     "schema_version": 3,
     "solution": false,
     "task": false
    },
    "tags": []
   },
   "source": [
    "### Approach 2"
   ]
  },
  {
   "cell_type": "markdown",
   "id": "9ecb5b1d",
   "metadata": {
    "id": "9ecb5b1d",
    "nbgrader": {
     "grade": false,
     "grade_id": "cell-801e48ad6909757b",
     "locked": true,
     "schema_version": 3,
     "solution": false,
     "task": false
    },
    "tags": []
   },
   "source": [
    "```\n",
    "start\n",
    "set `message` as `\"hello world!\"`\n",
    "print `message`\n",
    "end\n",
    "```"
   ]
  },
  {
   "cell_type": "code",
   "execution_count": null,
   "id": "0353670a",
   "metadata": {
    "ExecuteTime": {
     "end_time": "2024-01-26T19:06:41.295125Z",
     "start_time": "2024-01-26T19:06:41.293452Z"
    },
    "id": "0353670a"
   },
   "outputs": [],
   "source": []
  },
  {
   "cell_type": "markdown",
   "id": "6b690f3c",
   "metadata": {
    "id": "6b690f3c",
    "nbgrader": {
     "grade": false,
     "grade_id": "cell-f6f156a9efae6812",
     "locked": true,
     "schema_version": 3,
     "solution": false,
     "task": false
    },
    "tags": []
   },
   "source": [
    "The difference is that in approach 2, we've set the **variable** `message` with the value `\"hello world!\"` then printed the `message` in our notebook."
   ]
  },
  {
   "cell_type": "markdown",
   "id": "cb07668a",
   "metadata": {
    "id": "cb07668a",
    "nbgrader": {
     "grade": false,
     "grade_id": "cell-e2ba4e2e061e5106",
     "locked": true,
     "schema_version": 3,
     "solution": false,
     "task": false
    },
    "tags": []
   },
   "source": [
    "When we are using variables in Python, there are some rules and guidelines.\n",
    "\n",
    "1. Variable names can contain only letters, numbers, and underscores. They can start with a letter or an underscore, but not with a number. e.g., `message_1` is valid but `1_message` is not.\n",
    "2. Spaces are not allowed in variable names, but underscores can be used to separate words in variable names. e.g., `greeting_message` works, but `greeting message` will cause errors.\n",
    "3. Avoid using Python keywords and function names as variable names; do not use words that Python has reserved for a particular purpose. e.g., `print`. See [Python Keywords](https://www.w3schools.com/python/python_ref_keywords.asp) for more examples.\n",
    "4. Variable names should be short but descriptive.\n",
    "5. Be careful when using lower case `l` and upper case `O`, because they can be confused with `1` and `0`."
   ]
  },
  {
   "cell_type": "markdown",
   "id": "337cbbc1-699b-4523-90b5-3d2cc49c89b4",
   "metadata": {},
   "source": [
    "<div class=\"alert alert-success\">\n",
    "\n",
    "**Some Useful Terminologies**\n",
    "    \n",
    "**Value**: basic unit of data, e.g. number or string that a program manipulates\n",
    "\n",
    "**Type**: a category of value\n",
    "\n",
    "**Expression**: a combination of value, variables, and operators\n",
    "\n",
    "```python\n",
    "42\n",
    "n * 42\n",
    "```\n",
    "\n",
    "**Statement**: a unit of code that has an effect\n",
    "\n",
    "```python\n",
    "print(\"Hello World!\")\n",
    "a = 17\n",
    "```\n",
    "\n",
    "</div>"
   ]
  },
  {
   "cell_type": "markdown",
   "id": "3317d51d",
   "metadata": {
    "id": "3317d51d",
    "nbgrader": {
     "grade": false,
     "grade_id": "cell-88d23d023bdf5403",
     "locked": true,
     "schema_version": 3,
     "solution": false,
     "task": false
    },
    "tags": []
   },
   "source": [
    "## 2 Strings"
   ]
  },
  {
   "cell_type": "markdown",
   "id": "26138239",
   "metadata": {
    "id": "26138239",
    "nbgrader": {
     "grade": false,
     "grade_id": "cell-903e0962f14e1075",
     "locked": true,
     "schema_version": 3,
     "solution": false,
     "task": false
    },
    "tags": []
   },
   "source": [
    "A *string* is a series of characters. We can define strings in python using single or double quotes."
   ]
  },
  {
   "cell_type": "markdown",
   "id": "11a8391f",
   "metadata": {
    "id": "11a8391f",
    "nbgrader": {
     "grade": false,
     "grade_id": "cell-68914ff3a77ffa8a",
     "locked": true,
     "schema_version": 3,
     "solution": false,
     "task": false
    },
    "tags": []
   },
   "source": [
    "### Defining strings"
   ]
  },
  {
   "cell_type": "code",
   "execution_count": null,
   "id": "94398496",
   "metadata": {
    "ExecuteTime": {
     "end_time": "2024-01-26T19:06:41.301912Z",
     "start_time": "2024-01-26T19:06:41.296021Z"
    },
    "id": "94398496"
   },
   "outputs": [],
   "source": []
  },
  {
   "cell_type": "code",
   "execution_count": null,
   "id": "37b7cd4f",
   "metadata": {
    "ExecuteTime": {
     "end_time": "2024-01-26T19:06:41.305925Z",
     "start_time": "2024-01-26T19:06:41.304037Z"
    },
    "id": "37b7cd4f"
   },
   "outputs": [],
   "source": []
  },
  {
   "cell_type": "code",
   "execution_count": null,
   "id": "ce54853e",
   "metadata": {
    "ExecuteTime": {
     "end_time": "2024-01-26T19:06:41.310612Z",
     "start_time": "2024-01-26T19:06:41.306890Z"
    },
    "id": "ce54853e"
   },
   "outputs": [],
   "source": []
  },
  {
   "cell_type": "code",
   "execution_count": null,
   "id": "7d00823d",
   "metadata": {
    "ExecuteTime": {
     "end_time": "2024-01-26T19:06:41.313745Z",
     "start_time": "2024-01-26T19:06:41.311669Z"
    },
    "id": "7d00823d"
   },
   "outputs": [],
   "source": []
  },
  {
   "cell_type": "code",
   "execution_count": null,
   "id": "8cd5fd59-d360-4e37-a947-097bb6d0afc9",
   "metadata": {},
   "outputs": [],
   "source": []
  },
  {
   "cell_type": "markdown",
   "id": "b9bc4307",
   "metadata": {
    "id": "b9bc4307",
    "nbgrader": {
     "grade": false,
     "grade_id": "cell-dea11fe7af0e947a",
     "locked": true,
     "schema_version": 3,
     "solution": false,
     "task": false
    },
    "tags": []
   },
   "source": [
    "### String operations"
   ]
  },
  {
   "cell_type": "markdown",
   "id": "8ec078be",
   "metadata": {
    "id": "8ec078be",
    "nbgrader": {
     "grade": false,
     "grade_id": "cell-704480db341a695e",
     "locked": true,
     "schema_version": 3,
     "solution": false,
     "task": false
    },
    "tags": []
   },
   "source": [
    "Here are some other operations that you can do with strings:"
   ]
  },
  {
   "cell_type": "code",
   "execution_count": null,
   "id": "3b9cbd1d",
   "metadata": {
    "ExecuteTime": {
     "end_time": "2024-01-26T19:06:41.317456Z",
     "start_time": "2024-01-26T19:06:41.314659Z"
    },
    "id": "3b9cbd1d"
   },
   "outputs": [],
   "source": []
  },
  {
   "cell_type": "code",
   "execution_count": null,
   "id": "8d52d51f",
   "metadata": {
    "ExecuteTime": {
     "end_time": "2024-01-26T19:06:41.329041Z",
     "start_time": "2024-01-26T19:06:41.318842Z"
    },
    "id": "8d52d51f",
    "scrolled": true,
    "tags": []
   },
   "outputs": [],
   "source": []
  },
  {
   "cell_type": "code",
   "execution_count": null,
   "id": "c11e26bb",
   "metadata": {
    "ExecuteTime": {
     "end_time": "2024-01-26T19:06:41.353328Z",
     "start_time": "2024-01-26T19:06:41.330151Z"
    },
    "id": "c11e26bb"
   },
   "outputs": [],
   "source": []
  },
  {
   "cell_type": "code",
   "execution_count": null,
   "id": "A6Fe_5JX0BcW",
   "metadata": {
    "ExecuteTime": {
     "end_time": "2024-01-26T19:06:41.371181Z",
     "start_time": "2024-01-26T19:06:41.359232Z"
    },
    "id": "A6Fe_5JX0BcW"
   },
   "outputs": [],
   "source": []
  },
  {
   "cell_type": "markdown",
   "id": "b29ecaba",
   "metadata": {
    "id": "b29ecaba",
    "nbgrader": {
     "grade": false,
     "grade_id": "cell-61df0f9ff9d5a8aa",
     "locked": true,
     "schema_version": 3,
     "solution": false,
     "task": false
    },
    "tags": []
   },
   "source": [
    "### Using variables in strings"
   ]
  },
  {
   "cell_type": "code",
   "execution_count": null,
   "id": "94b071ba",
   "metadata": {
    "ExecuteTime": {
     "end_time": "2024-01-26T19:06:41.468249Z",
     "start_time": "2024-01-26T19:06:41.465428Z"
    },
    "id": "94b071ba"
   },
   "outputs": [],
   "source": []
  },
  {
   "cell_type": "code",
   "execution_count": null,
   "id": "6dacae4b",
   "metadata": {
    "ExecuteTime": {
     "end_time": "2024-01-26T19:06:41.474704Z",
     "start_time": "2024-01-26T19:06:41.469492Z"
    },
    "id": "6dacae4b"
   },
   "outputs": [],
   "source": []
  },
  {
   "cell_type": "code",
   "execution_count": null,
   "id": "1548a088",
   "metadata": {
    "ExecuteTime": {
     "end_time": "2024-01-26T19:06:41.477561Z",
     "start_time": "2024-01-26T19:06:41.475633Z"
    },
    "id": "1548a088"
   },
   "outputs": [],
   "source": []
  },
  {
   "cell_type": "markdown",
   "id": "eb9a297e",
   "metadata": {
    "id": "eb9a297e",
    "nbgrader": {
     "grade": false,
     "grade_id": "cell-ca2c58aa09c00b9f",
     "locked": true,
     "schema_version": 3,
     "solution": false,
     "task": false
    },
    "tags": []
   },
   "source": [
    "## 3 Numbers"
   ]
  },
  {
   "cell_type": "markdown",
   "id": "8d7cf644",
   "metadata": {
    "id": "8d7cf644",
    "nbgrader": {
     "grade": false,
     "grade_id": "cell-7a5c53cc744a77e2",
     "locked": true,
     "schema_version": 3,
     "solution": false,
     "task": false
    },
    "tags": []
   },
   "source": [
    "Now, let's look at how numbers are defined in Python."
   ]
  },
  {
   "cell_type": "markdown",
   "id": "d9759d52",
   "metadata": {
    "id": "d9759d52",
    "nbgrader": {
     "grade": false,
     "grade_id": "cell-0540df7731799f25",
     "locked": true,
     "schema_version": 3,
     "solution": false,
     "task": false
    },
    "tags": []
   },
   "source": [
    "### Defining numbers"
   ]
  },
  {
   "cell_type": "markdown",
   "id": "41a40c9b",
   "metadata": {
    "id": "41a40c9b",
    "nbgrader": {
     "grade": false,
     "grade_id": "cell-d615a170fbcb530b",
     "locked": true,
     "schema_version": 3,
     "solution": false,
     "task": false
    },
    "tags": []
   },
   "source": [
    "Numbers can be any of the following type:\n",
    "\n",
    "1. `int` - Integers (a number that is not a fraction; a whole number)\n",
    "2. `float` - Any number with a decimal point"
   ]
  },
  {
   "cell_type": "code",
   "execution_count": null,
   "id": "77a06855",
   "metadata": {
    "ExecuteTime": {
     "end_time": "2024-01-26T19:06:41.486540Z",
     "start_time": "2024-01-26T19:06:41.479072Z"
    },
    "id": "77a06855"
   },
   "outputs": [],
   "source": []
  },
  {
   "cell_type": "code",
   "execution_count": null,
   "id": "KBCPOR3W1TmM",
   "metadata": {
    "ExecuteTime": {
     "end_time": "2024-01-26T19:06:41.493576Z",
     "start_time": "2024-01-26T19:06:41.488945Z"
    },
    "id": "KBCPOR3W1TmM"
   },
   "outputs": [],
   "source": []
  },
  {
   "cell_type": "code",
   "execution_count": null,
   "id": "4aa5347f",
   "metadata": {
    "ExecuteTime": {
     "end_time": "2024-01-26T19:06:41.504361Z",
     "start_time": "2024-01-26T19:06:41.496375Z"
    },
    "id": "4aa5347f"
   },
   "outputs": [],
   "source": []
  },
  {
   "cell_type": "code",
   "execution_count": null,
   "id": "811b8e04",
   "metadata": {
    "ExecuteTime": {
     "end_time": "2024-01-26T19:06:41.514575Z",
     "start_time": "2024-01-26T19:06:41.508873Z"
    },
    "id": "811b8e04"
   },
   "outputs": [],
   "source": []
  },
  {
   "cell_type": "markdown",
   "id": "2e428b92",
   "metadata": {
    "id": "2e428b92",
    "nbgrader": {
     "grade": false,
     "grade_id": "cell-5f1fed3bd1e48a17",
     "locked": true,
     "schema_version": 3,
     "solution": false,
     "task": false
    },
    "tags": []
   },
   "source": [
    "When you divide any two numbers, the result is always a float"
   ]
  },
  {
   "cell_type": "code",
   "execution_count": null,
   "id": "162cf072",
   "metadata": {
    "ExecuteTime": {
     "end_time": "2024-01-26T19:06:41.523613Z",
     "start_time": "2024-01-26T19:06:41.516314Z"
    },
    "id": "162cf072"
   },
   "outputs": [],
   "source": []
  },
  {
   "cell_type": "markdown",
   "id": "6250dc53",
   "metadata": {
    "id": "6250dc53",
    "nbgrader": {
     "grade": false,
     "grade_id": "cell-4f81fab83fbfbb0c",
     "locked": true,
     "schema_version": 3,
     "solution": false,
     "task": false
    },
    "tags": []
   },
   "source": [
    "But you can force the output to be of a specific type by using the `float` or `int` functions"
   ]
  },
  {
   "cell_type": "code",
   "execution_count": null,
   "id": "ee66ebaa",
   "metadata": {
    "ExecuteTime": {
     "end_time": "2024-01-26T19:06:41.529127Z",
     "start_time": "2024-01-26T19:06:41.524543Z"
    },
    "id": "ee66ebaa"
   },
   "outputs": [],
   "source": []
  },
  {
   "cell_type": "markdown",
   "id": "82cbf9c8",
   "metadata": {
    "id": "82cbf9c8",
    "nbgrader": {
     "grade": false,
     "grade_id": "cell-55c3fba55bbedb7b",
     "locked": true,
     "schema_version": 3,
     "solution": false,
     "task": false
    },
    "tags": []
   },
   "source": [
    "To make numbers more readable, you can also use `_` to group digits."
   ]
  },
  {
   "cell_type": "code",
   "execution_count": null,
   "id": "2fKK5h0I1ttb",
   "metadata": {
    "ExecuteTime": {
     "end_time": "2024-01-26T19:06:41.532787Z",
     "start_time": "2024-01-26T19:06:41.530040Z"
    },
    "id": "2fKK5h0I1ttb"
   },
   "outputs": [],
   "source": []
  },
  {
   "cell_type": "code",
   "execution_count": null,
   "id": "981cc121",
   "metadata": {
    "ExecuteTime": {
     "end_time": "2024-01-26T19:06:41.544844Z",
     "start_time": "2024-01-26T19:06:41.540421Z"
    },
    "id": "981cc121"
   },
   "outputs": [],
   "source": []
  },
  {
   "cell_type": "markdown",
   "id": "f9725959",
   "metadata": {
    "id": "f9725959"
   },
   "source": [
    "Or print them with a specific formatting"
   ]
  },
  {
   "cell_type": "code",
   "execution_count": null,
   "id": "bfd27f12",
   "metadata": {
    "ExecuteTime": {
     "end_time": "2024-01-26T19:06:41.547434Z",
     "start_time": "2024-01-26T19:06:41.545619Z"
    },
    "id": "bfd27f12",
    "scrolled": true
   },
   "outputs": [],
   "source": []
  },
  {
   "cell_type": "markdown",
   "id": "ef8cc6b7",
   "metadata": {
    "id": "ef8cc6b7",
    "nbgrader": {
     "grade": false,
     "grade_id": "cell-2a6873548b4210c0",
     "locked": true,
     "schema_version": 3,
     "solution": false,
     "task": false
    },
    "tags": []
   },
   "source": [
    "### Number operations"
   ]
  },
  {
   "cell_type": "markdown",
   "id": "b9543b3f",
   "metadata": {
    "id": "b9543b3f",
    "nbgrader": {
     "grade": false,
     "grade_id": "cell-643b24979206b356",
     "locked": true,
     "schema_version": 3,
     "solution": false,
     "task": false
    },
    "tags": []
   },
   "source": [
    "Here are some arithmetic operators that we can use with numeric values\n",
    "\n",
    "| Operator | Name |\n",
    "| ------ | ----- |\n",
    "| + | Addition |\n",
    "| - | Subtraction |\n",
    "| * | Multiplication |\n",
    "| / | Division |\n",
    "| % | Modulus |\n",
    "| ** | Exponentiation |\n",
    "| // | Floor division |"
   ]
  },
  {
   "cell_type": "code",
   "execution_count": null,
   "id": "5c49e081",
   "metadata": {
    "ExecuteTime": {
     "end_time": "2024-01-26T19:06:41.553410Z",
     "start_time": "2024-01-26T19:06:41.548376Z"
    },
    "id": "5c49e081"
   },
   "outputs": [],
   "source": []
  },
  {
   "cell_type": "code",
   "execution_count": null,
   "id": "16746bff",
   "metadata": {
    "ExecuteTime": {
     "end_time": "2024-01-26T19:06:41.557851Z",
     "start_time": "2024-01-26T19:06:41.554824Z"
    },
    "id": "16746bff"
   },
   "outputs": [],
   "source": []
  },
  {
   "cell_type": "code",
   "execution_count": null,
   "id": "a816521e",
   "metadata": {
    "ExecuteTime": {
     "end_time": "2024-01-26T19:06:41.561939Z",
     "start_time": "2024-01-26T19:06:41.559708Z"
    },
    "id": "a816521e"
   },
   "outputs": [],
   "source": []
  },
  {
   "cell_type": "code",
   "execution_count": null,
   "id": "c389fb76",
   "metadata": {
    "ExecuteTime": {
     "end_time": "2024-01-26T19:06:41.564851Z",
     "start_time": "2024-01-26T19:06:41.562837Z"
    },
    "id": "c389fb76"
   },
   "outputs": [],
   "source": []
  },
  {
   "cell_type": "code",
   "execution_count": null,
   "id": "39fd1f77",
   "metadata": {
    "ExecuteTime": {
     "end_time": "2024-01-26T19:06:41.573158Z",
     "start_time": "2024-01-26T19:06:41.565803Z"
    },
    "id": "39fd1f77"
   },
   "outputs": [],
   "source": []
  },
  {
   "cell_type": "code",
   "execution_count": null,
   "id": "1bde217a",
   "metadata": {
    "ExecuteTime": {
     "end_time": "2024-01-26T19:06:41.577878Z",
     "start_time": "2024-01-26T19:06:41.575219Z"
    },
    "id": "1bde217a"
   },
   "outputs": [],
   "source": []
  },
  {
   "cell_type": "code",
   "execution_count": null,
   "id": "496ae66a",
   "metadata": {
    "ExecuteTime": {
     "end_time": "2024-01-26T19:06:41.580828Z",
     "start_time": "2024-01-26T19:06:41.578800Z"
    },
    "id": "496ae66a"
   },
   "outputs": [],
   "source": []
  },
  {
   "cell_type": "code",
   "execution_count": null,
   "id": "0003191a",
   "metadata": {
    "ExecuteTime": {
     "end_time": "2024-01-26T19:06:41.587713Z",
     "start_time": "2024-01-26T19:06:41.581704Z"
    },
    "id": "0003191a"
   },
   "outputs": [],
   "source": []
  },
  {
   "cell_type": "markdown",
   "id": "247e7a53",
   "metadata": {
    "nbgrader": {
     "grade": false,
     "grade_id": "cell-7d2c641af0e98765",
     "locked": true,
     "schema_version": 3,
     "solution": false,
     "task": false
    },
    "tags": []
   },
   "source": [
    "But, wait, there's more!\n",
    "\n",
    "| Operations | Name |\n",
    "| ------ | ----- |\n",
    "| abs(x) | Absolute value of x |\n",
    "| int(x) | Converts x into an integer |\n",
    "| float(x) | Converts x into floating point |\n",
    "| complex(x, y) | Defines a complex number x + iy |\n",
    "| c.conjugate() | Conjugates complex number c |\n",
    "| divmod(x, y) | the pair (x // y, x % y) |\n",
    "| pow(x, y) | x to the power of y |\n",
    "| x ** y | x to the power of y |\n",
    "\n"
   ]
  },
  {
   "cell_type": "markdown",
   "id": "4d802e95",
   "metadata": {
    "id": "4d802e95",
    "nbgrader": {
     "grade": false,
     "grade_id": "cell-8d37987ecc18c3be",
     "locked": true,
     "schema_version": 3,
     "solution": false,
     "task": false
    },
    "tags": []
   },
   "source": [
    "## 4 Hands-on Exercises"
   ]
  },
  {
   "cell_type": "markdown",
   "id": "029daeed",
   "metadata": {
    "id": "029daeed",
    "nbgrader": {
     "grade": false,
     "grade_id": "cell-b72b64956477f278",
     "locked": true,
     "schema_version": 3,
     "solution": false,
     "task": false
    },
    "tags": []
   },
   "source": [
    "### Famous Quote"
   ]
  },
  {
   "cell_type": "markdown",
   "id": "7a863593",
   "metadata": {
    "id": "7a863593",
    "nbgrader": {
     "grade": false,
     "grade_id": "cell-71f536c27ff700e1",
     "locked": true,
     "schema_version": 3,
     "solution": false,
     "task": false
    },
    "tags": []
   },
   "source": [
    "Find a famous quote from a famouse person you admire. Represent the famous person's name using a variable `famous_person`. Then compose your message and represent it with a new variable called `message`. Print your `message`.\n",
    "\n",
    "The output should look like the following (including the quotation marks):\n",
    "\n",
    "```\n",
    "Albert Einstein once said, \"A person who never made a mistake never tried anything new.\"\n",
    "```"
   ]
  },
  {
   "cell_type": "code",
   "execution_count": 1,
   "id": "f82d28d9",
   "metadata": {
    "ExecuteTime": {
     "end_time": "2024-01-26T19:06:41.664872Z",
     "start_time": "2024-01-26T19:06:41.662926Z"
    },
    "execution": {
     "iopub.execute_input": "2025-06-15T15:16:42.510897Z",
     "iopub.status.busy": "2025-06-15T15:16:42.510217Z",
     "iopub.status.idle": "2025-06-15T15:16:42.515019Z",
     "shell.execute_reply": "2025-06-15T15:16:42.513458Z",
     "shell.execute_reply.started": "2025-06-15T15:16:42.510864Z"
    },
    "id": "f82d28d9",
    "nbgrader": {
     "grade": false,
     "grade_id": "cell-47268e81109fbb26",
     "locked": false,
     "schema_version": 3,
     "solution": true,
     "task": false
    },
    "tags": []
   },
   "outputs": [],
   "source": [
    "# YOUR CODE HERE"
   ]
  },
  {
   "cell_type": "markdown",
   "id": "630be415",
   "metadata": {
    "id": "630be415",
    "nbgrader": {
     "grade": false,
     "grade_id": "cell-8bd501b393f6d4e1",
     "locked": true,
     "schema_version": 3,
     "solution": false,
     "task": false
    },
    "tags": []
   },
   "source": [
    "### Temperature converter"
   ]
  },
  {
   "cell_type": "markdown",
   "id": "23def775",
   "metadata": {
    "id": "23def775",
    "nbgrader": {
     "grade": false,
     "grade_id": "cell-a75dab0e26828855",
     "locked": true,
     "schema_version": 3,
     "solution": false,
     "task": false
    },
    "tags": []
   },
   "source": [
    "Given a temperature in variable `celsius_temp` in degrees celsius, convert this temperature value into the fahrenheit scale then represent it using a new variable called `fahrenheit_temp`. The conversion between degrees celsius and fahrenheit is shown by the equation below:\n",
    "\n",
    "\n",
    "$$\n",
    "F = \\frac{9}{5} C + 32\n",
    "$$"
   ]
  },
  {
   "cell_type": "code",
   "execution_count": 2,
   "id": "dc50f39b",
   "metadata": {
    "ExecuteTime": {
     "end_time": "2024-01-26T19:06:41.669748Z",
     "start_time": "2024-01-26T19:06:41.666088Z"
    },
    "execution": {
     "iopub.execute_input": "2025-06-15T15:16:42.519104Z",
     "iopub.status.busy": "2025-06-15T15:16:42.517074Z",
     "iopub.status.idle": "2025-06-15T15:16:42.525367Z",
     "shell.execute_reply": "2025-06-15T15:16:42.524650Z",
     "shell.execute_reply.started": "2025-06-15T15:16:42.518864Z"
    },
    "id": "dc50f39b",
    "nbgrader": {
     "grade": false,
     "grade_id": "cell-8fa7e97d208bdf8c",
     "locked": false,
     "schema_version": 3,
     "solution": true,
     "task": false
    },
    "tags": []
   },
   "outputs": [],
   "source": [
    "# YOUR CODE HERE"
   ]
  },
  {
   "cell_type": "markdown",
   "id": "6434dedc",
   "metadata": {
    "id": "6434dedc",
    "nbgrader": {
     "grade": false,
     "grade_id": "cell-ea6a3f6a724efacb",
     "locked": true,
     "schema_version": 3,
     "solution": false,
     "task": false
    },
    "tags": []
   },
   "source": [
    "### Measuring distances"
   ]
  },
  {
   "cell_type": "markdown",
   "id": "266a636c",
   "metadata": {
    "id": "266a636c",
    "nbgrader": {
     "grade": false,
     "grade_id": "cell-858b612a46d85ff5",
     "locked": true,
     "schema_version": 3,
     "solution": false,
     "task": false
    },
    "tags": []
   },
   "source": [
    "Create a code that prints the Pythagorean (euclidean) `distance` between the two points. Represent the x and y coordinate of the first point as `x1` and `y1`, while set `x2` and `y2` the coordinate of the second point."
   ]
  },
  {
   "cell_type": "code",
   "execution_count": 3,
   "id": "267d3613",
   "metadata": {
    "ExecuteTime": {
     "end_time": "2024-01-26T19:06:41.673873Z",
     "start_time": "2024-01-26T19:06:41.671625Z"
    },
    "execution": {
     "iopub.execute_input": "2025-06-15T15:16:42.526924Z",
     "iopub.status.busy": "2025-06-15T15:16:42.526627Z",
     "iopub.status.idle": "2025-06-15T15:16:42.535159Z",
     "shell.execute_reply": "2025-06-15T15:16:42.534607Z",
     "shell.execute_reply.started": "2025-06-15T15:16:42.526883Z"
    },
    "id": "267d3613",
    "nbgrader": {
     "grade": false,
     "grade_id": "cell-29aba1b592bc2566",
     "locked": false,
     "schema_version": 3,
     "solution": true,
     "task": false
    },
    "tags": []
   },
   "outputs": [],
   "source": [
    "# YOUR CODE HERE"
   ]
  },
  {
   "cell_type": "markdown",
   "id": "4358fd80",
   "metadata": {
    "id": "4358fd80",
    "nbgrader": {
     "grade": false,
     "grade_id": "cell-0e4fc78a7f0af153",
     "locked": true,
     "schema_version": 3,
     "solution": false,
     "task": false
    },
    "tags": []
   },
   "source": [
    "### Time converter"
   ]
  },
  {
   "cell_type": "markdown",
   "id": "94729cc3",
   "metadata": {
    "id": "94729cc3",
    "nbgrader": {
     "grade": false,
     "grade_id": "cell-90e5bf2d532707a7",
     "locked": true,
     "schema_version": 3,
     "solution": false,
     "task": false
    },
    "tags": []
   },
   "source": [
    "Create a code that accepts an input `time_secs` in seconds then prints the value in minutes and seconds.\n",
    "\n",
    "For example, if the elapsed time was `130` seconds, the output would be\n",
    "\n",
    "```\n",
    "2 minutes 10 seconds\n",
    "```"
   ]
  },
  {
   "cell_type": "code",
   "execution_count": 4,
   "id": "Dt6OuP-gAnqu",
   "metadata": {
    "ExecuteTime": {
     "end_time": "2024-01-26T19:06:41.676791Z",
     "start_time": "2024-01-26T19:06:41.674972Z"
    },
    "execution": {
     "iopub.execute_input": "2025-06-15T15:16:42.536240Z",
     "iopub.status.busy": "2025-06-15T15:16:42.535948Z",
     "iopub.status.idle": "2025-06-15T15:16:42.540604Z",
     "shell.execute_reply": "2025-06-15T15:16:42.540007Z",
     "shell.execute_reply.started": "2025-06-15T15:16:42.536222Z"
    },
    "id": "Dt6OuP-gAnqu",
    "nbgrader": {
     "grade": false,
     "grade_id": "cell-490569c100e77829",
     "locked": false,
     "schema_version": 3,
     "solution": true,
     "task": false
    },
    "tags": []
   },
   "outputs": [],
   "source": [
    "# YOUR CODE HERE"
   ]
  }
 ],
 "metadata": {
  "colab": {
   "provenance": []
  },
  "kernelspec": {
   "display_name": "Python 3 (ipykernel)",
   "language": "python",
   "name": "python3"
  },
  "language_info": {
   "codemirror_mode": {
    "name": "ipython",
    "version": 3
   },
   "file_extension": ".py",
   "mimetype": "text/x-python",
   "name": "python",
   "nbconvert_exporter": "python",
   "pygments_lexer": "ipython3",
   "version": "3.9.15"
  }
 },
 "nbformat": 4,
 "nbformat_minor": 5
}
